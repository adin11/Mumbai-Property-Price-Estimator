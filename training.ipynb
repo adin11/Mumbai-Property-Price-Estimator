{
 "cells": [
  {
   "cell_type": "markdown",
   "metadata": {},
   "source": [
    "# Mumbai Property Price Prediction Model:"
   ]
  },
  {
   "cell_type": "code",
   "execution_count": null,
   "metadata": {},
   "outputs": [],
   "source": [
    "import pandas as pd\n",
    "import numpy as np\n",
    "import matplotlib.pyplot as plt\n",
    "import seaborn as sns\n",
    "import sqlite3\n",
    "\n",
    "from sklearn.model_selection import train_test_split\n",
    "from sklearn.linear_model import LinearRegression,Ridge,Lasso\n",
    "from sklearn.metrics import mean_squared_error, r2_score\n",
    "from sklearn.ensemble import RandomForestRegressor\n",
    "from xgboost import XGBRegressor\n",
    "from sklearn.model_selection import GridSearchCV, RandomizedSearchCV, train_test_split\n",
    "\n",
    "import warnings\n",
    "warnings.simplefilter(action='ignore', category=RuntimeWarning)"
   ]
  },
  {
   "cell_type": "markdown",
   "metadata": {},
   "source": [
    "### Establishing connection with the database"
   ]
  },
  {
   "cell_type": "code",
   "execution_count": null,
   "metadata": {},
   "outputs": [
    {
     "name": "stdout",
     "output_type": "stream",
     "text": [
      "Rows and columns\n",
      "(60960, 11)\n"
     ]
    },
    {
     "data": {
      "text/html": [
       "<div>\n",
       "<style scoped>\n",
       "    .dataframe tbody tr th:only-of-type {\n",
       "        vertical-align: middle;\n",
       "    }\n",
       "\n",
       "    .dataframe tbody tr th {\n",
       "        vertical-align: top;\n",
       "    }\n",
       "\n",
       "    .dataframe thead th {\n",
       "        text-align: right;\n",
       "    }\n",
       "</style>\n",
       "<table border=\"1\" class=\"dataframe\">\n",
       "  <thead>\n",
       "    <tr style=\"text-align: right;\">\n",
       "      <th></th>\n",
       "      <th>property_type</th>\n",
       "      <th>furnish_status</th>\n",
       "      <th>bedrooms</th>\n",
       "      <th>carpet_area</th>\n",
       "      <th>bathrooms</th>\n",
       "      <th>balconies</th>\n",
       "      <th>poss_status</th>\n",
       "      <th>location</th>\n",
       "      <th>latitude</th>\n",
       "      <th>longitude</th>\n",
       "      <th>price</th>\n",
       "    </tr>\n",
       "  </thead>\n",
       "  <tbody>\n",
       "    <tr>\n",
       "      <th>0</th>\n",
       "      <td>New Property</td>\n",
       "      <td>Unfurnished</td>\n",
       "      <td>2</td>\n",
       "      <td>761</td>\n",
       "      <td>2</td>\n",
       "      <td>2</td>\n",
       "      <td>Aug '29</td>\n",
       "      <td>Kandivali West</td>\n",
       "      <td>19.207751</td>\n",
       "      <td>72.846389</td>\n",
       "      <td>21800000.0</td>\n",
       "    </tr>\n",
       "    <tr>\n",
       "      <th>1</th>\n",
       "      <td>New Property</td>\n",
       "      <td>Unfurnished</td>\n",
       "      <td>2</td>\n",
       "      <td>684</td>\n",
       "      <td>2</td>\n",
       "      <td>NaN</td>\n",
       "      <td>Dec '27</td>\n",
       "      <td>Sion</td>\n",
       "      <td>19.052807</td>\n",
       "      <td>72.872584</td>\n",
       "      <td>21400000.0</td>\n",
       "    </tr>\n",
       "    <tr>\n",
       "      <th>2</th>\n",
       "      <td>New Property</td>\n",
       "      <td>Semi-Furnished</td>\n",
       "      <td>1</td>\n",
       "      <td>440</td>\n",
       "      <td>2</td>\n",
       "      <td>NaN</td>\n",
       "      <td>Dec '26</td>\n",
       "      <td>Navghar Road</td>\n",
       "      <td>19.304890</td>\n",
       "      <td>72.866211</td>\n",
       "      <td>8156093.0</td>\n",
       "    </tr>\n",
       "    <tr>\n",
       "      <th>3</th>\n",
       "      <td>New Property</td>\n",
       "      <td>Unfurnished</td>\n",
       "      <td>1</td>\n",
       "      <td>380</td>\n",
       "      <td>1</td>\n",
       "      <td>NaN</td>\n",
       "      <td>Dec '27</td>\n",
       "      <td>Chembur</td>\n",
       "      <td>19.064140</td>\n",
       "      <td>72.899629</td>\n",
       "      <td>9690000.0</td>\n",
       "    </tr>\n",
       "    <tr>\n",
       "      <th>4</th>\n",
       "      <td>New Property</td>\n",
       "      <td>Unfurnished</td>\n",
       "      <td>2</td>\n",
       "      <td>950</td>\n",
       "      <td>2</td>\n",
       "      <td>NaN</td>\n",
       "      <td>Ready to Move</td>\n",
       "      <td>Kandivali West</td>\n",
       "      <td>19.212644</td>\n",
       "      <td>72.832016</td>\n",
       "      <td>22252500.0</td>\n",
       "    </tr>\n",
       "  </tbody>\n",
       "</table>\n",
       "</div>"
      ],
      "text/plain": [
       "  property_type  furnish_status bedrooms carpet_area bathrooms balconies  \\\n",
       "0  New Property     Unfurnished        2         761         2         2   \n",
       "1  New Property     Unfurnished        2         684         2       NaN   \n",
       "2  New Property  Semi-Furnished        1         440         2       NaN   \n",
       "3  New Property     Unfurnished        1         380         1       NaN   \n",
       "4  New Property     Unfurnished        2         950         2       NaN   \n",
       "\n",
       "     poss_status        location   latitude  longitude       price  \n",
       "0        Aug '29  Kandivali West  19.207751  72.846389  21800000.0  \n",
       "1        Dec '27            Sion  19.052807  72.872584  21400000.0  \n",
       "2        Dec '26    Navghar Road  19.304890  72.866211   8156093.0  \n",
       "3        Dec '27         Chembur  19.064140  72.899629   9690000.0  \n",
       "4  Ready to Move  Kandivali West  19.212644  72.832016  22252500.0  "
      ]
     },
     "execution_count": 91,
     "metadata": {},
     "output_type": "execute_result"
    }
   ],
   "source": [
    "conn = sqlite3.connect('real_estate.db')\n",
    "print(conn)\n",
    "\n",
    "df = pd.read_sql_query(\"select * from properties\",conn)\n",
    "print(df.shape)\n",
    "df.head(3)"
   ]
  },
  {
   "cell_type": "code",
   "execution_count": 92,
   "metadata": {},
   "outputs": [
    {
     "data": {
      "text/html": [
       "<div>\n",
       "<style scoped>\n",
       "    .dataframe tbody tr th:only-of-type {\n",
       "        vertical-align: middle;\n",
       "    }\n",
       "\n",
       "    .dataframe tbody tr th {\n",
       "        vertical-align: top;\n",
       "    }\n",
       "\n",
       "    .dataframe thead th {\n",
       "        text-align: right;\n",
       "    }\n",
       "</style>\n",
       "<table border=\"1\" class=\"dataframe\">\n",
       "  <thead>\n",
       "    <tr style=\"text-align: right;\">\n",
       "      <th></th>\n",
       "      <th>latitude</th>\n",
       "      <th>longitude</th>\n",
       "      <th>price</th>\n",
       "    </tr>\n",
       "  </thead>\n",
       "  <tbody>\n",
       "    <tr>\n",
       "      <th>count</th>\n",
       "      <td>60960.000000</td>\n",
       "      <td>60960.000000</td>\n",
       "      <td>6.080200e+04</td>\n",
       "    </tr>\n",
       "    <tr>\n",
       "      <th>mean</th>\n",
       "      <td>18.142453</td>\n",
       "      <td>69.345653</td>\n",
       "      <td>3.291852e+07</td>\n",
       "    </tr>\n",
       "    <tr>\n",
       "      <th>std</th>\n",
       "      <td>4.168328</td>\n",
       "      <td>15.768332</td>\n",
       "      <td>4.968846e+07</td>\n",
       "    </tr>\n",
       "    <tr>\n",
       "      <th>min</th>\n",
       "      <td>0.000000</td>\n",
       "      <td>0.000000</td>\n",
       "      <td>1.000000e+05</td>\n",
       "    </tr>\n",
       "    <tr>\n",
       "      <th>25%</th>\n",
       "      <td>19.062055</td>\n",
       "      <td>72.836888</td>\n",
       "      <td>1.919300e+07</td>\n",
       "    </tr>\n",
       "    <tr>\n",
       "      <th>50%</th>\n",
       "      <td>19.141193</td>\n",
       "      <td>72.863441</td>\n",
       "      <td>2.758600e+07</td>\n",
       "    </tr>\n",
       "    <tr>\n",
       "      <th>75%</th>\n",
       "      <td>19.205002</td>\n",
       "      <td>72.915620</td>\n",
       "      <td>3.720000e+07</td>\n",
       "    </tr>\n",
       "    <tr>\n",
       "      <th>max</th>\n",
       "      <td>22.445813</td>\n",
       "      <td>88.397428</td>\n",
       "      <td>9.680000e+09</td>\n",
       "    </tr>\n",
       "  </tbody>\n",
       "</table>\n",
       "</div>"
      ],
      "text/plain": [
       "           latitude     longitude         price\n",
       "count  60960.000000  60960.000000  6.080200e+04\n",
       "mean      18.142453     69.345653  3.291852e+07\n",
       "std        4.168328     15.768332  4.968846e+07\n",
       "min        0.000000      0.000000  1.000000e+05\n",
       "25%       19.062055     72.836888  1.919300e+07\n",
       "50%       19.141193     72.863441  2.758600e+07\n",
       "75%       19.205002     72.915620  3.720000e+07\n",
       "max       22.445813     88.397428  9.680000e+09"
      ]
     },
     "execution_count": 92,
     "metadata": {},
     "output_type": "execute_result"
    }
   ],
   "source": [
    "df.describe()"
   ]
  },
  {
   "cell_type": "code",
   "execution_count": 93,
   "metadata": {},
   "outputs": [
    {
     "name": "stdout",
     "output_type": "stream",
     "text": [
      "<class 'pandas.core.frame.DataFrame'>\n",
      "RangeIndex: 60960 entries, 0 to 60959\n",
      "Data columns (total 11 columns):\n",
      " #   Column          Non-Null Count  Dtype  \n",
      "---  ------          --------------  -----  \n",
      " 0   property_type   60950 non-null  object \n",
      " 1   furnish_status  60591 non-null  object \n",
      " 2   bedrooms        60960 non-null  object \n",
      " 3   carpet_area     60960 non-null  object \n",
      " 4   bathrooms       60775 non-null  object \n",
      " 5   balconies       31965 non-null  object \n",
      " 6   poss_status     60689 non-null  object \n",
      " 7   location        60540 non-null  object \n",
      " 8   latitude        60960 non-null  float64\n",
      " 9   longitude       60960 non-null  float64\n",
      " 10  price           60802 non-null  float64\n",
      "dtypes: float64(3), object(8)\n",
      "memory usage: 5.1+ MB\n"
     ]
    }
   ],
   "source": [
    "df.info()"
   ]
  },
  {
   "cell_type": "markdown",
   "metadata": {},
   "source": [
    "# Data Cleaning and EDA:"
   ]
  },
  {
   "cell_type": "markdown",
   "metadata": {},
   "source": [
    "\n",
    "#### Fixing datatype mismatch :"
   ]
  },
  {
   "cell_type": "code",
   "execution_count": 94,
   "metadata": {},
   "outputs": [
    {
     "name": "stdout",
     "output_type": "stream",
     "text": [
      "property_type      object\n",
      "furnish_status     object\n",
      "bedrooms            Int64\n",
      "carpet_area         Int64\n",
      "bathrooms           Int64\n",
      "balconies           Int64\n",
      "poss_status        object\n",
      "location           object\n",
      "latitude          float64\n",
      "longitude         float64\n",
      "price               Int64\n",
      "dtype: object\n"
     ]
    }
   ],
   "source": [
    "df['bedrooms'] = pd.to_numeric(df['bedrooms'], errors='coerce').astype('Int64')\n",
    "df['carpet_area'] = pd.to_numeric(df['carpet_area'], errors='coerce').astype('Int64')\n",
    "df['balconies'] = pd.to_numeric(df['balconies'], errors='coerce').astype('Int64')\n",
    "df['price'] = pd.to_numeric(df['price'], errors='coerce').astype('Int64')\n",
    "df['bathrooms'] = pd.to_numeric(df['bathrooms'],errors='coerce').astype('Int64')\n",
    "\n",
    "print(df.dtypes)"
   ]
  },
  {
   "cell_type": "markdown",
   "metadata": {},
   "source": [
    "### Imputing and Fixing Null Values:"
   ]
  },
  {
   "cell_type": "code",
   "execution_count": 95,
   "metadata": {},
   "outputs": [
    {
     "name": "stdout",
     "output_type": "stream",
     "text": [
      "Null values in the dataset\n",
      "property_type        10\n",
      "furnish_status      369\n",
      "bedrooms             66\n",
      "carpet_area         238\n",
      "bathrooms           202\n",
      "balconies         29015\n",
      "poss_status         271\n",
      "location            420\n",
      "latitude              0\n",
      "longitude             0\n",
      "price               158\n",
      "dtype: int64\n"
     ]
    }
   ],
   "source": [
    "print(\"Null values in the dataset\")\n",
    "print(df.isna().sum())"
   ]
  },
  {
   "cell_type": "code",
   "execution_count": 96,
   "metadata": {},
   "outputs": [
    {
     "name": "stdout",
     "output_type": "stream",
     "text": [
      "property_type      10\n",
      "furnish_status    369\n",
      "bedrooms           66\n",
      "carpet_area       238\n",
      "bathrooms         202\n",
      "balconies           0\n",
      "poss_status       271\n",
      "location          420\n",
      "latitude            0\n",
      "longitude           0\n",
      "price             158\n",
      "dtype: int64\n"
     ]
    }
   ],
   "source": [
    "df['balconies'].fillna(0,inplace=True)\n",
    "print(df.isna().sum())"
   ]
  },
  {
   "cell_type": "code",
   "execution_count": 97,
   "metadata": {},
   "outputs": [
    {
     "name": "stdout",
     "output_type": "stream",
     "text": [
      "property_type      10\n",
      "furnish_status    369\n",
      "bedrooms            0\n",
      "carpet_area       238\n",
      "bathrooms         202\n",
      "balconies           0\n",
      "poss_status       271\n",
      "location          420\n",
      "latitude            0\n",
      "longitude           0\n",
      "price             158\n",
      "dtype: int64\n"
     ]
    }
   ],
   "source": [
    "df['bedrooms'].fillna(0,inplace=True)\n",
    "print(df.isna().sum())"
   ]
  },
  {
   "cell_type": "code",
   "execution_count": 98,
   "metadata": {},
   "outputs": [
    {
     "name": "stdout",
     "output_type": "stream",
     "text": [
      "property_type       1\n",
      "furnish_status    265\n",
      "bedrooms            0\n",
      "carpet_area       165\n",
      "bathrooms         101\n",
      "balconies           0\n",
      "poss_status       167\n",
      "location          402\n",
      "latitude            0\n",
      "longitude           0\n",
      "price               0\n",
      "dtype: int64\n"
     ]
    }
   ],
   "source": [
    "df.dropna(subset=['price'], inplace=True)\n",
    "print(df.isna().sum())"
   ]
  },
  {
   "cell_type": "code",
   "execution_count": 99,
   "metadata": {},
   "outputs": [
    {
     "name": "stdout",
     "output_type": "stream",
     "text": [
      "(59866, 11)\n",
      "property_type     0\n",
      "furnish_status    0\n",
      "bedrooms          0\n",
      "carpet_area       0\n",
      "bathrooms         0\n",
      "balconies         0\n",
      "poss_status       0\n",
      "location          0\n",
      "latitude          0\n",
      "longitude         0\n",
      "price             0\n",
      "dtype: int64\n"
     ]
    }
   ],
   "source": [
    "df.dropna(inplace=True)\n",
    "print(df.shape)\n",
    "print(df.isna().sum())"
   ]
  },
  {
   "cell_type": "code",
   "execution_count": 100,
   "metadata": {},
   "outputs": [
    {
     "data": {
      "text/html": [
       "<div>\n",
       "<style scoped>\n",
       "    .dataframe tbody tr th:only-of-type {\n",
       "        vertical-align: middle;\n",
       "    }\n",
       "\n",
       "    .dataframe tbody tr th {\n",
       "        vertical-align: top;\n",
       "    }\n",
       "\n",
       "    .dataframe thead th {\n",
       "        text-align: right;\n",
       "    }\n",
       "</style>\n",
       "<table border=\"1\" class=\"dataframe\">\n",
       "  <thead>\n",
       "    <tr style=\"text-align: right;\">\n",
       "      <th></th>\n",
       "      <th>property_type</th>\n",
       "      <th>furnish_status</th>\n",
       "      <th>bedrooms</th>\n",
       "      <th>carpet_area</th>\n",
       "      <th>bathrooms</th>\n",
       "      <th>balconies</th>\n",
       "      <th>poss_status</th>\n",
       "      <th>location</th>\n",
       "      <th>latitude</th>\n",
       "      <th>longitude</th>\n",
       "      <th>price</th>\n",
       "    </tr>\n",
       "  </thead>\n",
       "  <tbody>\n",
       "    <tr>\n",
       "      <th>0</th>\n",
       "      <td>New Property</td>\n",
       "      <td>Unfurnished</td>\n",
       "      <td>2</td>\n",
       "      <td>761</td>\n",
       "      <td>2</td>\n",
       "      <td>2</td>\n",
       "      <td>Aug '29</td>\n",
       "      <td>Kandivali West</td>\n",
       "      <td>19.207751</td>\n",
       "      <td>72.846389</td>\n",
       "      <td>21800000</td>\n",
       "    </tr>\n",
       "    <tr>\n",
       "      <th>1</th>\n",
       "      <td>New Property</td>\n",
       "      <td>Unfurnished</td>\n",
       "      <td>2</td>\n",
       "      <td>684</td>\n",
       "      <td>2</td>\n",
       "      <td>0</td>\n",
       "      <td>Dec '27</td>\n",
       "      <td>Sion</td>\n",
       "      <td>19.052807</td>\n",
       "      <td>72.872584</td>\n",
       "      <td>21400000</td>\n",
       "    </tr>\n",
       "    <tr>\n",
       "      <th>2</th>\n",
       "      <td>New Property</td>\n",
       "      <td>Semi-Furnished</td>\n",
       "      <td>1</td>\n",
       "      <td>440</td>\n",
       "      <td>2</td>\n",
       "      <td>0</td>\n",
       "      <td>Dec '26</td>\n",
       "      <td>Navghar Road</td>\n",
       "      <td>19.304890</td>\n",
       "      <td>72.866211</td>\n",
       "      <td>8156093</td>\n",
       "    </tr>\n",
       "  </tbody>\n",
       "</table>\n",
       "</div>"
      ],
      "text/plain": [
       "  property_type  furnish_status  bedrooms  carpet_area  bathrooms  balconies  \\\n",
       "0  New Property     Unfurnished         2          761          2          2   \n",
       "1  New Property     Unfurnished         2          684          2          0   \n",
       "2  New Property  Semi-Furnished         1          440          2          0   \n",
       "\n",
       "  poss_status        location   latitude  longitude     price  \n",
       "0     Aug '29  Kandivali West  19.207751  72.846389  21800000  \n",
       "1     Dec '27            Sion  19.052807  72.872584  21400000  \n",
       "2     Dec '26    Navghar Road  19.304890  72.866211   8156093  "
      ]
     },
     "execution_count": 100,
     "metadata": {},
     "output_type": "execute_result"
    }
   ],
   "source": [
    "df.head(3)"
   ]
  },
  {
   "cell_type": "markdown",
   "metadata": {},
   "source": [
    "### Modifying Column Values:"
   ]
  },
  {
   "cell_type": "code",
   "execution_count": 101,
   "metadata": {},
   "outputs": [
    {
     "data": {
      "text/plain": [
       "Index(['property_type', 'furnish_status', 'poss_status', 'location'], dtype='object')"
      ]
     },
     "execution_count": 101,
     "metadata": {},
     "output_type": "execute_result"
    }
   ],
   "source": [
    "categorical_cols = df.select_dtypes(exclude=['Int64','float64']).columns\n",
    "categorical_cols"
   ]
  },
  {
   "cell_type": "code",
   "execution_count": 102,
   "metadata": {},
   "outputs": [
    {
     "name": "stdout",
     "output_type": "stream",
     "text": [
      "4\n",
      "['New Property' 'Resale' 'Other' 'Rent']\n",
      "3\n",
      "['Unfurnished' 'Semi-Furnished' 'Furnished']\n",
      "34\n",
      "[\"Aug '29\" \"Dec '27\" \"Dec '26\" 'Ready to Move' \"Oct '29\" \"Jun '30\"\n",
      " \"Sep '30\" \"Dec '30\" \"Aug '28\" \"Jun '27\" \"Dec '28\" \"Dec '29\" \"Jan '28\"\n",
      " \"Jun '25\" \"Mar '31\" \"May '25\" \"Mar '27\" \"Mar '29\" 'Ready To Move'\n",
      " \"Sep '28\" \"Dec '25\" \"Oct '27\" \"Nov '27\" \"Oct '31\" \"Mar '28\"\n",
      " 'Under Construction' \"Mar '26\" \"Mar '32\" \"Jun '31\" \"Jul '28\" \"May '28\"\n",
      " 'Ongoing' 'Immediately' \"Jun '26\"]\n",
      "698\n",
      "['Kandivali West' 'Sion' 'Navghar Road' 'Chembur' 'Borivali East'\n",
      " 'Mulund West' 'Bandra East' 'Andheri West' 'Kanjurmarg East' 'Dindoshi'\n",
      " 'Juhu' 'Wadala' 'Powai' 'Malad West' 'Bhandup West' 'Kandivali East'\n",
      " 'Borivali West' 'Tardeo' 'Mulund East' 'Malad East' 'Mira Road East'\n",
      " 'Lower Parel West' 'Bandra West' 'Parel' 'Sewri' 'Worli' 'Goregaon West'\n",
      " 'Vile Parle East' 'Lal Baug' 'Bandra Kurla Complex' 'Kurla' 'Borivali'\n",
      " 'Nahur East' 'Matunga East' 'Lower Parel' 'Byculla' 'Mahalakshmi'\n",
      " 'Vikhroli West' 'Vasai West' 'Byculla East' 'Goregaon East' 'Chandivali'\n",
      " 'Andheri East' 'Ghatkopar East' 'Vikhroli East' 'Shivaji Park'\n",
      " 'Santacruz East' 'Shell Colony' 'Hiranandani Gardens'\n",
      " 'Rambaug Hanuman Nagar' 'Shimpoli' 'Worli Naka' 'Kanchpada' 'Chinchpada'\n",
      " 'Siddharth Nagar Borivali East' 'Goregaon' 'Bhagwansing Colony'\n",
      " 'Jogeshwari Vikhroli Link Road' 'Ghatkopar West' 'Wadala East'\n",
      " 'Prabhadevi' 'Ashok Nagar Borivali West' 'Mount Mary' 'LBS Road'\n",
      " 'Sahyadri Nagar Chembur' 'Dadar West' 'Godrej Colony' 'Kurla East'\n",
      " 'Khar Danda' 'Vasant Oscar' 'New Marine Lines' 'Swastik Society'\n",
      " 'Nehru Nagar Lower Parel West' 'Ghatkopar' 'Kannamwar Nagar 1'\n",
      " 'Santacruz West' 'Versova Andheri West' 'SV Patel Nagar Andheri West'\n",
      " 'Khar West' 'Charkop Gaon' 'Sector 5 Charkop'\n",
      " 'Yashwant Nagar Goregaon West' 'Matunga' 'Dahisar East' 'Deonar Chembur'\n",
      " 'Mira Bhayandar Road' 'Best Nagar Goregaon West' 'Magathane'\n",
      " 'Sion Koliwada' 'Dadar East' 'Kanjurmarg West' 'Chembur East'\n",
      " 'Raje Shivaji Nagar' 'Sahakar Nagar Andheri West' 'Garodia Nagar'\n",
      " 'Virar West' 'Naigaon East' 'Dahanukar Wadi'\n",
      " 'Mahavir Nagar Kandivali West' 'Dadar Parsi Colony' 'Dahisar West'\n",
      " 'Virar' 'Vasai' 'Vakola' 'Jawahar Nagar Goregaon West'\n",
      " 'Ekta Nagar Mazgaon' 'Wadala West' 'GKW Colony' 'Tilak Nagar Chembur'\n",
      " 'Anand Nagar Dahisar East' 'Lokhandwala Complex Andheri West'\n",
      " 'Veera Desai Road' 'Deonar Govandi East' 'Hatkesh Udhog Nagar'\n",
      " 'Prabhat Colony' 'Madh' 'Manvelpada Gaon' 'Shanti Nagar Mira Road'\n",
      " 'Mira Road Area' 'North Avenue' 'Grant Road' 'JB Nagar' 'Pedder Road'\n",
      " 'Matunga Central Railway Workshop' 'Thakur Complex' 'Hanuman Nagar Worli'\n",
      " 'Thakur Village, Kandivali East' 'Fort' 'Mankhurd' 'Bhavani Nagar Marol'\n",
      " 'Juhu Tara Road' 'Collectors Colony' 'Juhu Versova Link Road' 'Mahim'\n",
      " 'Marol' 'Bhayandar East' 'Jogeshwari East' 'Century Bazaar'\n",
      " 'Jogeshwari West' 'Dr Baba Saheb Ambedkar Road' 'Sindhi Society Chembur'\n",
      " 'Film City Road' 'Grant Road East' 'Chincholi Bunder Road' 'Kandarpada'\n",
      " 'Grant Road West' 'Andheri' 'New DN Nagar' 'Sion Chunabhatti'\n",
      " 'Pathakwadi' 'Amrut Nagar Ghatkopar West' 'Mazgaon'\n",
      " 'Govandi Station Road' 'Agripada' 'Sion East' 'Vile Parle'\n",
      " 'Mumbai Central' 'Motilal Nagar 1' 'Kurla West' 'Bandra' 'Babhai Naka'\n",
      " 'Sector 1 Charkop' 'MIDC Mira Road East' 'Kanjurmarg' 'Miragaon'\n",
      " 'Dattapada' 'Matunga West' 'Seven Bungalows' 'Mahalaxmi Sindhi Colony'\n",
      " 'Mhatre Wadi Dahisar West' 'Mulund Colony' 'Byculla West' 'Colaba'\n",
      " 'Kastur Park' 'Kapaswadi' 'Padma Nagar Borivali West'\n",
      " 'Madhukunj Society Borivali East' 'Rajawadi Colony' 'Pirojshanagar'\n",
      " 'Dattani Park' 'Vile Parle West' 'Upper Trombay' 'Vinay Nagar'\n",
      " 'Kanjur Village' 'Link Road' 'Saki Naka' 'Vikhroli Village'\n",
      " 'Evershine Nagar' 'Chembur West' 'Four Bungalows' 'Oshiwara' 'Amboli'\n",
      " 'Sundar Nagar Santacruz East' 'Cuffe Parade' 'Pestom Sagar Colony'\n",
      " 'Vasai East' 'Kemps Corner Malabar Hill' 'Rawalpada' 'Liberty Garden'\n",
      " 'Takshashila Nagar' 'Siddharth Nagar Goregaon West' 'Walkeshwar'\n",
      " 'Saki Vihar Road' 'Park Road' 'Ashok Nagar Kandivali East' 'Nala Sopara'\n",
      " 'Gopal Nagar' 'Daulat Nagar Borivali East' 'Virar East' 'Juhu Scheme'\n",
      " 'Veena Nagar' 'Kalina' 'Malad' 'Nalasopara West' 'Fatherwadi' 'Ashok Van'\n",
      " 'Sector 9 Charkop' 'Sunder Nagar Santacruz East' 'Dongri'\n",
      " 'Agripada Santacruz East' 'Naigaon West' 'Beverly Park'\n",
      " 'Sector 8 Charkop' 'Khar' 'Pathan Wadi' 'Upper Govind Nagar'\n",
      " 'Elphinstone' 'Gamdevi' 'Vaishali Nagar Dahisar' 'Gorai 2' 'Gorai 3'\n",
      " 'Ramdev Park' 'Hindu Colony Dadar East' 'Malvani' 'Jankalyan Nagar'\n",
      " 'IC Colony' 'Battipada' 'Dombivli East' 'Ulhasnagar' 'Tambe Nagar'\n",
      " 'NNP Colony' 'Kalpak Estate' 'Poonam Gardens' 'Chikoowadi Borivali West'\n",
      " 'Prem Nagar Goregaon West' 'Bhayandar West' 'Vidyavihar' 'Ambivali'\n",
      " 'Napean Sea Road' 'JVPD Scheme' 'Sunder Nagar Malad West' 'Rajan Pada'\n",
      " 'Ashok Nagar Mulund West' 'Chakala' 'Nehru Nagar Kurla'\n",
      " 'Lokmanya Nagar Joshi Vadi' 'Chunabhatti' 'TPS III'\n",
      " 'MHADA Colony Mulund East' 'Indira Nagar Jogeshwari East'\n",
      " 'Amar Nagar Mulund West' 'Bhoiwada' 'Kalbadevi' 'Akurli Nagar' 'Tunga'\n",
      " 'Rajendra Nagar' 'Mira Road' 'RPF Colony' 'Mustafa Bazar'\n",
      " 'Mathuradas Colony' 'Pratiksha Nagar Vakola' 'Valmik Nagar'\n",
      " 'Panchsheel Nagar Bhandup West' 'Linking Road' 'Chincholi Phatak'\n",
      " 'Adarsh Nagar Malad West' 'Pali Hill' 'Mahim West'\n",
      " 'Gavanpada Mulund East' 'Bhandup' 'Sane Guruji Nagar Mulund East'\n",
      " 'Malabar Hill' 'Lokhandwala Township Kandivali East' 'Devipada'\n",
      " 'Kurar Village' 'Kandivali' 'LIC Colony Vile Parle West' 'Swastik Park'\n",
      " 'Pant Nagar' 'Nalasopara East' 'Jai Shastri Nagar' 'DN Nagar' 'Govandi'\n",
      " 'Chikhal Dongari' 'Poonam Nagar Jogeshwari East' 'Nensey Colony'\n",
      " 'Sindhu Nagar' 'Mira Bhayandar' 'Raheja Vihar' 'MHADA Colony 20'\n",
      " 'Mindspace' 'Ghatla' 'Motilal Nagar 2' 'Mitha Nagar' 'Bhandup East'\n",
      " 'Gorai' 'Nityanand Nagar Ghatkopar West' 'Gokuldham Colony Goregaon East'\n",
      " 'Bander Pakhadi' 'Thakur Village Road' 'Kalachauki' 'Qureshi Nagar'\n",
      " 'Mulund' 'Natwar Nagar' 'Azad Nagar 2' 'Dahisar' 'Samel Pada' 'Naupada'\n",
      " 'Amrut Nagar Jogeshwari West' 'Chimbai Village' 'Jaydev Singh Nagar'\n",
      " 'Shri Nagar Goregaon West' 'Y K Nagar' 'Sadan Wadi' 'Tulshet Pada'\n",
      " 'Mamledarwadi' 'Sector 2 Charkop' 'Ekta Nagar Kandivali West'\n",
      " 'Golani Naka' 'Dhumal Nagar' 'Tagore Nagar' 'Agashi'\n",
      " 'Virar Nallasopara Link Road' 'Sheetal Nagar Mira Road East'\n",
      " 'Shanti Park' 'Samata Nagar Thakur Village' 'Suresh Nagar Andheri'\n",
      " 'Shiv Shakti Nagar Collector Colony' 'Poonam Sagar Complex'\n",
      " 'Chembur Colony' 'Koliwada Sion' 'Sion West' 'Central Area'\n",
      " 'Damodar Park' 'Pleasant Park' 'Motilal Nagar'\n",
      " 'Yashwant Nagar Santacruz East' 'Gandhi Bazar' 'MHADA Colony 19'\n",
      " 'Gulmohar Road' 'Barve Nagar' 'Aarey Colony' 'Piramal Nagar' 'Bhatpada'\n",
      " 'Acharya Donde Marg' 'Jarimari' 'Mira Bhayander Road'\n",
      " 'Nirmal Nagar Mulund West' 'Chandan Wadi' 'Lower Govind Nagar'\n",
      " 'Old Nagardas Road' 'Pydhonie' 'MHADA Colony Chunabhatti'\n",
      " 'Ganesh Nagar Kalaram Nagar' 'Gokul Dham Society' 'Akurli Road' 'Gorai 1'\n",
      " 'Lal Bahadur Shastri Road' 'New MHB Colony' 'Naigaon Juchandra Road'\n",
      " 'Chandavarkar Road' 'Marve Road' 'Military Road' 'Devidas Road'\n",
      " 'Yari Road' 'Sector 4 Charkop' 'Appa Pada' 'Kajupada Kurla'\n",
      " 'Vasant Vihar Malabar Hill' 'Swapna Nagari' 'Tirupati Nagar'\n",
      " 'Sector 3 Charkop' 'Panchal Nagar Lakshmiben Chedda Nagar' 'Parle Colony'\n",
      " 'Deonar Farm Road' 'MHB Colony Borivali West' 'Utkarsh Nagar'\n",
      " 'Moti Nagar' 'Khardev Nagar' 'Mogra Pada' 'Matunga Labour Camp'\n",
      " 'Kashi Nagar Bhayandar' 'Girgaon' 'Marol Maroshi Road' 'New Link Road'\n",
      " 'Navi Mumbai-Khargar-Panvel' 'Maheshwari Nagar' 'Waliv' 'Bhuleshwar'\n",
      " 'Nahur' 'Bhulabhai Desai Marg' 'Jagjivan Ram Nagar' 'Mahajan Wadi'\n",
      " 'Abhyudaya Nagar' 'Gundavali Gaothan' 'Chedda Nagar'\n",
      " 'Sher E Punjab Society' 'Khar East' 'Ballard Estate' 'Bhalchandra Nagar'\n",
      " 'Central Avenue Road' 'Shankarwadi Jogeshwari East' 'Patliputra'\n",
      " 'Ashtavinayak Nagar' 'Navghar Naka' 'Nagpada' 'Ganesh Gully'\n",
      " 'Railway Colony Lower Parel' 'Mint Colony Parel' 'Navjivan Society'\n",
      " 'Vaishali Nagar Jogeshwari West' 'Swami Samarth Nagar' 'Malcolm Baug'\n",
      " 'Gandhi Nagar Bandra East' 'Kala Nagar' 'Bharat Nagar Bandra East'\n",
      " 'Charkop Industrial Estate' 'Sector 11 Shanti Nagar' 'Vidyavihar West'\n",
      " 'Dr Dadabhai Naoroji Road' 'GTB Nagar Sindh Seva Samiti Nagar'\n",
      " 'Tata Nagar Bhandup East' 'Koldongri Andheri East'\n",
      " 'Babrekar Nagar Kandivali West' 'Customs Colony'\n",
      " 'Azad Nagar Andheri East' 'Ram Nagar Goregaon East' 'Kasam Baug'\n",
      " 'Dr Charatsingh Colony' 'Charni Road' 'Altamount Road'\n",
      " 'MIDC Industrial Estate' 'Atur Park' 'Vadavali'\n",
      " 'LIC Housing Colony Mulund East' 'Royal Palms Estate' 'Dharavi'\n",
      " 'Bhandup Village' 'Shanti Nagar Vakola' 'Chembur Camp' 'Ekvira Darshan'\n",
      " 'Evershine City Gokhivare Road' 'Jay Prakash Nagar Goregaon East' 'Dadar'\n",
      " 'Godrej Hillside Colony' 'Azad Nagar Malvani' 'Vasai Road West'\n",
      " 'Dalal Estate' 'VB Phadake Road' 'Churchgate' 'Gangawadi' 'Kasaravadi'\n",
      " 'Vidya Vihar East' 'Tilak Nagar Goregaon West' 'Raheja Exotica'\n",
      " 'Primal Nagar' 'Naigaon Palghar' 'Bangur Nagar' 'Park Site Colony'\n",
      " 'Govind Nagar Borivali West' 'Pascal Wadi' 'Fateh Baug' 'Trombay'\n",
      " 'Cumballa Hill' 'Bhawani Sankar' 'Patil Wadi Madh'\n",
      " 'Rustomjee Global City' 'Gorai Uttan Road' 'Diwanman' 'Sativali Naka'\n",
      " 'Bhakti Park' 'Hasmukh Nagar' 'Eksar Road' 'Jacob Circle' 'Nariman Point'\n",
      " 'Swatantryaveer Savarkar Road' 'Nahars Amrit Shakti Road'\n",
      " 'Masjid Bandar East' 'Chuim' 'Sion Dharavi' 'Vazira Naka Borivali West'\n",
      " 'Sector 7 Charkop' 'Pimpripada' 'Dev Nagar' 'Krishna Nagar Parel'\n",
      " 'Co Operative Housing Society Bhandup West' 'Dhuru Wadi Dadar West'\n",
      " 'Marine Lines' 'Masjid Bandar' 'Mandvi' 'Kothu Wadi'\n",
      " 'Kokan Nagar Bhandup West' 'Phase 1 Indralok' 'Lower Parel East'\n",
      " 'Senapati Bapat Marg' 'Samarth Krupa Nagar' 'Devki Nagar'\n",
      " 'Netaji Nagar Kurla West' 'Juhu Lane' 'Matanpur Nagar' 'Miniland'\n",
      " 'Mohammed Ali Road' 'Chikuwadi Malad West' 'Govind Nagar Bhandup West'\n",
      " 'Daulat Nagar Juhu' 'Yamuna Nagar Andheri West' 'Gilbert Hill'\n",
      " 'Indira Nagar Vile Parle West' 'Airports Authority Colony'\n",
      " 'Suresh Colony' 'Everard Nagar' 'Kulupwadi' 'Bhayandar'\n",
      " 'Nirmal Nagar Bandra East' 'Gauri Shankar Wadi No 2' 'Suchi Dham'\n",
      " 'Vikhroli' 'Panvel' 'Santacruz' 'Vaishali Nagar Mulund West' 'Orlem'\n",
      " 'Chhatrapati Shivaji Road' 'Neelam Nagar Society'\n",
      " 'Bhatwadi Ghatkopar West' 'Sariput Nagar' 'Jogeshwari' 'Antop Hill'\n",
      " 'Ratan Nagar Borivali East' 'Subhash Nagar Jogeshwari East' 'Chinchpokli'\n",
      " 'Bolinj' 'Chincholi Bunder' 'Narangi Bypass Road' 'Marine Drive'\n",
      " 'Umerkhadi' 'Premier Residencies' 'Uttan' 'Shimpoli Road' 'Kashimira'\n",
      " 'Ganesh Nagar Dahisar East' 'Vidya Vihar Mulund West' 'Swaraj Nagar'\n",
      " 'Western Express Highway' 'Breach Candy' 'Shitladevi Chawl' 'Morya Nagar'\n",
      " 'Ghodapdeo' 'Mohili' 'Santosh Nagar' 'Dockyard Road'\n",
      " 'Sector 8 Shanti Nagar' 'Friends Colony Hallow Pul' 'Bhendi Bazaar'\n",
      " 'Behram Baug' 'Chirag Nagar' 'Kannamwar Nagar 2'\n",
      " 'LIC Colony Vardhman Nagar' 'Chandivali Farm Road'\n",
      " 'Jawahar Nagar Cama Industrial Estate' 'MHADA Colony Chandivali'\n",
      " 'Tapovan Housing Complex' 'Ambika Nagar' 'Manori'\n",
      " 'Industrial Area Bhandup West' 'Bandrekar Wadi' 'Marve Village'\n",
      " 'Hemu Colony' 'Lallubhai Compound' 'Pai Nagar' 'Ambawadi Nalasopara East'\n",
      " 'Goregaon Mulund Link Road' 'Hari Om Nagar' 'Ramabai Ambedkar Nagar'\n",
      " 'Sector 1 Chedda Nagar' 'Shivaji Nagar Bhandup West' 'Sindhu Wadi'\n",
      " 'Mahada Layout' 'Model Town Govardhan Nagar' 'Kashigaon'\n",
      " 'Kokan Nagar Indira Nagar' 'Sainik Nagar' 'Buddha Galli'\n",
      " 'Vikhroli Park Site' 'Ekta Nagar Malad West' 'Agashi Chalpeth Road'\n",
      " 'Evershine City' 'Shastri Nagar Mitha Nagar' 'Srishti Complex'\n",
      " 'Wadavali Village' 'Penkarpada' 'Collector Colony'\n",
      " 'Shyam Nagar Jogeshwari East' 'Adarsh Nagar Jogeshwari West'\n",
      " 'Yashwanth Nagar' 'Gautam Nagar Jogeshwari West' 'Hira Nagar'\n",
      " 'Bangalipura' 'Kalbadevi Road' 'Kamani' 'Shastri Nagar Santacruz West'\n",
      " 'Marine Lines East' 'Takshila Colony' 'Khetwadi' 'Ambedkar Nagar Colony'\n",
      " 'Haji Ali' 'Ghodbunder Road' 'LIC Colony Borivali West'\n",
      " 'BMC Colony Kurla West' 'RTO Colony' 'Prathna Samaj'\n",
      " 'Dhaku Prabhuchi Wadi' 'Sarvodaya Nagar Bhandup West'\n",
      " 'Lokmanya Tilak Nagar Maharashtra Nagar' 'Ketkipada' 'Govandi East'\n",
      " 'Vijaykar Wadi' 'Beverly Park Road' 'Citizen Colony'\n",
      " 'Naya Nagar Mira Road East' 'Swami Vivekananda Road' 'Pali Naka'\n",
      " 'Surya Nagar' 'Eden Gardens' 'BDD Chawls Worli' 'Medetiya Nagar'\n",
      " 'Hardevi Society' 'Satsang CHSL' 'Naidu Colony' 'Kirol Village'\n",
      " 'Sai Nagar Vasai West' 'Sainath Nagar Ghatkopar West' 'Parel Village'\n",
      " 'Anita Nagar' 'Badlapur East' 'Subhash Nagar Chembur'\n",
      " 'Tata Colony Mulund East' 'Mhada Colony Andheri West' 'Alika Nagar'\n",
      " 'Gulmohar Society' 'Santosh Nagar Bandra West' 'Kajupada Borivali East'\n",
      " 'Sahar Village' 'Ghartan Pada' 'Kargil Nagar' 'Vishnu Nagar'\n",
      " 'Chira Bazaar' 'Dongerpada' 'Eksar' 'Ashok Nagar Society'\n",
      " 'Gaikwad Nagar Malvani' 'Khajuriya Nagar' 'Shivaji Nagar Malad East'\n",
      " 'Laxmi Colony' 'Sumer Nagar' 'Mahim East' 'Hanuman Pada'\n",
      " 'Saibaba Nagar Borivali West' 'Paranjape Nagar Vile Parle East'\n",
      " 'Nahar Nagar' 'Asha Nagar Mulund West' 'Gandhi Nagar Vikhroli West'\n",
      " 'Balaji Nagar Dahisar East' 'Ashok Nagar Chunabhatti'\n",
      " 'Sector 2 Shanti Nagar' 'Shri Krishna Nagar Borivali East' 'Sewri West'\n",
      " 'Raja Wadi' 'Evershine Globle City' 'Sikka Nagar' 'Ambewadi Lal Baug'\n",
      " 'Unnat Nagar Goregaon West' 'Koldongri Vile Parle East'\n",
      " 'Prem Nagar Jogeshwari East' 'Parmanand Wadi' 'Reclamation' 'Thakurdwar'\n",
      " 'Geeta Nagar Colaba' 'Kasaiwada' 'Kandivali Village'\n",
      " 'Suman Nagar Chembur' 'Golibar' 'Vijay Nagar Andheri East'\n",
      " 'Nana Chowk Area' 'Sarvodaya Nagar Mulund West' 'Shravan Nagar'\n",
      " 'Majas Wadi' 'Kalachowki Abhyudaya Nagar' 'Azad Nagar Andheri West']\n"
     ]
    }
   ],
   "source": [
    "for col in categorical_cols:\n",
    "    print(df[col].nunique())\n",
    "    print(df[col].unique())"
   ]
  },
  {
   "cell_type": "code",
   "execution_count": 103,
   "metadata": {},
   "outputs": [
    {
     "data": {
      "text/plain": [
       "array(['New Property', 'Resale'], dtype=object)"
      ]
     },
     "execution_count": 103,
     "metadata": {},
     "output_type": "execute_result"
    }
   ],
   "source": [
    "# Changed other to resale, and removed rows with rent.\n",
    "\n",
    "df['property_type'].replace({'Other':'Resale'},inplace=True)\n",
    "df = df.query('property_type != \"Rent\"')\n",
    "df['property_type'].unique()"
   ]
  },
  {
   "cell_type": "code",
   "execution_count": 104,
   "metadata": {},
   "outputs": [
    {
     "name": "stdout",
     "output_type": "stream",
     "text": [
      "Unique values in poss_status column [\"Aug '29\" \"Dec '27\" \"Dec '26\" 'Ready to Move' \"Oct '29\" \"Jun '30\"\n",
      " \"Sep '30\" \"Dec '30\" \"Aug '28\" \"Jun '27\" \"Dec '28\" \"Dec '29\" \"Jan '28\"\n",
      " \"Jun '25\" \"Mar '31\" \"May '25\" \"Mar '27\" \"Mar '29\" 'Ready To Move'\n",
      " \"Sep '28\" \"Dec '25\" \"Oct '27\" \"Nov '27\" \"Oct '31\" \"Mar '28\"\n",
      " 'Under Construction' \"Mar '26\" \"Mar '32\" \"Jun '31\" \"Jul '28\" \"May '28\"\n",
      " 'Ongoing' \"Jun '26\"]\n",
      "Unique values after fixing  ['Under Construction' 'Ready to Move']\n"
     ]
    }
   ],
   "source": [
    "# Modifying values in poss_status: converting all month rows data with 'Under Construction'\n",
    "print(\"Unique values in poss_status column\",df['poss_status'].unique())\n",
    "\n",
    "df['poss_status'] = df['poss_status'].apply(lambda x: x if x in ['Under Construction', 'Immediately', 'Ongoing', 'Ready To Move','Ready to Move'] else 'Under Construction')\n",
    "df['poss_status'].replace({'Ready To Move':'Ready to Move','Ongoing':'Under Construction'},inplace=True)\n",
    "print(\"Unique values after fixing \",df['poss_status'].unique())"
   ]
  },
  {
   "cell_type": "code",
   "execution_count": 105,
   "metadata": {},
   "outputs": [
    {
     "name": "stdout",
     "output_type": "stream",
     "text": [
      "(245, 11)\n",
      "(0, 11)\n"
     ]
    }
   ],
   "source": [
    "# Fixing values in poss_staus based on domain knowledge: A property cannot both be resale and under construction.\n",
    "print(df.query('property_type ==\"Resale\" & poss_status == \"Under Construction\"').shape)\n",
    "\n",
    "df.loc[(df['property_type'] == 'Resale') & (df['poss_status'] == 'Under Construction'), 'poss_status'] = 'Ready to Move'\n",
    "print(df.query('property_type ==\"Resale\" & poss_status == \"Under Construction\"').shape)"
   ]
  },
  {
   "cell_type": "code",
   "execution_count": 106,
   "metadata": {},
   "outputs": [
    {
     "data": {
      "text/plain": [
       "Index(['bedrooms', 'carpet_area', 'bathrooms', 'balconies', 'latitude',\n",
       "       'longitude', 'price'],\n",
       "      dtype='object')"
      ]
     },
     "execution_count": 106,
     "metadata": {},
     "output_type": "execute_result"
    }
   ],
   "source": [
    "numeric_cols = df.select_dtypes(exclude='object').columns\n",
    "numeric_cols"
   ]
  },
  {
   "cell_type": "code",
   "execution_count": 107,
   "metadata": {},
   "outputs": [
    {
     "name": "stdout",
     "output_type": "stream",
     "text": [
      "['New Property' 'Resale']\n",
      "['Unfurnished' 'Semi-Furnished' 'Furnished']\n",
      "['Under Construction' 'Ready to Move']\n"
     ]
    }
   ],
   "source": [
    "# Recheking the applied transformation on categorical column.\n",
    "for col in categorical_cols.drop('location'):\n",
    "    print(df[col].unique())"
   ]
  },
  {
   "cell_type": "code",
   "execution_count": 108,
   "metadata": {},
   "outputs": [
    {
     "name": "stdout",
     "output_type": "stream",
     "text": [
      "9\n",
      "1101\n",
      "10\n",
      "9\n",
      "2337\n",
      "2305\n",
      "880\n"
     ]
    }
   ],
   "source": [
    "for col in numeric_cols:\n",
    "    print(df[col].nunique())"
   ]
  },
  {
   "cell_type": "markdown",
   "metadata": {},
   "source": [
    "### Handling outliers based on domain knowledge:"
   ]
  },
  {
   "cell_type": "code",
   "execution_count": 109,
   "metadata": {},
   "outputs": [
    {
     "data": {
      "text/html": [
       "<div>\n",
       "<style scoped>\n",
       "    .dataframe tbody tr th:only-of-type {\n",
       "        vertical-align: middle;\n",
       "    }\n",
       "\n",
       "    .dataframe tbody tr th {\n",
       "        vertical-align: top;\n",
       "    }\n",
       "\n",
       "    .dataframe thead th {\n",
       "        text-align: right;\n",
       "    }\n",
       "</style>\n",
       "<table border=\"1\" class=\"dataframe\">\n",
       "  <thead>\n",
       "    <tr style=\"text-align: right;\">\n",
       "      <th></th>\n",
       "      <th>bedrooms</th>\n",
       "      <th>carpet_area</th>\n",
       "      <th>bathrooms</th>\n",
       "      <th>balconies</th>\n",
       "      <th>latitude</th>\n",
       "      <th>longitude</th>\n",
       "      <th>price</th>\n",
       "    </tr>\n",
       "  </thead>\n",
       "  <tbody>\n",
       "    <tr>\n",
       "      <th>count</th>\n",
       "      <td>59863.0</td>\n",
       "      <td>59863.0</td>\n",
       "      <td>59863.0</td>\n",
       "      <td>59863.0</td>\n",
       "      <td>59863.000000</td>\n",
       "      <td>59863.000000</td>\n",
       "      <td>59863.0</td>\n",
       "    </tr>\n",
       "    <tr>\n",
       "      <th>mean</th>\n",
       "      <td>2.439153</td>\n",
       "      <td>994.262533</td>\n",
       "      <td>2.515961</td>\n",
       "      <td>0.726759</td>\n",
       "      <td>18.412869</td>\n",
       "      <td>70.380300</td>\n",
       "      <td>32889106.236373</td>\n",
       "    </tr>\n",
       "    <tr>\n",
       "      <th>std</th>\n",
       "      <td>0.777706</td>\n",
       "      <td>2221.525636</td>\n",
       "      <td>0.739007</td>\n",
       "      <td>0.800646</td>\n",
       "      <td>3.556939</td>\n",
       "      <td>13.399500</td>\n",
       "      <td>27178424.663418</td>\n",
       "    </tr>\n",
       "    <tr>\n",
       "      <th>min</th>\n",
       "      <td>1.0</td>\n",
       "      <td>1.0</td>\n",
       "      <td>1.0</td>\n",
       "      <td>0.0</td>\n",
       "      <td>0.000000</td>\n",
       "      <td>0.000000</td>\n",
       "      <td>140000.0</td>\n",
       "    </tr>\n",
       "    <tr>\n",
       "      <th>25%</th>\n",
       "      <td>2.0</td>\n",
       "      <td>745.0</td>\n",
       "      <td>2.0</td>\n",
       "      <td>0.0</td>\n",
       "      <td>19.064140</td>\n",
       "      <td>72.839198</td>\n",
       "      <td>20700000.0</td>\n",
       "    </tr>\n",
       "    <tr>\n",
       "      <th>50%</th>\n",
       "      <td>3.0</td>\n",
       "      <td>902.0</td>\n",
       "      <td>3.0</td>\n",
       "      <td>1.0</td>\n",
       "      <td>19.148583</td>\n",
       "      <td>72.866211</td>\n",
       "      <td>27618000.0</td>\n",
       "    </tr>\n",
       "    <tr>\n",
       "      <th>75%</th>\n",
       "      <td>3.0</td>\n",
       "      <td>1170.0</td>\n",
       "      <td>3.0</td>\n",
       "      <td>1.0</td>\n",
       "      <td>19.205002</td>\n",
       "      <td>72.915620</td>\n",
       "      <td>40000000.0</td>\n",
       "    </tr>\n",
       "    <tr>\n",
       "      <th>max</th>\n",
       "      <td>10.0</td>\n",
       "      <td>300000.0</td>\n",
       "      <td>10.0</td>\n",
       "      <td>9.0</td>\n",
       "      <td>22.445813</td>\n",
       "      <td>88.397428</td>\n",
       "      <td>2001000000.0</td>\n",
       "    </tr>\n",
       "  </tbody>\n",
       "</table>\n",
       "</div>"
      ],
      "text/plain": [
       "       bedrooms  carpet_area  bathrooms  balconies      latitude  \\\n",
       "count   59863.0      59863.0    59863.0    59863.0  59863.000000   \n",
       "mean   2.439153   994.262533   2.515961   0.726759     18.412869   \n",
       "std    0.777706  2221.525636   0.739007   0.800646      3.556939   \n",
       "min         1.0          1.0        1.0        0.0      0.000000   \n",
       "25%         2.0        745.0        2.0        0.0     19.064140   \n",
       "50%         3.0        902.0        3.0        1.0     19.148583   \n",
       "75%         3.0       1170.0        3.0        1.0     19.205002   \n",
       "max        10.0     300000.0       10.0        9.0     22.445813   \n",
       "\n",
       "          longitude            price  \n",
       "count  59863.000000          59863.0  \n",
       "mean      70.380300  32889106.236373  \n",
       "std       13.399500  27178424.663418  \n",
       "min        0.000000         140000.0  \n",
       "25%       72.839198       20700000.0  \n",
       "50%       72.866211       27618000.0  \n",
       "75%       72.915620       40000000.0  \n",
       "max       88.397428     2001000000.0  "
      ]
     },
     "execution_count": 109,
     "metadata": {},
     "output_type": "execute_result"
    }
   ],
   "source": [
    "df.describe()"
   ]
  },
  {
   "cell_type": "markdown",
   "metadata": {},
   "source": [
    "### Univariate analysis: Box plots for outliers"
   ]
  },
  {
   "cell_type": "code",
   "execution_count": 111,
   "metadata": {},
   "outputs": [
    {
     "data": {
      "image/png": "[encoded data removed]",
      "text/plain": [
       "<Figure size 2000x1000 with 7 Axes>"
      ]
     },
     "metadata": {},
     "output_type": "display_data"
    }
   ],
   "source": [
    "num_plots = len(numeric_cols)\n",
    "rows = (num_plots // 4) + (num_plots % 4 > 0) \n",
    "fig, axes = plt.subplots(rows, 4, figsize=(20, 5 * rows))\n",
    "axes = axes.flatten() \n",
    "\n",
    "for i, col in enumerate(numeric_cols):\n",
    "    sns.boxplot(x=df[col], ax=axes[i])\n",
    "    axes[i].set_title(f' Non Log Transformed {col}')\n",
    "\n",
    "# Hide unused subplots\n",
    "for j in range(i + 1, len(axes)):\n",
    "    fig.delaxes(axes[j])\n",
    "\n",
    "plt.tight_layout()\n",
    "plt.show()"
   ]
  },
  {
   "cell_type": "markdown",
   "metadata": {},
   "source": [
    "#### Fixing outliers in bedrooms column:"
   ]
  },
  {
   "cell_type": "code",
   "execution_count": 112,
   "metadata": {},
   "outputs": [
    {
     "data": {
      "text/plain": [
       "count     59863.0\n",
       "mean     2.439153\n",
       "std      0.777706\n",
       "min           1.0\n",
       "25%           2.0\n",
       "50%           3.0\n",
       "75%           3.0\n",
       "max          10.0\n",
       "Name: bedrooms, dtype: Float64"
      ]
     },
     "execution_count": 112,
     "metadata": {},
     "output_type": "execute_result"
    }
   ],
   "source": [
    "df['bedrooms'].describe()"
   ]
  },
  {
   "cell_type": "code",
   "execution_count": 113,
   "metadata": {},
   "outputs": [
    {
     "name": "stdout",
     "output_type": "stream",
     "text": [
      "(39, 11)\n"
     ]
    },
    {
     "data": {
      "text/html": [
       "<div>\n",
       "<style scoped>\n",
       "    .dataframe tbody tr th:only-of-type {\n",
       "        vertical-align: middle;\n",
       "    }\n",
       "\n",
       "    .dataframe tbody tr th {\n",
       "        vertical-align: top;\n",
       "    }\n",
       "\n",
       "    .dataframe thead th {\n",
       "        text-align: right;\n",
       "    }\n",
       "</style>\n",
       "<table border=\"1\" class=\"dataframe\">\n",
       "  <thead>\n",
       "    <tr style=\"text-align: right;\">\n",
       "      <th></th>\n",
       "      <th>bedrooms</th>\n",
       "      <th>carpet_area</th>\n",
       "      <th>bathrooms</th>\n",
       "    </tr>\n",
       "  </thead>\n",
       "  <tbody>\n",
       "    <tr>\n",
       "      <th>62</th>\n",
       "      <td>6</td>\n",
       "      <td>2194</td>\n",
       "      <td>2</td>\n",
       "    </tr>\n",
       "    <tr>\n",
       "      <th>140</th>\n",
       "      <td>6</td>\n",
       "      <td>3900</td>\n",
       "      <td>8</td>\n",
       "    </tr>\n",
       "    <tr>\n",
       "      <th>264</th>\n",
       "      <td>6</td>\n",
       "      <td>2160</td>\n",
       "      <td>6</td>\n",
       "    </tr>\n",
       "    <tr>\n",
       "      <th>360</th>\n",
       "      <td>7</td>\n",
       "      <td>5650</td>\n",
       "      <td>6</td>\n",
       "    </tr>\n",
       "    <tr>\n",
       "      <th>415</th>\n",
       "      <td>6</td>\n",
       "      <td>2500</td>\n",
       "      <td>6</td>\n",
       "    </tr>\n",
       "  </tbody>\n",
       "</table>\n",
       "</div>"
      ],
      "text/plain": [
       "     bedrooms  carpet_area  bathrooms\n",
       "62          6         2194          2\n",
       "140         6         3900          8\n",
       "264         6         2160          6\n",
       "360         7         5650          6\n",
       "415         6         2500          6"
      ]
     },
     "execution_count": 113,
     "metadata": {},
     "output_type": "execute_result"
    }
   ],
   "source": [
    "print(df.query('bedrooms > 5').shape)\n",
    "df.query('bedrooms > 5')[['bedrooms','carpet_area','bathrooms']].head(5)"
   ]
  },
  {
   "cell_type": "code",
   "execution_count": 114,
   "metadata": {},
   "outputs": [
    {
     "name": "stdout",
     "output_type": "stream",
     "text": [
      "(59863, 11)\n"
     ]
    }
   ],
   "source": [
    "# Removing bedrooms greater than 5.\n",
    "print(df.shape)\n",
    "df = df.query('bedrooms <= 5 ')\n"
   ]
  },
  {
   "cell_type": "markdown",
   "metadata": {},
   "source": [
    "#### Outlier treatment in carpet area column:"
   ]
  },
  {
   "cell_type": "code",
   "execution_count": 115,
   "metadata": {},
   "outputs": [
    {
     "data": {
      "text/plain": [
       "count        59824.0\n",
       "mean      979.280423\n",
       "std      1490.513928\n",
       "min              1.0\n",
       "25%            745.0\n",
       "50%            902.0\n",
       "75%           1170.0\n",
       "max         300000.0\n",
       "Name: carpet_area, dtype: Float64"
      ]
     },
     "execution_count": 115,
     "metadata": {},
     "output_type": "execute_result"
    }
   ],
   "source": [
    "# Outlier treatment in carpet area:\n",
    "df['carpet_area'].describe()"
   ]
  },
  {
   "cell_type": "code",
   "execution_count": 116,
   "metadata": {},
   "outputs": [
    {
     "name": "stdout",
     "output_type": "stream",
     "text": [
      "Rows with carpet area less than 140sqft:  (18, 11)\n",
      "(0, 11)\n",
      "(59806, 11)\n"
     ]
    }
   ],
   "source": [
    "# We will drop carpet_area less than 140 Sqft.\n",
    "print(\"Rows with carpet area less than 140sqft: \",df.query('carpet_area < 140').shape)\n",
    "\n",
    "df = df.query('carpet_area >= 140')\n",
    "print(df.query('carpet_area < 140').shape)\n",
    "\n",
    "print(df.shape)"
   ]
  },
  {
   "cell_type": "code",
   "execution_count": 117,
   "metadata": {},
   "outputs": [
    {
     "name": "stdout",
     "output_type": "stream",
     "text": [
      "(16, 11)\n",
      "(59790, 11)\n"
     ]
    }
   ],
   "source": [
    "# We will drop rows where carpet_area has no relation wit bedrooms.\n",
    "print(df.query('carpet_area < 745  & bedrooms > 2').shape)\n",
    "\n",
    "df.query(\"not (carpet_area < 745 and bedrooms > 2)\", inplace=True)\n",
    "print(df.shape)"
   ]
  },
  {
   "cell_type": "code",
   "execution_count": 118,
   "metadata": {},
   "outputs": [
    {
     "name": "stdout",
     "output_type": "stream",
     "text": [
      "(14, 11)\n",
      "(59776, 11)\n"
     ]
    }
   ],
   "source": [
    "# Dropping rows where carpet_area doesnt align with no of bedrooms:\n",
    "print(df.query('carpet_area > 1561 & bedrooms < 3').shape)\n",
    "\n",
    "df = df.query('not (carpet_area > 1561 & bedrooms < 3)')\n",
    "print(df.shape)"
   ]
  },
  {
   "cell_type": "markdown",
   "metadata": {},
   "source": [
    "#### Outlier treatment in balconies column:"
   ]
  },
  {
   "cell_type": "code",
   "execution_count": 119,
   "metadata": {},
   "outputs": [
    {
     "name": "stdout",
     "output_type": "stream",
     "text": [
      "(6, 11)\n",
      "(3, 11)\n",
      "(6, 11)\n"
     ]
    }
   ],
   "source": [
    "# Dropping outliers in balconies: Maintaining balance between noof balconies and bedrooms.\n",
    "\n",
    "print(df.query('balconies > 5 & bedrooms < 5 ').shape)\n",
    "print(df.query('balconies > 3 & bedrooms < 2 ').shape)\n",
    "print(df.query('balconies > 4 & bedrooms < 3 ').shape)"
   ]
  },
  {
   "cell_type": "code",
   "execution_count": 120,
   "metadata": {},
   "outputs": [
    {
     "name": "stdout",
     "output_type": "stream",
     "text": [
      "(59762, 11)\n"
     ]
    }
   ],
   "source": [
    "df = df.drop(df.query('(balconies > 5 & bedrooms < 5) | (balconies > 3 & bedrooms < 2) | (balconies > 4 & bedrooms < 3)').index)\n",
    "print(df.shape)"
   ]
  },
  {
   "cell_type": "markdown",
   "metadata": {},
   "source": [
    "#### Outlier treatment in location column:"
   ]
  },
  {
   "cell_type": "code",
   "execution_count": 123,
   "metadata": {},
   "outputs": [
    {
     "data": {
      "text/plain": [
       "688"
      ]
     },
     "execution_count": 123,
     "metadata": {},
     "output_type": "execute_result"
    }
   ],
   "source": [
    "df['location'].nunique()"
   ]
  },
  {
   "cell_type": "code",
   "execution_count": null,
   "metadata": {},
   "outputs": [
    {
     "name": "stdout",
     "output_type": "stream",
     "text": [
      "Rows with location value count 1 =  285\n",
      "Rows with location value count more than 1 =  403\n"
     ]
    }
   ],
   "source": [
    "# There are total 285 improper locations with value 1: We will remove those location rows \n",
    "print(df['location'].value_counts().sort_values(ascending=True).head(3))\n",
    "print(\"Rows with location value count 1 = \",(df['location'].value_counts() == 1).sum())\n",
    "print(\"Rows with location value count more than 1 = \",(df['location'].value_counts() > 1).sum())"
   ]
  },
  {
   "cell_type": "code",
   "execution_count": 126,
   "metadata": {},
   "outputs": [
    {
     "name": "stdout",
     "output_type": "stream",
     "text": [
      "(59477, 11)\n",
      "Location count after cleaning  403\n"
     ]
    }
   ],
   "source": [
    "df = df[df['location'].map(df['location'].value_counts()) > 1]\n",
    "print(df.shape)\n",
    "print(\"Location count after cleaning \",df['location'].nunique())"
   ]
  },
  {
   "cell_type": "markdown",
   "metadata": {},
   "source": [
    "#### Outlier treatment in bathrooms column:\n",
    "\n",
    "Removing Bathrooms more than 5"
   ]
  },
  {
   "cell_type": "code",
   "execution_count": 127,
   "metadata": {},
   "outputs": [
    {
     "data": {
      "text/plain": [
       "count     59477.0\n",
       "mean     2.516653\n",
       "std      0.730552\n",
       "min           1.0\n",
       "25%           2.0\n",
       "50%           3.0\n",
       "75%           3.0\n",
       "max           9.0\n",
       "Name: bathrooms, dtype: Float64"
      ]
     },
     "execution_count": 127,
     "metadata": {},
     "output_type": "execute_result"
    }
   ],
   "source": [
    "df['bathrooms'].describe()"
   ]
  },
  {
   "cell_type": "code",
   "execution_count": 128,
   "metadata": {},
   "outputs": [
    {
     "name": "stdout",
     "output_type": "stream",
     "text": [
      "(18, 11)\n",
      "<IntegerArray>\n",
      "[2, 1, 3, 4, 5, 6]\n",
      "Length: 6, dtype: Int64\n"
     ]
    }
   ],
   "source": [
    "print(df.query('bathrooms > 5').shape)\n",
    "df = df.query('bathrooms <= 6')\n",
    "\n",
    "print(df['bathrooms'].unique())"
   ]
  },
  {
   "cell_type": "markdown",
   "metadata": {},
   "source": [
    "### Outlier treatment price column:"
   ]
  },
  {
   "cell_type": "code",
   "execution_count": 129,
   "metadata": {},
   "outputs": [
    {
     "data": {
      "text/plain": [
       "count            59473.0\n",
       "mean     32826712.212752\n",
       "std      26277158.073407\n",
       "min             250000.0\n",
       "25%           20700000.0\n",
       "50%           27618000.0\n",
       "75%           40000000.0\n",
       "max         2001000000.0\n",
       "Name: price, dtype: Float64"
      ]
     },
     "execution_count": 129,
     "metadata": {},
     "output_type": "execute_result"
    }
   ],
   "source": [
    "df['price'].describe()"
   ]
  },
  {
   "cell_type": "code",
   "execution_count": 130,
   "metadata": {},
   "outputs": [
    {
     "name": "stdout",
     "output_type": "stream",
     "text": [
      "40000000.0\n",
      "41550000.0\n"
     ]
    },
    {
     "data": {
      "text/plain": [
       "(2328, 11)"
      ]
     },
     "execution_count": 130,
     "metadata": {},
     "output_type": "execute_result"
    }
   ],
   "source": [
    "print(df['price'].quantile(0.75))\n",
    "print(df['price'].quantile(0.80))\n",
    "\n",
    "df[df['price'] > df['price'].quantile(0.95)].shape\n"
   ]
  },
  {
   "cell_type": "code",
   "execution_count": 131,
   "metadata": {},
   "outputs": [
    {
     "name": "stdout",
     "output_type": "stream",
     "text": [
      "(394, 11)\n",
      "(59079, 11)\n"
     ]
    }
   ],
   "source": [
    "print(df.query('price > 150000000 ').shape)\n",
    "print(df.query('price <= 150000000').shape)"
   ]
  },
  {
   "cell_type": "code",
   "execution_count": 132,
   "metadata": {},
   "outputs": [
    {
     "name": "stdout",
     "output_type": "stream",
     "text": [
      "(59164, 11)\n"
     ]
    }
   ],
   "source": [
    "# Removed rows where price is above 15 crore but kept the juhu proeprties:\n",
    "df = df.query('price <= 150000000 | location == \"Juhu\"')\n",
    "print(df.shape)"
   ]
  },
  {
   "cell_type": "code",
   "execution_count": null,
   "metadata": {},
   "outputs": [],
   "source": []
  },
  {
   "cell_type": "markdown",
   "metadata": {},
   "source": [
    "## Univariate analysis:\n"
   ]
  },
  {
   "cell_type": "markdown",
   "metadata": {},
   "source": [
    "### Histogram's for analyzing Distribution"
   ]
  },
  {
   "cell_type": "code",
   "execution_count": 133,
   "metadata": {},
   "outputs": [
    {
     "data": {
      "text/plain": [
       "Index(['bedrooms', 'carpet_area', 'bathrooms', 'balconies', 'latitude',\n",
       "       'longitude', 'price'],\n",
       "      dtype='object')"
      ]
     },
     "execution_count": 133,
     "metadata": {},
     "output_type": "execute_result"
    }
   ],
   "source": [
    "numeric_cols"
   ]
  },
  {
   "cell_type": "code",
   "execution_count": 134,
   "metadata": {},
   "outputs": [
    {
     "data": {
      "image/png": "[encoded data removed]",
      "text/plain": [
       "<Figure size 640x480 with 2 Axes>"
      ]
     },
     "metadata": {},
     "output_type": "display_data"
    }
   ],
   "source": [
    "df['log_carpet_area'] = np.log(df['carpet_area'])\n",
    "df['log_price'] = np.log(df['price'])\n",
    "\n",
    "df[['log_carpet_area', 'log_price']].hist(bins=3)\n",
    "plt.show()"
   ]
  },
  {
   "cell_type": "code",
   "execution_count": 136,
   "metadata": {},
   "outputs": [
    {
     "data": {
      "text/html": [
       "<div>\n",
       "<style scoped>\n",
       "    .dataframe tbody tr th:only-of-type {\n",
       "        vertical-align: middle;\n",
       "    }\n",
       "\n",
       "    .dataframe tbody tr th {\n",
       "        vertical-align: top;\n",
       "    }\n",
       "\n",
       "    .dataframe thead th {\n",
       "        text-align: right;\n",
       "    }\n",
       "</style>\n",
       "<table border=\"1\" class=\"dataframe\">\n",
       "  <thead>\n",
       "    <tr style=\"text-align: right;\">\n",
       "      <th></th>\n",
       "      <th>property_type</th>\n",
       "      <th>furnish_status</th>\n",
       "      <th>bedrooms</th>\n",
       "      <th>carpet_area</th>\n",
       "      <th>bathrooms</th>\n",
       "      <th>balconies</th>\n",
       "      <th>poss_status</th>\n",
       "      <th>location</th>\n",
       "      <th>latitude</th>\n",
       "      <th>longitude</th>\n",
       "      <th>price</th>\n",
       "      <th>log_carpet_area</th>\n",
       "      <th>log_price</th>\n",
       "    </tr>\n",
       "  </thead>\n",
       "  <tbody>\n",
       "    <tr>\n",
       "      <th>0</th>\n",
       "      <td>New Property</td>\n",
       "      <td>Unfurnished</td>\n",
       "      <td>2</td>\n",
       "      <td>761</td>\n",
       "      <td>2</td>\n",
       "      <td>2</td>\n",
       "      <td>Under Construction</td>\n",
       "      <td>Kandivali West</td>\n",
       "      <td>19.207751</td>\n",
       "      <td>72.846389</td>\n",
       "      <td>21800000</td>\n",
       "      <td>6.634633</td>\n",
       "      <td>16.897421</td>\n",
       "    </tr>\n",
       "    <tr>\n",
       "      <th>1</th>\n",
       "      <td>New Property</td>\n",
       "      <td>Unfurnished</td>\n",
       "      <td>2</td>\n",
       "      <td>684</td>\n",
       "      <td>2</td>\n",
       "      <td>0</td>\n",
       "      <td>Under Construction</td>\n",
       "      <td>Sion</td>\n",
       "      <td>19.052807</td>\n",
       "      <td>72.872584</td>\n",
       "      <td>21400000</td>\n",
       "      <td>6.527958</td>\n",
       "      <td>16.878901</td>\n",
       "    </tr>\n",
       "  </tbody>\n",
       "</table>\n",
       "</div>"
      ],
      "text/plain": [
       "  property_type furnish_status  bedrooms  carpet_area  bathrooms  balconies  \\\n",
       "0  New Property    Unfurnished         2          761          2          2   \n",
       "1  New Property    Unfurnished         2          684          2          0   \n",
       "\n",
       "          poss_status        location   latitude  longitude     price  \\\n",
       "0  Under Construction  Kandivali West  19.207751  72.846389  21800000   \n",
       "1  Under Construction            Sion  19.052807  72.872584  21400000   \n",
       "\n",
       "   log_carpet_area  log_price  \n",
       "0         6.634633  16.897421  \n",
       "1         6.527958  16.878901  "
      ]
     },
     "execution_count": 136,
     "metadata": {},
     "output_type": "execute_result"
    }
   ],
   "source": [
    "df.head(2)"
   ]
  },
  {
   "cell_type": "markdown",
   "metadata": {},
   "source": [
    "### Bivariate analysis: Categorical features"
   ]
  },
  {
   "cell_type": "code",
   "execution_count": 137,
   "metadata": {},
   "outputs": [
    {
     "data": {
      "text/plain": [
       "Index(['property_type', 'furnish_status', 'poss_status', 'location'], dtype='object')"
      ]
     },
     "execution_count": 137,
     "metadata": {},
     "output_type": "execute_result"
    }
   ],
   "source": [
    "categorical_cols"
   ]
  },
  {
   "cell_type": "code",
   "execution_count": 138,
   "metadata": {},
   "outputs": [
    {
     "data": {
      "image/png": "[encoded data removed]",
      "text/plain": [
       "<Figure size 1500x500 with 3 Axes>"
      ]
     },
     "metadata": {},
     "output_type": "display_data"
    }
   ],
   "source": [
    "cols = categorical_cols.drop('location')\n",
    "\n",
    "# Create subplots (1 row, multiple columns)\n",
    "fig, axes = plt.subplots(1, len(cols), figsize=(5 * len(cols), 5))\n",
    "\n",
    "for col, ax in zip(cols, axes):\n",
    "    sns.countplot(data=df, x=col, ax=ax)\n",
    "    ax.set_title(f\"Total Count of {col}\")\n",
    "    ax.bar_label(ax.containers[0])\n",
    "\n",
    "plt.tight_layout() \n",
    "plt.show()"
   ]
  },
  {
   "cell_type": "code",
   "execution_count": 139,
   "metadata": {},
   "outputs": [
    {
     "data": {
      "text/plain": [
       "<Axes: title={'center': 'Top 10 Locality by highest average price'}, ylabel='location'>"
      ]
     },
     "execution_count": 139,
     "metadata": {},
     "output_type": "execute_result"
    },
    {
     "data": {
      "image/png": "[encoded data removed]",
      "text/plain": [
       "<Figure size 700x300 with 1 Axes>"
      ]
     },
     "metadata": {},
     "output_type": "display_data"
    }
   ],
   "source": [
    "df.groupby('location')['price'].mean().astype('int').reset_index().sort_values(by='price',ascending=False).head(10) \\\n",
    " .plot(kind='barh',x='location',y='price',figsize=(7,3),title=\"Top 10 Locality by highest average price\",legend=False,)"
   ]
  },
  {
   "cell_type": "code",
   "execution_count": 140,
   "metadata": {},
   "outputs": [
    {
     "data": {
      "text/plain": [
       "<Axes: title={'center': 'Top 10 Locality by Lowest average price'}, ylabel='location'>"
      ]
     },
     "execution_count": 140,
     "metadata": {},
     "output_type": "execute_result"
    },
    {
     "data": {
      "image/png": "[encoded data removed]",
      "text/plain": [
       "<Figure size 700x300 with 1 Axes>"
      ]
     },
     "metadata": {},
     "output_type": "display_data"
    }
   ],
   "source": [
    "df.groupby('location')['price'].mean().astype('int').reset_index().sort_values(by='price',ascending=True).head(10) \\\n",
    " .plot(kind='barh',x='location',y='price',figsize=(7,3),title=\"Top 10 Locality by Lowest average price\",legend=False)"
   ]
  },
  {
   "cell_type": "code",
   "execution_count": 141,
   "metadata": {},
   "outputs": [
    {
     "data": {
      "text/plain": [
       "<Axes: title={'center': \"Highest No of flat listing's per location\"}, ylabel='location'>"
      ]
     },
     "execution_count": 141,
     "metadata": {},
     "output_type": "execute_result"
    },
    {
     "data": {
      "image/png": "[encoded data removed]",
      "text/plain": [
       "<Figure size 700x300 with 1 Axes>"
      ]
     },
     "metadata": {},
     "output_type": "display_data"
    }
   ],
   "source": [
    "df.groupby('location')['price'].count().reset_index().sort_values(by='price',ascending=False).head(10) \\\n",
    ".plot(kind='barh',x='location',y='price',figsize=(7,3),title=\"Highest No of flat listing's per location\")"
   ]
  },
  {
   "cell_type": "markdown",
   "metadata": {},
   "source": [
    "### Visualizing Co-relation Matrix"
   ]
  },
  {
   "cell_type": "code",
   "execution_count": 142,
   "metadata": {},
   "outputs": [
    {
     "data": {
      "image/png": "[encoded data removed]",
      "text/plain": [
       "<Figure size 900x400 with 2 Axes>"
      ]
     },
     "metadata": {},
     "output_type": "display_data"
    }
   ],
   "source": [
    "cm  = df[numeric_cols].corr()\n",
    "\n",
    "plt.figure(figsize=(9,4))\n",
    "plt.title(\"Co-Relation Matrix\")\n",
    "sns.heatmap(cm,annot=True,cmap='viridis')\n",
    "plt.show()"
   ]
  },
  {
   "cell_type": "markdown",
   "metadata": {},
   "source": [
    "### Co-relation of categorical columns (Annova F-Test):"
   ]
  },
  {
   "cell_type": "code",
   "execution_count": 143,
   "metadata": {},
   "outputs": [
    {
     "name": "stdout",
     "output_type": "stream",
     "text": [
      "ANOVA for location:\n",
      "  F-statistic: 494.27, P-value: 0.00000\n",
      "\n",
      "ANOVA for property_type:\n",
      "  F-statistic: 3131.80, P-value: 0.00000\n",
      "\n",
      "ANOVA for poss_status:\n",
      "  F-statistic: 3915.80, P-value: 0.00000\n",
      "\n",
      "ANOVA for furnish_status:\n",
      "  F-statistic: 2114.37, P-value: 0.00000\n",
      "\n"
     ]
    }
   ],
   "source": [
    "from scipy.stats import f_oneway\n",
    "\n",
    "categorical_cols = ['location', 'property_type', 'poss_status', 'furnish_status']\n",
    "\n",
    "for col in categorical_cols:\n",
    "    groups = [df[df[col] == value]['price'] for value in df[col].unique()]\n",
    "    \n",
    "    f_stat, p_value = f_oneway(*groups)\n",
    "    \n",
    "    print(f\"ANOVA for {col}:\")\n",
    "    print(f\"  F-statistic: {f_stat:.2f}, P-value: {p_value:.5f}\\n\")\n"
   ]
  },
  {
   "cell_type": "code",
   "execution_count": null,
   "metadata": {},
   "outputs": [],
   "source": []
  },
  {
   "cell_type": "markdown",
   "metadata": {},
   "source": [
    "## Feature Engineering and Encoding:"
   ]
  },
  {
   "cell_type": "code",
   "execution_count": 144,
   "metadata": {},
   "outputs": [
    {
     "data": {
      "text/plain": [
       "Index(['property_type', 'furnish_status', 'bedrooms', 'carpet_area',\n",
       "       'bathrooms', 'balconies', 'poss_status', 'location', 'latitude',\n",
       "       'longitude', 'price', 'log_carpet_area', 'log_price'],\n",
       "      dtype='object')"
      ]
     },
     "execution_count": 144,
     "metadata": {},
     "output_type": "execute_result"
    }
   ],
   "source": [
    "df.columns"
   ]
  },
  {
   "cell_type": "markdown",
   "metadata": {},
   "source": [
    "#### Removing columns which dont affect target(price):"
   ]
  },
  {
   "cell_type": "code",
   "execution_count": 145,
   "metadata": {},
   "outputs": [
    {
     "data": {
      "text/html": [
       "<div>\n",
       "<style scoped>\n",
       "    .dataframe tbody tr th:only-of-type {\n",
       "        vertical-align: middle;\n",
       "    }\n",
       "\n",
       "    .dataframe tbody tr th {\n",
       "        vertical-align: top;\n",
       "    }\n",
       "\n",
       "    .dataframe thead th {\n",
       "        text-align: right;\n",
       "    }\n",
       "</style>\n",
       "<table border=\"1\" class=\"dataframe\">\n",
       "  <thead>\n",
       "    <tr style=\"text-align: right;\">\n",
       "      <th></th>\n",
       "      <th>property_type</th>\n",
       "      <th>furnish_status</th>\n",
       "      <th>bedrooms</th>\n",
       "      <th>carpet_area</th>\n",
       "      <th>bathrooms</th>\n",
       "      <th>balconies</th>\n",
       "      <th>poss_status</th>\n",
       "      <th>location</th>\n",
       "      <th>price</th>\n",
       "    </tr>\n",
       "  </thead>\n",
       "  <tbody>\n",
       "    <tr>\n",
       "      <th>0</th>\n",
       "      <td>New Property</td>\n",
       "      <td>Unfurnished</td>\n",
       "      <td>2</td>\n",
       "      <td>761</td>\n",
       "      <td>2</td>\n",
       "      <td>2</td>\n",
       "      <td>Under Construction</td>\n",
       "      <td>Kandivali West</td>\n",
       "      <td>21800000</td>\n",
       "    </tr>\n",
       "    <tr>\n",
       "      <th>1</th>\n",
       "      <td>New Property</td>\n",
       "      <td>Unfurnished</td>\n",
       "      <td>2</td>\n",
       "      <td>684</td>\n",
       "      <td>2</td>\n",
       "      <td>0</td>\n",
       "      <td>Under Construction</td>\n",
       "      <td>Sion</td>\n",
       "      <td>21400000</td>\n",
       "    </tr>\n",
       "    <tr>\n",
       "      <th>2</th>\n",
       "      <td>New Property</td>\n",
       "      <td>Semi-Furnished</td>\n",
       "      <td>1</td>\n",
       "      <td>440</td>\n",
       "      <td>2</td>\n",
       "      <td>0</td>\n",
       "      <td>Under Construction</td>\n",
       "      <td>Navghar Road</td>\n",
       "      <td>8156093</td>\n",
       "    </tr>\n",
       "  </tbody>\n",
       "</table>\n",
       "</div>"
      ],
      "text/plain": [
       "  property_type  furnish_status  bedrooms  carpet_area  bathrooms  balconies  \\\n",
       "0  New Property     Unfurnished         2          761          2          2   \n",
       "1  New Property     Unfurnished         2          684          2          0   \n",
       "2  New Property  Semi-Furnished         1          440          2          0   \n",
       "\n",
       "          poss_status        location     price  \n",
       "0  Under Construction  Kandivali West  21800000  \n",
       "1  Under Construction            Sion  21400000  \n",
       "2  Under Construction    Navghar Road   8156093  "
      ]
     },
     "execution_count": 145,
     "metadata": {},
     "output_type": "execute_result"
    }
   ],
   "source": [
    "df = df.drop(columns=['latitude', 'longitude', 'log_carpet_area', 'log_price'], axis=1)\n",
    "df.head(3)"
   ]
  },
  {
   "cell_type": "markdown",
   "metadata": {},
   "source": [
    "#### Encoding property_type , furnish_staus,poss_status columns:"
   ]
  },
  {
   "cell_type": "code",
   "execution_count": 146,
   "metadata": {},
   "outputs": [
    {
     "name": "stdout",
     "output_type": "stream",
     "text": [
      "['New Property' 'Resale']\n",
      "['Unfurnished' 'Semi-Furnished' 'Furnished']\n",
      "['Under Construction' 'Ready to Move']\n"
     ]
    }
   ],
   "source": [
    "print(df['property_type'].unique())\n",
    "print(df['furnish_status'].unique())\n",
    "print(df['poss_status'].unique())"
   ]
  },
  {
   "cell_type": "code",
   "execution_count": 147,
   "metadata": {},
   "outputs": [
    {
     "data": {
      "text/html": [
       "<div>\n",
       "<style scoped>\n",
       "    .dataframe tbody tr th:only-of-type {\n",
       "        vertical-align: middle;\n",
       "    }\n",
       "\n",
       "    .dataframe tbody tr th {\n",
       "        vertical-align: top;\n",
       "    }\n",
       "\n",
       "    .dataframe thead th {\n",
       "        text-align: right;\n",
       "    }\n",
       "</style>\n",
       "<table border=\"1\" class=\"dataframe\">\n",
       "  <thead>\n",
       "    <tr style=\"text-align: right;\">\n",
       "      <th></th>\n",
       "      <th>property_type</th>\n",
       "      <th>furnish_status</th>\n",
       "      <th>bedrooms</th>\n",
       "      <th>carpet_area</th>\n",
       "      <th>bathrooms</th>\n",
       "      <th>balconies</th>\n",
       "      <th>poss_status</th>\n",
       "      <th>location</th>\n",
       "      <th>price</th>\n",
       "    </tr>\n",
       "  </thead>\n",
       "  <tbody>\n",
       "    <tr>\n",
       "      <th>0</th>\n",
       "      <td>1</td>\n",
       "      <td>0</td>\n",
       "      <td>2</td>\n",
       "      <td>761</td>\n",
       "      <td>2</td>\n",
       "      <td>2</td>\n",
       "      <td>0</td>\n",
       "      <td>Kandivali West</td>\n",
       "      <td>21800000</td>\n",
       "    </tr>\n",
       "    <tr>\n",
       "      <th>1</th>\n",
       "      <td>1</td>\n",
       "      <td>0</td>\n",
       "      <td>2</td>\n",
       "      <td>684</td>\n",
       "      <td>2</td>\n",
       "      <td>0</td>\n",
       "      <td>0</td>\n",
       "      <td>Sion</td>\n",
       "      <td>21400000</td>\n",
       "    </tr>\n",
       "    <tr>\n",
       "      <th>2</th>\n",
       "      <td>1</td>\n",
       "      <td>1</td>\n",
       "      <td>1</td>\n",
       "      <td>440</td>\n",
       "      <td>2</td>\n",
       "      <td>0</td>\n",
       "      <td>0</td>\n",
       "      <td>Navghar Road</td>\n",
       "      <td>8156093</td>\n",
       "    </tr>\n",
       "  </tbody>\n",
       "</table>\n",
       "</div>"
      ],
      "text/plain": [
       "   property_type  furnish_status  bedrooms  carpet_area  bathrooms  balconies  \\\n",
       "0              1               0         2          761          2          2   \n",
       "1              1               0         2          684          2          0   \n",
       "2              1               1         1          440          2          0   \n",
       "\n",
       "   poss_status        location     price  \n",
       "0            0  Kandivali West  21800000  \n",
       "1            0            Sion  21400000  \n",
       "2            0    Navghar Road   8156093  "
      ]
     },
     "execution_count": 147,
     "metadata": {},
     "output_type": "execute_result"
    }
   ],
   "source": [
    "df_encoded = df\n",
    "\n",
    "df_encoded['property_type'] = df['property_type'].map({'Resale':0 , 'New Property':1})\n",
    "df_encoded['furnish_status'] = df['furnish_status'].map({'Unfurnished':0, 'Semi-Furnished':1, 'Furnished':2})\n",
    "df_encoded['poss_status'] = df['poss_status'].map({'Under Construction':0 , 'Ready to Move':1})\n",
    "\n",
    "df_encoded.head(3)"
   ]
  },
  {
   "cell_type": "markdown",
   "metadata": {},
   "source": [
    "### Encoding location using Target encoding."
   ]
  },
  {
   "cell_type": "code",
   "execution_count": 148,
   "metadata": {},
   "outputs": [
    {
     "data": {
      "text/html": [
       "<div>\n",
       "<style scoped>\n",
       "    .dataframe tbody tr th:only-of-type {\n",
       "        vertical-align: middle;\n",
       "    }\n",
       "\n",
       "    .dataframe tbody tr th {\n",
       "        vertical-align: top;\n",
       "    }\n",
       "\n",
       "    .dataframe thead th {\n",
       "        text-align: right;\n",
       "    }\n",
       "</style>\n",
       "<table border=\"1\" class=\"dataframe\">\n",
       "  <thead>\n",
       "    <tr style=\"text-align: right;\">\n",
       "      <th></th>\n",
       "      <th>property_type</th>\n",
       "      <th>furnish_status</th>\n",
       "      <th>bedrooms</th>\n",
       "      <th>carpet_area</th>\n",
       "      <th>bathrooms</th>\n",
       "      <th>balconies</th>\n",
       "      <th>poss_status</th>\n",
       "      <th>price</th>\n",
       "      <th>location_encoded</th>\n",
       "    </tr>\n",
       "  </thead>\n",
       "  <tbody>\n",
       "    <tr>\n",
       "      <th>0</th>\n",
       "      <td>1</td>\n",
       "      <td>0</td>\n",
       "      <td>2</td>\n",
       "      <td>761</td>\n",
       "      <td>2</td>\n",
       "      <td>2</td>\n",
       "      <td>0</td>\n",
       "      <td>21800000</td>\n",
       "      <td>24084079</td>\n",
       "    </tr>\n",
       "    <tr>\n",
       "      <th>1</th>\n",
       "      <td>1</td>\n",
       "      <td>0</td>\n",
       "      <td>2</td>\n",
       "      <td>684</td>\n",
       "      <td>2</td>\n",
       "      <td>0</td>\n",
       "      <td>0</td>\n",
       "      <td>21400000</td>\n",
       "      <td>33022595</td>\n",
       "    </tr>\n",
       "    <tr>\n",
       "      <th>2</th>\n",
       "      <td>1</td>\n",
       "      <td>1</td>\n",
       "      <td>1</td>\n",
       "      <td>440</td>\n",
       "      <td>2</td>\n",
       "      <td>0</td>\n",
       "      <td>0</td>\n",
       "      <td>8156093</td>\n",
       "      <td>9233415</td>\n",
       "    </tr>\n",
       "  </tbody>\n",
       "</table>\n",
       "</div>"
      ],
      "text/plain": [
       "   property_type  furnish_status  bedrooms  carpet_area  bathrooms  balconies  \\\n",
       "0              1               0         2          761          2          2   \n",
       "1              1               0         2          684          2          0   \n",
       "2              1               1         1          440          2          0   \n",
       "\n",
       "   poss_status     price  location_encoded  \n",
       "0            0  21800000          24084079  \n",
       "1            0  21400000          33022595  \n",
       "2            0   8156093           9233415  "
      ]
     },
     "execution_count": 148,
     "metadata": {},
     "output_type": "execute_result"
    }
   ],
   "source": [
    "avg_price_location = df_encoded.groupby('location')['price'].mean().astype('int')\n",
    "\n",
    "df_encoded['location_encoded'] = df_encoded['location'].map(avg_price_location)\n",
    "df_encoded.drop('location',axis=1,inplace=True)\n",
    "df_encoded.head(3)"
   ]
  },
  {
   "cell_type": "code",
   "execution_count": 149,
   "metadata": {},
   "outputs": [
    {
     "data": {
      "image/png": "[encoded data removed]",
      "text/plain": [
       "<Figure size 900x400 with 2 Axes>"
      ]
     },
     "metadata": {},
     "output_type": "display_data"
    }
   ],
   "source": [
    "numeric_cols = df_encoded.select_dtypes(exclude=['object']).columns\n",
    "\n",
    "cm = df[numeric_cols].corr()\n",
    "plt.figure(figsize=(9,4))\n",
    "plt.title(\"Co-Relation Matrix\")\n",
    "sns.heatmap(cm,annot=True,cmap='viridis')\n",
    "plt.show()"
   ]
  },
  {
   "cell_type": "code",
   "execution_count": null,
   "metadata": {},
   "outputs": [],
   "source": []
  },
  {
   "cell_type": "markdown",
   "metadata": {},
   "source": [
    "## Model Training:"
   ]
  },
  {
   "cell_type": "code",
   "execution_count": 150,
   "metadata": {},
   "outputs": [
    {
     "name": "stdout",
     "output_type": "stream",
     "text": [
      "(59164, 9)\n",
      "X_train and X_test (41414, 8) (17750, 8)\n",
      "y_train and y_test (41414,) (17750,)\n"
     ]
    }
   ],
   "source": [
    "X = df_encoded.drop('price',axis=1)\n",
    "y = df['price']\n",
    "\n",
    "X_train,X_test,y_train,y_test = train_test_split(X,y,test_size=0.30,random_state=42)\n",
    "\n",
    "print(df.shape)\n",
    "print(\"X_train and X_test\", X_train.shape,X_test.shape)\n",
    "print(\"y_train and y_test\" ,y_train.shape,y_test.shape)"
   ]
  },
  {
   "cell_type": "code",
   "execution_count": 151,
   "metadata": {},
   "outputs": [],
   "source": [
    "# Lets create a custom function for model training and calculating the metrics:\n",
    "\n",
    "def calculate(model):\n",
    "     model.fit(X_train,y_train)\n",
    "     y_pred = model.predict(X_test)\n",
    "     \n",
    "     train_score = model.score(X_train,y_train)\n",
    "     test_score = model.score(X_test,y_test)\n",
    "     mse = mean_squared_error(y_test,y_pred)\n",
    "     rmse = np.sqrt(mse)\n",
    "     r2 = r2_score(y_test,y_pred)\n",
    "\n",
    "     print( f\"Model => {model} \")\n",
    "     \n",
    "     print(f\"train score = {round(train_score,2)}\")\n",
    "     print(f\"test score = {round(test_score,2)}\")\n",
    "     print(f\"Rmse = {round(rmse,2)}\" )\n",
    "     print(f\"r2 score = {round(r2,2)}\")\n",
    "     "
   ]
  },
  {
   "cell_type": "code",
   "execution_count": 152,
   "metadata": {},
   "outputs": [
    {
     "name": "stdout",
     "output_type": "stream",
     "text": [
      "Model => LinearRegression() \n",
      "train score = 0.87\n",
      "test score = 0.89\n",
      "Rmse = 6220252.41\n",
      "r2 score = 0.89\n"
     ]
    }
   ],
   "source": [
    "calculate(LinearRegression())"
   ]
  },
  {
   "cell_type": "code",
   "execution_count": 153,
   "metadata": {},
   "outputs": [
    {
     "name": "stdout",
     "output_type": "stream",
     "text": [
      "Model => Ridge() \n",
      "train score = 0.87\n",
      "test score = 0.89\n",
      "Rmse = 6220241.08\n",
      "r2 score = 0.89\n"
     ]
    }
   ],
   "source": [
    "calculate(Ridge())"
   ]
  },
  {
   "cell_type": "code",
   "execution_count": 154,
   "metadata": {},
   "outputs": [
    {
     "name": "stdout",
     "output_type": "stream",
     "text": [
      "Model => RandomForestRegressor() \n",
      "train score = 1.0\n",
      "test score = 0.98\n",
      "Rmse = 2757892.88\n",
      "r2 score = 0.98\n"
     ]
    }
   ],
   "source": [
    "calculate(RandomForestRegressor())"
   ]
  },
  {
   "cell_type": "code",
   "execution_count": 155,
   "metadata": {},
   "outputs": [
    {
     "name": "stdout",
     "output_type": "stream",
     "text": [
      "Model => XGBRegressor(base_score=None, booster=None, callbacks=None,\n",
      "             colsample_bylevel=None, colsample_bynode=None,\n",
      "             colsample_bytree=None, device=None, early_stopping_rounds=None,\n",
      "             enable_categorical=False, eval_metric=None, feature_types=None,\n",
      "             gamma=None, grow_policy=None, importance_type=None,\n",
      "             interaction_constraints=None, learning_rate=None, max_bin=None,\n",
      "             max_cat_threshold=None, max_cat_to_onehot=None,\n",
      "             max_delta_step=None, max_depth=None, max_leaves=None,\n",
      "             min_child_weight=None, missing=nan, monotone_constraints=None,\n",
      "             multi_strategy=None, n_estimators=None, n_jobs=None,\n",
      "             num_parallel_tree=None, random_state=None, ...) \n",
      "train score = 0.99\n",
      "test score = 0.97\n",
      "Rmse = 3221320.84\n",
      "r2 score = 0.97\n"
     ]
    }
   ],
   "source": [
    "calculate(XGBRegressor())"
   ]
  },
  {
   "cell_type": "code",
   "execution_count": null,
   "metadata": {},
   "outputs": [],
   "source": []
  },
  {
   "cell_type": "markdown",
   "metadata": {},
   "source": [
    "## Model Fine Tuning:"
   ]
  },
  {
   "cell_type": "code",
   "execution_count": null,
   "metadata": {},
   "outputs": [],
   "source": [
    "rf_params = {\n",
    "    'n_estimators': 1000,\n",
    "    'max_depth': 20,\n",
    "    'min_samples_split': 4,\n",
    "    'min_samples_leaf': 2,\n",
    "    'max_features': 'auto',\n",
    "    'bootstrap': False\n",
    "}\n",
    "\n",
    "calculate(RandomForestRegressor(**rf_params,random_state=42))"
   ]
  },
  {
   "cell_type": "code",
   "execution_count": null,
   "metadata": {},
   "outputs": [
    {
     "name": "stdout",
     "output_type": "stream",
     "text": [
      "Model => XGBRegressor(base_score=None, booster=None, callbacks=None,\n",
      "             colsample_bylevel=None, colsample_bynode=None,\n",
      "             colsample_bytree=0.9, device=None, early_stopping_rounds=None,\n",
      "             enable_categorical=False, eval_metric=None, feature_types=None,\n",
      "             gamma=3, grow_policy=None, importance_type=None,\n",
      "             interaction_constraints=None, learning_rate=0.01, max_bin=None,\n",
      "             max_cat_threshold=None, max_cat_to_onehot=None,\n",
      "             max_delta_step=None, max_depth=8, max_leaves=None,\n",
      "             min_child_weight=None, missing=nan, monotone_constraints=None,\n",
      "             multi_strategy=None, n_estimators=1000, n_jobs=None,\n",
      "             num_parallel_tree=None, random_state=None, ...) \n",
      "train score = 0.99\n",
      "test score = 0.97\n",
      "Rmse = 2955707.53\n",
      "r2 score = 0.97\n"
     ]
    }
   ],
   "source": [
    "xgb_params = {\n",
    "    'n_estimators': 1000,\n",
    "    'learning_rate': 0.01,\n",
    "    'max_depth': 8,\n",
    "    'subsample': 0.9,\n",
    "    'colsample_bytree': 0.9,\n",
    "    'gamma': 3,\n",
    "    'reg_alpha': 1,\n",
    "    'reg_lambda': 5,\n",
    "}\n",
    "\n",
    "calculate(XGBRegressor(**xgb_params))"
   ]
  },
  {
   "cell_type": "code",
   "execution_count": null,
   "metadata": {},
   "outputs": [],
   "source": []
  },
  {
   "cell_type": "markdown",
   "metadata": {},
   "source": [
    "## Error margin:"
   ]
  },
  {
   "cell_type": "code",
   "execution_count": 162,
   "metadata": {},
   "outputs": [
    {
     "data": {
      "text/plain": [
       "Index(['property_type', 'furnish_status', 'bedrooms', 'carpet_area',\n",
       "       'bathrooms', 'balconies', 'poss_status', 'location_encoded'],\n",
       "      dtype='object')"
      ]
     },
     "execution_count": 162,
     "metadata": {},
     "output_type": "execute_result"
    }
   ],
   "source": [
    "X_train.columns"
   ]
  },
  {
   "cell_type": "code",
   "execution_count": 163,
   "metadata": {},
   "outputs": [
    {
     "data": {
      "text/html": [
       "<div>\n",
       "<style scoped>\n",
       "    .dataframe tbody tr th:only-of-type {\n",
       "        vertical-align: middle;\n",
       "    }\n",
       "\n",
       "    .dataframe tbody tr th {\n",
       "        vertical-align: top;\n",
       "    }\n",
       "\n",
       "    .dataframe thead th {\n",
       "        text-align: right;\n",
       "    }\n",
       "</style>\n",
       "<table border=\"1\" class=\"dataframe\">\n",
       "  <thead>\n",
       "    <tr style=\"text-align: right;\">\n",
       "      <th></th>\n",
       "      <th>Actual_value</th>\n",
       "      <th>predicted_value</th>\n",
       "      <th>diff</th>\n",
       "      <th>diff_pct</th>\n",
       "    </tr>\n",
       "  </thead>\n",
       "  <tbody>\n",
       "    <tr>\n",
       "      <th>31115</th>\n",
       "      <td>36800000</td>\n",
       "      <td>36697472.0</td>\n",
       "      <td>-102528.0</td>\n",
       "      <td>-0.278609</td>\n",
       "    </tr>\n",
       "    <tr>\n",
       "      <th>2749</th>\n",
       "      <td>16900000</td>\n",
       "      <td>17881692.0</td>\n",
       "      <td>981692.0</td>\n",
       "      <td>5.808828</td>\n",
       "    </tr>\n",
       "    <tr>\n",
       "      <th>43627</th>\n",
       "      <td>27586000</td>\n",
       "      <td>27585664.0</td>\n",
       "      <td>-336.0</td>\n",
       "      <td>-0.001218</td>\n",
       "    </tr>\n",
       "  </tbody>\n",
       "</table>\n",
       "</div>"
      ],
      "text/plain": [
       "       Actual_value  predicted_value      diff  diff_pct\n",
       "31115      36800000       36697472.0 -102528.0 -0.278609\n",
       "2749       16900000       17881692.0  981692.0  5.808828\n",
       "43627      27586000       27585664.0    -336.0 -0.001218"
      ]
     },
     "execution_count": 163,
     "metadata": {},
     "output_type": "execute_result"
    }
   ],
   "source": [
    "best_model = XGBRegressor(**xgb_params1)\n",
    "best_model.fit(X_train,y_train)\n",
    "\n",
    "y_pred = best_model.predict(X_test)\n",
    "\n",
    "residuals = y_pred - y_test\n",
    "residuals_pct =  residuals *100 / y_test\n",
    "\n",
    "results_df = pd.DataFrame(\n",
    "    {'Actual_value': y_test,\n",
    "    'predicted_value': y_pred,\n",
    "    'diff': residuals,\n",
    "    'diff_pct': residuals_pct\n",
    "    }\n",
    ")\n",
    "\n",
    "results_df.head(3)"
   ]
  },
  {
   "cell_type": "markdown",
   "metadata": {},
   "source": [
    "### Feature Importance:"
   ]
  },
  {
   "cell_type": "code",
   "execution_count": 164,
   "metadata": {},
   "outputs": [
    {
     "data": {
      "image/png": "[encoded data removed]",
      "text/plain": [
       "<Figure size 640x480 with 1 Axes>"
      ]
     },
     "metadata": {},
     "output_type": "display_data"
    }
   ],
   "source": [
    "from xgboost import plot_importance\n",
    "plot_importance(best_model)\n",
    "plt.show()"
   ]
  },
  {
   "cell_type": "code",
   "execution_count": 165,
   "metadata": {},
   "outputs": [
    {
     "data": {
      "text/plain": [
       "count       17750.0\n",
       "mean        3.87831\n",
       "std       23.983174\n",
       "min        0.000323\n",
       "25%         0.06337\n",
       "50%        0.155508\n",
       "75%        0.278609\n",
       "max      954.015111\n",
       "Name: diff_pct, dtype: Float64"
      ]
     },
     "execution_count": 165,
     "metadata": {},
     "output_type": "execute_result"
    }
   ],
   "source": [
    "np.abs(results_df['diff_pct']).describe()"
   ]
  },
  {
   "cell_type": "code",
   "execution_count": 166,
   "metadata": {},
   "outputs": [
    {
     "data": {
      "text/plain": [
       "(1378, 4)"
      ]
     },
     "execution_count": 166,
     "metadata": {},
     "output_type": "execute_result"
    }
   ],
   "source": [
    "results_df[np.abs(results_df['diff_pct']) > 10].shape"
   ]
  },
  {
   "cell_type": "code",
   "execution_count": 167,
   "metadata": {},
   "outputs": [
    {
     "name": "stdout",
     "output_type": "stream",
     "text": [
      "(1378, 4)\n"
     ]
    },
    {
     "data": {
      "text/html": [
       "<div>\n",
       "<style scoped>\n",
       "    .dataframe tbody tr th:only-of-type {\n",
       "        vertical-align: middle;\n",
       "    }\n",
       "\n",
       "    .dataframe tbody tr th {\n",
       "        vertical-align: top;\n",
       "    }\n",
       "\n",
       "    .dataframe thead th {\n",
       "        text-align: right;\n",
       "    }\n",
       "</style>\n",
       "<table border=\"1\" class=\"dataframe\">\n",
       "  <thead>\n",
       "    <tr style=\"text-align: right;\">\n",
       "      <th></th>\n",
       "      <th>Actual_value</th>\n",
       "      <th>predicted_value</th>\n",
       "      <th>diff</th>\n",
       "      <th>diff_pct</th>\n",
       "    </tr>\n",
       "  </thead>\n",
       "  <tbody>\n",
       "    <tr>\n",
       "      <th>4765</th>\n",
       "      <td>12000000</td>\n",
       "      <td>14141064.0</td>\n",
       "      <td>2141064.0</td>\n",
       "      <td>17.8422</td>\n",
       "    </tr>\n",
       "    <tr>\n",
       "      <th>3638</th>\n",
       "      <td>16000000</td>\n",
       "      <td>28816100.0</td>\n",
       "      <td>12816100.0</td>\n",
       "      <td>80.100625</td>\n",
       "    </tr>\n",
       "    <tr>\n",
       "      <th>5031</th>\n",
       "      <td>13500000</td>\n",
       "      <td>11128201.0</td>\n",
       "      <td>-2371799.0</td>\n",
       "      <td>-17.568881</td>\n",
       "    </tr>\n",
       "    <tr>\n",
       "      <th>114</th>\n",
       "      <td>46000000</td>\n",
       "      <td>27183684.0</td>\n",
       "      <td>-18816316.0</td>\n",
       "      <td>-40.905035</td>\n",
       "    </tr>\n",
       "    <tr>\n",
       "      <th>309</th>\n",
       "      <td>25000000</td>\n",
       "      <td>11227358.0</td>\n",
       "      <td>-13772642.0</td>\n",
       "      <td>-55.090568</td>\n",
       "    </tr>\n",
       "  </tbody>\n",
       "</table>\n",
       "</div>"
      ],
      "text/plain": [
       "      Actual_value  predicted_value        diff   diff_pct\n",
       "4765      12000000       14141064.0   2141064.0    17.8422\n",
       "3638      16000000       28816100.0  12816100.0  80.100625\n",
       "5031      13500000       11128201.0  -2371799.0 -17.568881\n",
       "114       46000000       27183684.0 -18816316.0 -40.905035\n",
       "309       25000000       11227358.0 -13772642.0 -55.090568"
      ]
     },
     "execution_count": 167,
     "metadata": {},
     "output_type": "execute_result"
    }
   ],
   "source": [
    "extreme_error_threshold = 10  # Threshold of 10% to calculate errors more than 10%.\n",
    "extreme_results_df = results_df[np.abs(results_df['diff_pct']) > extreme_error_threshold]\n",
    "print(extreme_results_df.shape)\n",
    "extreme_results_df.head()"
   ]
  },
  {
   "cell_type": "code",
   "execution_count": 168,
   "metadata": {},
   "outputs": [
    {
     "data": {
      "text/plain": [
       "7.763380281690141"
      ]
     },
     "execution_count": 168,
     "metadata": {},
     "output_type": "execute_result"
    }
   ],
   "source": [
    "extreme_errors_pct = extreme_results_df.shape[0]*100/X_test.shape[0]\n",
    "extreme_errors_pct"
   ]
  },
  {
   "cell_type": "markdown",
   "metadata": {},
   "source": [
    "#### For Error margin of more than 10% we have 1378 rows."
   ]
  },
  {
   "cell_type": "markdown",
   "metadata": {},
   "source": [
    "#### This means for 7.76% of flats we will predict the price by more or less than 10%"
   ]
  },
  {
   "cell_type": "code",
   "execution_count": null,
   "metadata": {},
   "outputs": [],
   "source": []
  },
  {
   "cell_type": "markdown",
   "metadata": {},
   "source": [
    "### Sample predictions:"
   ]
  },
  {
   "cell_type": "code",
   "execution_count": 180,
   "metadata": {},
   "outputs": [
    {
     "data": {
      "text/html": [
       "<div>\n",
       "<style scoped>\n",
       "    .dataframe tbody tr th:only-of-type {\n",
       "        vertical-align: middle;\n",
       "    }\n",
       "\n",
       "    .dataframe tbody tr th {\n",
       "        vertical-align: top;\n",
       "    }\n",
       "\n",
       "    .dataframe thead th {\n",
       "        text-align: right;\n",
       "    }\n",
       "</style>\n",
       "<table border=\"1\" class=\"dataframe\">\n",
       "  <thead>\n",
       "    <tr style=\"text-align: right;\">\n",
       "      <th></th>\n",
       "      <th>property_type</th>\n",
       "      <th>furnish_status</th>\n",
       "      <th>bedrooms</th>\n",
       "      <th>carpet_area</th>\n",
       "      <th>bathrooms</th>\n",
       "      <th>balconies</th>\n",
       "      <th>poss_status</th>\n",
       "      <th>price</th>\n",
       "      <th>location_encoded</th>\n",
       "    </tr>\n",
       "  </thead>\n",
       "  <tbody>\n",
       "    <tr>\n",
       "      <th>0</th>\n",
       "      <td>1</td>\n",
       "      <td>0</td>\n",
       "      <td>2</td>\n",
       "      <td>761</td>\n",
       "      <td>2</td>\n",
       "      <td>2</td>\n",
       "      <td>0</td>\n",
       "      <td>21800000</td>\n",
       "      <td>24084079</td>\n",
       "    </tr>\n",
       "  </tbody>\n",
       "</table>\n",
       "</div>"
      ],
      "text/plain": [
       "   property_type  furnish_status  bedrooms  carpet_area  bathrooms  balconies  \\\n",
       "0              1               0         2          761          2          2   \n",
       "\n",
       "   poss_status     price  location_encoded  \n",
       "0            0  21800000          24084079  "
      ]
     },
     "execution_count": 180,
     "metadata": {},
     "output_type": "execute_result"
    }
   ],
   "source": [
    "df_encoded.head(1)"
   ]
  },
  {
   "cell_type": "code",
   "execution_count": 181,
   "metadata": {},
   "outputs": [
    {
     "name": "stdout",
     "output_type": "stream",
     "text": [
      "[22042598.]\n"
     ]
    }
   ],
   "source": [
    "test_sample = {\n",
    "    \"property_type\": 1,         # Example: 1 for resale, 0 for new\n",
    "    \"furnish_status\": 0,        # Example: 0 = Unfurnished, 1 = Semi-furnished, 2 = Fully-furnished\n",
    "    \"bedrooms\": 2,              # Example: 2 BHK\n",
    "    \"carpet_area\": 761,         # Example: 850 sq. ft.\n",
    "    \"bathrooms\": 2,             # Example: 2 bathrooms\n",
    "    \"balconies\": 2,             # Example: 2 balconies\n",
    "    \"poss_status\": 0,           # Example: 1 = Ready to move, 0 = Under construction\n",
    "    \"location_encoded\": 24084079     # Encoded value for location\n",
    "}\n",
    "\n",
    "test_df = pd.DataFrame([test_sample])\n",
    "predicted_price = best_model.predict(test_df)\n",
    "print(predicted_price)"
   ]
  },
  {
   "cell_type": "code",
   "execution_count": null,
   "metadata": {},
   "outputs": [],
   "source": []
  }
 ],
 "metadata": {
  "kernelspec": {
   "display_name": "base",
   "language": "python",
   "name": "python3"
  },
  "language_info": {
   "codemirror_mode": {
    "name": "ipython",
    "version": 3
   },
   "file_extension": ".py",
   "mimetype": "text/x-python",
   "name": "python",
   "nbconvert_exporter": "python",
   "pygments_lexer": "ipython3",
   "version": "3.11.5"
  }
 },
 "nbformat": 4,
 "nbformat_minor": 2
}
