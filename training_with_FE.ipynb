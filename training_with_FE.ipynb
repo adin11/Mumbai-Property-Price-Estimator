{
 "cells": [
  {
   "cell_type": "markdown",
   "metadata": {},
   "source": [
    "# Mumbai Property Price Prediction Model:"
   ]
  },
  {
   "cell_type": "code",
   "execution_count": 1,
   "metadata": {},
   "outputs": [],
   "source": [
    "import pandas as pd\n",
    "import numpy as np\n",
    "import matplotlib.pyplot as plt\n",
    "import seaborn as sns\n",
    "import sqlite3\n",
    "\n",
    "from sklearn.model_selection import train_test_split\n",
    "from sklearn.linear_model import LinearRegression,Ridge,Lasso\n",
    "from sklearn.metrics import mean_squared_error, r2_score\n",
    "from sklearn.ensemble import RandomForestRegressor\n",
    "from xgboost import XGBRegressor\n",
    "from sklearn.model_selection import GridSearchCV, RandomizedSearchCV, train_test_split\n",
    "\n",
    "import warnings\n",
    "warnings.simplefilter(action='ignore', category=RuntimeWarning)"
   ]
  },
  {
   "cell_type": "markdown",
   "metadata": {},
   "source": [
    "### Establishing connection with the database"
   ]
  },
  {
   "cell_type": "code",
   "execution_count": 2,
   "metadata": {},
   "outputs": [
    {
     "name": "stdout",
     "output_type": "stream",
     "text": [
      "<sqlite3.Connection object at 0x0000025A8ADC6890>\n",
      "(58080, 11)\n"
     ]
    },
    {
     "data": {
      "text/html": [
       "<div>\n",
       "<style scoped>\n",
       "    .dataframe tbody tr th:only-of-type {\n",
       "        vertical-align: middle;\n",
       "    }\n",
       "\n",
       "    .dataframe tbody tr th {\n",
       "        vertical-align: top;\n",
       "    }\n",
       "\n",
       "    .dataframe thead th {\n",
       "        text-align: right;\n",
       "    }\n",
       "</style>\n",
       "<table border=\"1\" class=\"dataframe\">\n",
       "  <thead>\n",
       "    <tr style=\"text-align: right;\">\n",
       "      <th></th>\n",
       "      <th>property_type</th>\n",
       "      <th>furnish_status</th>\n",
       "      <th>bedrooms</th>\n",
       "      <th>carpet_area</th>\n",
       "      <th>bathrooms</th>\n",
       "      <th>balconies</th>\n",
       "      <th>poss_status</th>\n",
       "      <th>location</th>\n",
       "      <th>latitude</th>\n",
       "      <th>longitude</th>\n",
       "      <th>price</th>\n",
       "    </tr>\n",
       "  </thead>\n",
       "  <tbody>\n",
       "    <tr>\n",
       "      <th>0</th>\n",
       "      <td>New Property</td>\n",
       "      <td>Unfurnished</td>\n",
       "      <td>3</td>\n",
       "      <td>992</td>\n",
       "      <td>3</td>\n",
       "      <td>None</td>\n",
       "      <td>Dec '27</td>\n",
       "      <td>Sion</td>\n",
       "      <td>19.052807</td>\n",
       "      <td>72.872584</td>\n",
       "      <td>33150000.0</td>\n",
       "    </tr>\n",
       "    <tr>\n",
       "      <th>1</th>\n",
       "      <td>New Property</td>\n",
       "      <td>Semi-Furnished</td>\n",
       "      <td>2</td>\n",
       "      <td>580</td>\n",
       "      <td>2</td>\n",
       "      <td>None</td>\n",
       "      <td>Dec '26</td>\n",
       "      <td>Navghar Road</td>\n",
       "      <td>19.304890</td>\n",
       "      <td>72.866211</td>\n",
       "      <td>11054551.0</td>\n",
       "    </tr>\n",
       "    <tr>\n",
       "      <th>2</th>\n",
       "      <td>New Property</td>\n",
       "      <td>Unfurnished</td>\n",
       "      <td>2</td>\n",
       "      <td>795</td>\n",
       "      <td>2</td>\n",
       "      <td>1</td>\n",
       "      <td>Sep '27</td>\n",
       "      <td>Andheri East</td>\n",
       "      <td>19.106338</td>\n",
       "      <td>72.869613</td>\n",
       "      <td>25000000.0</td>\n",
       "    </tr>\n",
       "  </tbody>\n",
       "</table>\n",
       "</div>"
      ],
      "text/plain": [
       "  property_type  furnish_status bedrooms carpet_area bathrooms balconies  \\\n",
       "0  New Property     Unfurnished        3         992         3      None   \n",
       "1  New Property  Semi-Furnished        2         580         2      None   \n",
       "2  New Property     Unfurnished        2         795         2         1   \n",
       "\n",
       "  poss_status      location   latitude  longitude       price  \n",
       "0     Dec '27          Sion  19.052807  72.872584  33150000.0  \n",
       "1     Dec '26  Navghar Road  19.304890  72.866211  11054551.0  \n",
       "2     Sep '27  Andheri East  19.106338  72.869613  25000000.0  "
      ]
     },
     "execution_count": 2,
     "metadata": {},
     "output_type": "execute_result"
    }
   ],
   "source": [
    "conn = sqlite3.connect('real_estate.db')\n",
    "print(conn)\n",
    "\n",
    "df = pd.read_sql_query(\"select * from properties\",conn)\n",
    "print(df.shape)\n",
    "df.head(3)"
   ]
  },
  {
   "cell_type": "code",
   "execution_count": 3,
   "metadata": {},
   "outputs": [
    {
     "name": "stdout",
     "output_type": "stream",
     "text": [
      "<class 'pandas.core.frame.DataFrame'>\n",
      "RangeIndex: 58080 entries, 0 to 58079\n",
      "Data columns (total 11 columns):\n",
      " #   Column          Non-Null Count  Dtype  \n",
      "---  ------          --------------  -----  \n",
      " 0   property_type   58066 non-null  object \n",
      " 1   furnish_status  57725 non-null  object \n",
      " 2   bedrooms        58080 non-null  object \n",
      " 3   carpet_area     58080 non-null  object \n",
      " 4   bathrooms       57896 non-null  object \n",
      " 5   balconies       30054 non-null  object \n",
      " 6   poss_status     57816 non-null  object \n",
      " 7   location        57658 non-null  object \n",
      " 8   latitude        55043 non-null  float64\n",
      " 9   longitude       55043 non-null  float64\n",
      " 10  price           57922 non-null  float64\n",
      "dtypes: float64(3), object(8)\n",
      "memory usage: 4.9+ MB\n"
     ]
    }
   ],
   "source": [
    "df.info()"
   ]
  },
  {
   "cell_type": "markdown",
   "metadata": {},
   "source": [
    "# Data Cleaning and EDA:"
   ]
  },
  {
   "cell_type": "markdown",
   "metadata": {},
   "source": [
    "\n",
    "#### Fixing datatype mismatch :"
   ]
  },
  {
   "cell_type": "code",
   "execution_count": 4,
   "metadata": {},
   "outputs": [
    {
     "name": "stdout",
     "output_type": "stream",
     "text": [
      "property_type      object\n",
      "furnish_status     object\n",
      "bedrooms            Int64\n",
      "carpet_area         Int64\n",
      "bathrooms           Int64\n",
      "balconies           Int64\n",
      "poss_status        object\n",
      "location           object\n",
      "latitude          float64\n",
      "longitude         float64\n",
      "price               Int64\n",
      "dtype: object\n"
     ]
    }
   ],
   "source": [
    "df['bedrooms'] = pd.to_numeric(df['bedrooms'], errors='coerce').astype('Int64')\n",
    "df['carpet_area'] = pd.to_numeric(df['carpet_area'], errors='coerce').astype('Int64')\n",
    "df['balconies'] = pd.to_numeric(df['balconies'], errors='coerce').astype('Int64')\n",
    "df['price'] = pd.to_numeric(df['price'], errors='coerce').astype('Int64')\n",
    "df['bathrooms'] = pd.to_numeric(df['bathrooms'],errors='coerce').astype('Int64')\n",
    "\n",
    "print(df.dtypes)"
   ]
  },
  {
   "cell_type": "markdown",
   "metadata": {},
   "source": [
    "### Imputing and Fixing Null Values:"
   ]
  },
  {
   "cell_type": "code",
   "execution_count": 5,
   "metadata": {},
   "outputs": [
    {
     "name": "stdout",
     "output_type": "stream",
     "text": [
      "Null values in the dataset\n",
      "property_type        14\n",
      "furnish_status      355\n",
      "bedrooms             62\n",
      "carpet_area         227\n",
      "bathrooms           209\n",
      "balconies         28048\n",
      "poss_status         264\n",
      "location            422\n",
      "latitude           3037\n",
      "longitude          3037\n",
      "price               158\n",
      "dtype: int64\n"
     ]
    }
   ],
   "source": [
    "print(\"Null values in the dataset\")\n",
    "print(df.isna().sum())"
   ]
  },
  {
   "cell_type": "code",
   "execution_count": 6,
   "metadata": {},
   "outputs": [
    {
     "name": "stdout",
     "output_type": "stream",
     "text": [
      "property_type       14\n",
      "furnish_status     355\n",
      "bedrooms            62\n",
      "carpet_area        227\n",
      "bathrooms          209\n",
      "balconies            0\n",
      "poss_status        264\n",
      "location           422\n",
      "latitude          3037\n",
      "longitude         3037\n",
      "price              158\n",
      "dtype: int64\n"
     ]
    },
    {
     "name": "stderr",
     "output_type": "stream",
     "text": [
      "C:\\Users\\adinr\\AppData\\Local\\Temp\\ipykernel_11768\\4045092315.py:1: FutureWarning: A value is trying to be set on a copy of a DataFrame or Series through chained assignment using an inplace method.\n",
      "The behavior will change in pandas 3.0. This inplace method will never work because the intermediate object on which we are setting values always behaves as a copy.\n",
      "\n",
      "For example, when doing 'df[col].method(value, inplace=True)', try using 'df.method({col: value}, inplace=True)' or df[col] = df[col].method(value) instead, to perform the operation inplace on the original object.\n",
      "\n",
      "\n",
      "  df['balconies'].fillna(0,inplace=True)\n"
     ]
    }
   ],
   "source": [
    "df['balconies'].fillna(0,inplace=True)\n",
    "print(df.isna().sum())"
   ]
  },
  {
   "cell_type": "code",
   "execution_count": 7,
   "metadata": {},
   "outputs": [
    {
     "name": "stdout",
     "output_type": "stream",
     "text": [
      "property_type       14\n",
      "furnish_status     355\n",
      "bedrooms             0\n",
      "carpet_area        227\n",
      "bathrooms          209\n",
      "balconies            0\n",
      "poss_status        264\n",
      "location           422\n",
      "latitude          3037\n",
      "longitude         3037\n",
      "price              158\n",
      "dtype: int64\n"
     ]
    },
    {
     "name": "stderr",
     "output_type": "stream",
     "text": [
      "C:\\Users\\adinr\\AppData\\Local\\Temp\\ipykernel_11768\\462575656.py:1: FutureWarning: A value is trying to be set on a copy of a DataFrame or Series through chained assignment using an inplace method.\n",
      "The behavior will change in pandas 3.0. This inplace method will never work because the intermediate object on which we are setting values always behaves as a copy.\n",
      "\n",
      "For example, when doing 'df[col].method(value, inplace=True)', try using 'df.method({col: value}, inplace=True)' or df[col] = df[col].method(value) instead, to perform the operation inplace on the original object.\n",
      "\n",
      "\n",
      "  df['bedrooms'].fillna(0,inplace=True)\n"
     ]
    }
   ],
   "source": [
    "df['bedrooms'].fillna(0,inplace=True)\n",
    "print(df.isna().sum())"
   ]
  },
  {
   "cell_type": "code",
   "execution_count": 8,
   "metadata": {},
   "outputs": [
    {
     "name": "stdout",
     "output_type": "stream",
     "text": [
      "property_type        3\n",
      "furnish_status     249\n",
      "bedrooms             0\n",
      "carpet_area        153\n",
      "bathrooms          104\n",
      "balconies            0\n",
      "poss_status        150\n",
      "location           403\n",
      "latitude          2950\n",
      "longitude         2950\n",
      "price                0\n",
      "dtype: int64\n"
     ]
    }
   ],
   "source": [
    "df.dropna(subset=['price'], inplace=True)\n",
    "print(df.isna().sum())"
   ]
  },
  {
   "cell_type": "code",
   "execution_count": 9,
   "metadata": {},
   "outputs": [
    {
     "name": "stdout",
     "output_type": "stream",
     "text": [
      "(54872, 11)\n",
      "property_type     0\n",
      "furnish_status    0\n",
      "bedrooms          0\n",
      "carpet_area       0\n",
      "bathrooms         0\n",
      "balconies         0\n",
      "poss_status       0\n",
      "location          0\n",
      "latitude          0\n",
      "longitude         0\n",
      "price             0\n",
      "dtype: int64\n"
     ]
    }
   ],
   "source": [
    "df.dropna(inplace=True)\n",
    "print(df.shape)\n",
    "print(df.isna().sum())"
   ]
  },
  {
   "cell_type": "code",
   "execution_count": 10,
   "metadata": {},
   "outputs": [
    {
     "data": {
      "text/html": [
       "<div>\n",
       "<style scoped>\n",
       "    .dataframe tbody tr th:only-of-type {\n",
       "        vertical-align: middle;\n",
       "    }\n",
       "\n",
       "    .dataframe tbody tr th {\n",
       "        vertical-align: top;\n",
       "    }\n",
       "\n",
       "    .dataframe thead th {\n",
       "        text-align: right;\n",
       "    }\n",
       "</style>\n",
       "<table border=\"1\" class=\"dataframe\">\n",
       "  <thead>\n",
       "    <tr style=\"text-align: right;\">\n",
       "      <th></th>\n",
       "      <th>property_type</th>\n",
       "      <th>furnish_status</th>\n",
       "      <th>bedrooms</th>\n",
       "      <th>carpet_area</th>\n",
       "      <th>bathrooms</th>\n",
       "      <th>balconies</th>\n",
       "      <th>poss_status</th>\n",
       "      <th>location</th>\n",
       "      <th>latitude</th>\n",
       "      <th>longitude</th>\n",
       "      <th>price</th>\n",
       "    </tr>\n",
       "  </thead>\n",
       "  <tbody>\n",
       "    <tr>\n",
       "      <th>0</th>\n",
       "      <td>New Property</td>\n",
       "      <td>Unfurnished</td>\n",
       "      <td>3</td>\n",
       "      <td>992</td>\n",
       "      <td>3</td>\n",
       "      <td>0</td>\n",
       "      <td>Dec '27</td>\n",
       "      <td>Sion</td>\n",
       "      <td>19.052807</td>\n",
       "      <td>72.872584</td>\n",
       "      <td>33150000</td>\n",
       "    </tr>\n",
       "    <tr>\n",
       "      <th>1</th>\n",
       "      <td>New Property</td>\n",
       "      <td>Semi-Furnished</td>\n",
       "      <td>2</td>\n",
       "      <td>580</td>\n",
       "      <td>2</td>\n",
       "      <td>0</td>\n",
       "      <td>Dec '26</td>\n",
       "      <td>Navghar Road</td>\n",
       "      <td>19.304890</td>\n",
       "      <td>72.866211</td>\n",
       "      <td>11054551</td>\n",
       "    </tr>\n",
       "    <tr>\n",
       "      <th>2</th>\n",
       "      <td>New Property</td>\n",
       "      <td>Unfurnished</td>\n",
       "      <td>2</td>\n",
       "      <td>795</td>\n",
       "      <td>2</td>\n",
       "      <td>1</td>\n",
       "      <td>Sep '27</td>\n",
       "      <td>Andheri East</td>\n",
       "      <td>19.106338</td>\n",
       "      <td>72.869613</td>\n",
       "      <td>25000000</td>\n",
       "    </tr>\n",
       "  </tbody>\n",
       "</table>\n",
       "</div>"
      ],
      "text/plain": [
       "  property_type  furnish_status  bedrooms  carpet_area  bathrooms  balconies  \\\n",
       "0  New Property     Unfurnished         3          992          3          0   \n",
       "1  New Property  Semi-Furnished         2          580          2          0   \n",
       "2  New Property     Unfurnished         2          795          2          1   \n",
       "\n",
       "  poss_status      location   latitude  longitude     price  \n",
       "0     Dec '27          Sion  19.052807  72.872584  33150000  \n",
       "1     Dec '26  Navghar Road  19.304890  72.866211  11054551  \n",
       "2     Sep '27  Andheri East  19.106338  72.869613  25000000  "
      ]
     },
     "execution_count": 10,
     "metadata": {},
     "output_type": "execute_result"
    }
   ],
   "source": [
    "df.head(3)"
   ]
  },
  {
   "cell_type": "markdown",
   "metadata": {},
   "source": [
    "### Modifying Column Values:"
   ]
  },
  {
   "cell_type": "code",
   "execution_count": 11,
   "metadata": {},
   "outputs": [
    {
     "data": {
      "text/plain": [
       "Index(['property_type', 'furnish_status', 'poss_status', 'location'], dtype='object')"
      ]
     },
     "execution_count": 11,
     "metadata": {},
     "output_type": "execute_result"
    }
   ],
   "source": [
    "categorical_cols = df.select_dtypes(exclude=['Int64','float64']).columns\n",
    "categorical_cols"
   ]
  },
  {
   "cell_type": "code",
   "execution_count": 12,
   "metadata": {},
   "outputs": [
    {
     "name": "stdout",
     "output_type": "stream",
     "text": [
      "4\n",
      "['New Property' 'Resale' 'Rent' 'Other']\n",
      "3\n",
      "['Unfurnished' 'Semi-Furnished' 'Furnished']\n",
      "32\n",
      "[\"Dec '27\" \"Dec '26\" \"Sep '27\" 'Ready to Move' \"Aug '29\" \"Oct '29\"\n",
      " \"Mar '27\" \"Dec '29\" \"Dec '25\" \"Jun '26\" \"Dec '30\" \"Jun '30\" \"Dec '28\"\n",
      " 'Ready To Move' \"Jan '28\" \"Jun '25\" \"May '29\" \"Jun '27\" \"Oct '31\"\n",
      " \"Mar '28\" \"Dec '31\" \"Sep '30\" \"Oct '28\" \"Jul '29\" \"Sep '28\" \"Mar '29\"\n",
      " \"Sep '26\" \"May '26\" 'Under Construction' \"Jun '31\" 'Immediately'\n",
      " \"May '28\"]\n",
      "516\n",
      "['Sion' 'Navghar Road' 'Andheri East' 'Kandivali West' 'Mulund West'\n",
      " 'Borivali East' 'Byculla East' 'Mira Road Area' 'Bandra East'\n",
      " 'Goregaon West' 'Andheri West' 'Wadala East' 'Juhu' 'Powai'\n",
      " 'Kandivali East' 'Borivali West' 'Chembur' 'Wadala' 'Lower Parel'\n",
      " 'Jogeshwari Vikhroli Link Road' 'Worli' 'Vikhroli' 'Mira Road East'\n",
      " 'Bandra Kurla Complex' 'Prabhadevi' 'Goregaon' 'Byculla'\n",
      " 'Mira Bhayandar Road' 'Sewri' 'Mahalakshmi' 'Lower Parel West'\n",
      " 'Dadar East' 'Matunga East' 'Tardeo' 'Bhandup' 'Vasai West' 'Malad East'\n",
      " 'Vikhroli West' 'Goregaon East' 'Khar West' 'Virar West' 'Malad'\n",
      " 'Kanjurmarg East' 'Ghatkopar' 'Jogeshwari East' 'Malad West'\n",
      " 'Vikhroli East' 'Ghatkopar East' 'Kurla West' 'Santacruz East'\n",
      " 'Ramdev Park' 'Prabhat Colony' 'Worli Naka'\n",
      " 'Thakur Village, Kandivali East' 'Maharashtra Nagar Kanjurmarg West'\n",
      " 'Lokhandwala Complex Andheri West' 'Poonam Nagar Jogeshwari East'\n",
      " 'Jankalyan Nagar' 'Wadala West' 'Bhandup West' 'Ghatkopar West'\n",
      " 'Kanchpada' 'Shimpoli' 'Byculla West' 'Santacruz West' 'Jogeshwari West'\n",
      " 'Mulund East' 'Naigaon East' 'Beverly Park'\n",
      " 'Siddharth Nagar Goregaon West' 'Amar Nagar Mulund West'\n",
      " 'Shastri Nagar Mitha Nagar' 'Siddharth Nagar Borivali East'\n",
      " 'Shivaji Park' 'Vile Parle East' 'Sahyadri Nagar Chembur'\n",
      " 'Nehru Nagar Lower Parel West' 'IC Colony' 'Chandivali'\n",
      " 'Chincholi Bunder' 'Sion East' 'Charkop Gaon' 'Vile Parle West'\n",
      " 'Antop Hill' 'Vile Parle' 'Tilak Nagar Chembur' 'Mumbai Central'\n",
      " 'Upper Trombay' 'Worli Sea Face' 'Neelam Nagar' 'Tunga Village'\n",
      " 'Shailendra Nagar' 'Colaba' 'Marol' 'Chhadva Nagar' 'Abhyudaya Nagar'\n",
      " 'Rajendra Nagar' 'Sion West' 'Dadar West' 'Bolinj' 'Bhabola'\n",
      " 'Kanjurmarg West' 'Mira Bhayandar' 'Bhavani Nagar Marol' 'Virar'\n",
      " 'JB Nagar' 'Dahisar West' 'Deonar Govandi East'\n",
      " 'Jawahar Nagar Goregaon West' 'Breach Candy' 'Nirmal Nagar Mulund West'\n",
      " 'Shell Colony' 'Mulund' 'Dr Baba Saheb Ambedkar Road' 'Pedder Road'\n",
      " 'Nalasopara East' 'Tagore Nagar' 'Anita Nagar' 'Dahisar East' 'Agripada'\n",
      " 'Madh' 'Naigaon East Vasai Link Road' 'Pirojshanagar' 'Vasi Naka'\n",
      " 'Mira Road' 'Sindhi Society Chembur' 'Kurla' 'Hiranandani Gardens'\n",
      " 'Parel' 'Oshiwara' 'Gokuldham Colony Goregaon East'\n",
      " 'Shastri Nagar Santacruz West' 'Naigaon Dadar East' 'Collector Colony'\n",
      " 'Juhu Scheme' 'Tilak Nagar Goregaon West' 'Govandi' 'E Block BKC'\n",
      " 'MIDC Mira Road East' 'Vaibhav Nagar' 'Vasai'\n",
      " 'Godrej And Boyce Industry Estate' 'Fatherwadi' 'Wadala Truck Terminal'\n",
      " 'LIC Housing Colony Mulund East' 'Matunga West' 'Nahur East'\n",
      " 'Sion Chunabhatti' 'Virar East' 'Ram Nagar Borivali West'\n",
      " 'Century Bazaar' 'Janata Nagar Tardeo' 'Evershine Nagar' 'Mahim West'\n",
      " 'Vinay Nagar' 'Bangur Nagar' 'Matunga' 'Pathan Wadi' 'DN Nagar'\n",
      " 'Four Bungalows' 'Link Road' 'Thakur Complex' 'Chembur East'\n",
      " 'Azad Nagar Andheri West' 'Mahim' 'Nalasopara West' 'Amboli' 'Magathane'\n",
      " 'Navneeth Colony' 'Saki Naka' 'Adarsh Nagar Malad West'\n",
      " 'Sunder Nagar Santacruz East' 'Veera Desai Industrial Estate' 'Kalina'\n",
      " 'Subhash Nagar Bhandup West' 'Sector 3 Charkop' 'Collectors Colony'\n",
      " 'Paranjape Nagar Ashok Nagar' 'Amrut Nagar Ghatkopar West' 'Bandra West'\n",
      " 'Daulat Nagar Borivali East' 'Naigaon Dadar'\n",
      " 'Kamala Nagar Vile Parle West' 'Walkeshwar' 'Takshashila Nagar'\n",
      " 'Moti Nagar' 'Bandra' 'Neelam Nagar Society' 'Kargil Nagar'\n",
      " 'Versova Andheri West' 'Nala Sopara' 'Swami Vivekananda Road'\n",
      " 'MHADA Colony Mulund East' 'Shiv Shakti Nagar Kurla East' 'Gamdevi'\n",
      " 'Nepean Sea Road' 'Sector 9 Charkop' 'Kandarpada' 'Nensey Colony'\n",
      " 'Kokan Nagar Bhandup West' 'Vasai East' 'Girgaon' 'Kamgaar Nagar Kurla'\n",
      " 'Netaji Subhash Nagar' 'Ekta Nagar Kandivali West' 'Elphinstone'\n",
      " 'Sector 8 Charkop' 'Mazgaon' 'Nana Chowk Area' 'MHADA Colony 19'\n",
      " 'Malvani' 'Charni Road' 'Bhayandar East' 'Ambivali' 'Andheri' 'Battipada'\n",
      " 'Khar Danda' 'Acharya Donde Marg' 'Mankhurd' 'Motilal Nagar 2'\n",
      " 'Napean Sea Road' 'Liberty Garden' 'Hatkesh Udhog Nagar'\n",
      " 'Prem Nagar Goregaon West' 'Shirdi Nagar Bhayandar East'\n",
      " 'Sunder Nagar Malad West' 'Vidyavihar' 'JVPD Scheme' 'Dongri'\n",
      " 'Chembur Gaothan' 'Sion Koliwada' 'Chimbai Village' 'Vakola'\n",
      " 'Bhayandar West' 'Kalbadevi' 'Akurli Nagar' 'Royal Palms' 'Damodar Park'\n",
      " 'Yogi Nagar' 'Dina Bama Estate' 'Godrej Hillside Colony' 'Kurla East'\n",
      " 'Qureshi Nagar' 'Ghatla' 'Mindspace' 'Chakala' 'Chinchpokli' 'Penkarpada'\n",
      " 'Agashi' 'Best Nagar Goregaon West' 'Dahanukar Wadi'\n",
      " 'Yashwant Nagar Santacruz East' 'Malabar Hill' 'Devipada' 'Kurar Village'\n",
      " 'Nadiyawala Colony 2' 'Shastri Nagar Andheri West' 'Grant Road'\n",
      " 'Vidya Nagari' 'Chikoowadi Borivali West' 'Devki Nagar'\n",
      " 'Jaydev Singh Nagar' 'Rambaug Powai' 'Chandrakant Dhuru Wadi'\n",
      " 'Hindu Colony Dadar East' 'Naigaon Palghar' 'Bhandup East'\n",
      " 'Babrekar Nagar Kandivali West' 'Azad Nagar 2' 'Chembur Colony'\n",
      " 'Chikhal Dongari' 'Mitha Nagar' 'Lal Baug'\n",
      " 'Nityanand Nagar Ghatkopar West' 'Lal Bahadur Shastri Road'\n",
      " 'Somwari Bazar' 'Devidas Road' 'IIT Area' 'Central Area'\n",
      " 'Sainath Nagar Ghatkopar West' 'Samata Nagar Thakur Village'\n",
      " 'Dhumal Nagar' 'Shri Nagar Goregaon West' 'Seven Bungalows'\n",
      " 'Amrut Nagar Jogeshwari West' 'Pant Nagar' 'Mandvi' 'Sadan Wadi'\n",
      " 'Lokhandwala Township Kandivali East' 'Dattapada' 'Koliwada Sion'\n",
      " 'Swastik Park' 'Rawalpada' 'Motilal Nagar' 'Piramal Nagar' 'Naidu Colony'\n",
      " 'Queens Park' 'Mulund Goregaon Link Road' 'Andheri Kurla Road'\n",
      " 'Shimpoli Road' 'Sher E Punjab Society' 'Chembur West'\n",
      " 'Suresh Nagar Andheri' 'Naigaon West' 'Nehru Nagar Kurla'\n",
      " 'Citizen Colony' 'Vasai Road West' 'Nahars Amrit Shakti Road'\n",
      " 'Garodia Nagar' 'Jangal Mangal Road' 'Triveni Nagar'\n",
      " 'Yashwant Nagar Goregaon West' 'Pratiksha Nagar Vakola' 'Bhatpada'\n",
      " 'Y K Nagar' 'Gamdevi Marol' 'Ulhasnagar' 'Mira Bhayander Road'\n",
      " 'Shivaji Nagar Malad East' 'Swapna Nagari' 'Mhatre Wadi Dahisar West'\n",
      " 'Shanti Nagar Mira Road' 'Vazira Naka Borivali West' 'Bander Pakhadi'\n",
      " 'Sector 2 Shanti Nagar' 'Parle Colony' 'Pleasant Park' 'Gopal Nagar'\n",
      " 'Dr Charatsingh Colony' 'Natwar Nagar' 'Vazira' 'Kanjur Village'\n",
      " 'Rajan Pada' 'Poisar' 'LIC Colony Borivali West' 'Deendayal Nagar'\n",
      " 'Behram Baug' 'Orlem' 'Sector 6 Charkop' 'LIC Colony Vile Parle West'\n",
      " 'Aarey Colony' 'Thakur Village Road' 'Nagpada' 'MIDC Central Road'\n",
      " 'Cuffe Parade' 'Union Park Chembur' 'Naigaon Juchandra Road' 'Bhayandar'\n",
      " 'Deonar Chembur' 'Ganesh Nagar Kalaram Nagar' 'Mustafa Bazar'\n",
      " 'Sativali Naka' 'Hariyali' 'Kannamwar Nagar 2' 'Chandavarkar Road'\n",
      " 'Dombivli East' 'Masjid Bandar' 'Raheja Vihar' 'Navjeevan Area'\n",
      " 'Kanyapada' 'Ganesh Nagar Dahisar East' 'Chikuwadi Malad West'\n",
      " 'Ambawadi Nalasopara East' 'LBS Road' 'Pali Hill' 'Chedda Nagar'\n",
      " 'Walkeshwar Road' 'Chembur Camp' 'Dadar Parsi Colony'\n",
      " 'Subhash Nagar Jogeshwari East' 'Gilbert Hill' 'Mahatma Gandhi Nagar'\n",
      " 'Jacob Circle' 'Gorai 1' 'Shanti Park' 'Sewri West' 'Fateh Baug'\n",
      " 'Churchgate' 'Vijaykar Wadi' 'Evershine City'\n",
      " 'Mahavir Nagar Kandivali West' 'Shivaji Nagar Bhandup West'\n",
      " 'Azad Nagar Andheri East' 'Bhoiwada' 'NM Joshi Marg' 'Navagaon'\n",
      " 'Film City Road' 'Pascal Wadi' 'Oswal Nagari'\n",
      " 'Hanuman Tekdi Kanjurmarg West' 'Chaitanya Nagar Powai'\n",
      " 'Vidya Vihar Mulund West' 'Yamuna Nagar Andheri West' 'VB Phadake Road'\n",
      " 'Sarvodaya Nagar Bhandup West' 'Military Road' 'Kanakiya'\n",
      " 'Motilal Nagar 1' 'Juhu Tara Road' 'Ketkipada' 'Swaraj Nagar'\n",
      " 'New MHB Colony' 'Tembhipada' 'Rustomjee Global City' 'Hemu Colony'\n",
      " 'Bhakti Park' 'Babrekar Nagar Malad West' 'Western Express Highway'\n",
      " 'Hanuman Nagar Andheri East' 'Govind Nagar Borivali West' 'Chunabhatti'\n",
      " 'Netaji Nagar Kurla West' 'Nariman Point' 'Adarsh Nagar Jogeshwari West'\n",
      " 'Indira Nagar Tilak Nagar' 'Marve Village' 'Null Bazar'\n",
      " 'Veera Desai Road' 'Dadar' 'Swatantryaveer Savarkar Road' 'Panvel'\n",
      " 'Miniland' 'Govind Nagar Bhandup West'\n",
      " 'GTB Nagar Sindh Seva Samiti Nagar' 'Raheja Exotica' 'Vidyavihar West'\n",
      " 'Srishti Complex' 'Kasturba Quarters' 'Nehru Road' 'Samarth Krupa Nagar'\n",
      " 'Dhaku Prabhuchi Wadi' 'Alika Nagar' 'Rajawadi Colony'\n",
      " 'Mohammed Ali Road' 'Bhandup Village Road' 'Marol Maroshi Road'\n",
      " 'Ambedkar Nagar Khar West' 'Cumballa Hill' 'Royal Palms Estate'\n",
      " 'Suchi Dham' 'RTO Colony' 'Kapadia Nagar' 'Kothu Wadi'\n",
      " 'BMC Colony Kurla West' 'Tapovan Housing Complex'\n",
      " 'Sahakar Nagar Andheri West' 'Patkar Blocks'\n",
      " 'Block B Bandra Kurla Complex' 'Eden Gardens' 'Premier Residencies'\n",
      " 'Juhu Versova Link Road' 'Juhu Lane' 'Gundavali Gaothan' 'Sumer Nagar'\n",
      " 'Kherwadi' 'Hanuman Chowk' 'Kulupwadi' 'Ashok Nagar Kandivali East'\n",
      " 'VSNL Colony' 'Mahajan Wadi' 'Anand Nagar Santacruz East'\n",
      " 'Santosh Nagar Bandra West' 'Kandivali Village' 'LIC Housing Colony'\n",
      " 'Grant Road West' 'Siddharth Nagar Mulund West' 'Chira Bazaar'\n",
      " 'Dongerpada' 'Koldongri Vile Parle East' 'MHB Colony Borivali West'\n",
      " 'Tata Colony Mulund East' 'Vikhroli Village' 'Asha Nagar Mulund West'\n",
      " 'Anand Nagar Andheri West' 'Gadhav Naka' 'Yari Road'\n",
      " 'Shanti Vidya Nagari' 'Sagar Prasad Society' 'Pestom Sagar Colony'\n",
      " 'Mariamma Nagar' 'Gaikwad Nagar Malvani' 'Khajuriya Nagar' 'Nahar Nagar'\n",
      " 'Shyam Nagar Jogeshwari East' 'Vaishali Nagar Dahisar'\n",
      " 'Evershine Globle City' 'Adarsh Nagar Worli' 'Khardev Nagar'\n",
      " 'Hanuman Pada' 'Hasmukh Nagar' 'Eksar' 'Phase 1 Indralok' 'Dev Nagar'\n",
      " 'Gavanpada Mulund East' 'Model Town Andheri West' 'Upper Govind Nagar'\n",
      " 'Parmanand Wadi' 'Gandhi Nagar Upper Worli' 'Poonam Sagar Complex'\n",
      " 'Swami Samarth Nagar' 'Lower Parel East' 'Chulne' 'Tambe Nagar'\n",
      " 'Miragaon' 'Brhmanwada' 'Vijay Nagar Andheri East' 'Sector 2 Charkop'\n",
      " 'Ghartan Pada' 'Reclamation' 'Grant Road East' 'Mumbai Port Trust'\n",
      " 'Thakurdwar' 'Vaishali Nagar Jogeshwari West'\n",
      " 'Sarvodaya Nagar Mulund West' 'Kalachowki Abhyudaya Nagar' 'Waliv']\n"
     ]
    }
   ],
   "source": [
    "for col in categorical_cols:\n",
    "    print(df[col].nunique())\n",
    "    print(df[col].unique())"
   ]
  },
  {
   "cell_type": "code",
   "execution_count": 13,
   "metadata": {},
   "outputs": [
    {
     "name": "stderr",
     "output_type": "stream",
     "text": [
      "C:\\Users\\adinr\\AppData\\Local\\Temp\\ipykernel_11768\\4060200278.py:3: FutureWarning: A value is trying to be set on a copy of a DataFrame or Series through chained assignment using an inplace method.\n",
      "The behavior will change in pandas 3.0. This inplace method will never work because the intermediate object on which we are setting values always behaves as a copy.\n",
      "\n",
      "For example, when doing 'df[col].method(value, inplace=True)', try using 'df.method({col: value}, inplace=True)' or df[col] = df[col].method(value) instead, to perform the operation inplace on the original object.\n",
      "\n",
      "\n",
      "  df['property_type'].replace({'Other':'Resale'},inplace=True)\n"
     ]
    },
    {
     "data": {
      "text/plain": [
       "array(['New Property', 'Resale'], dtype=object)"
      ]
     },
     "execution_count": 13,
     "metadata": {},
     "output_type": "execute_result"
    }
   ],
   "source": [
    "# Changed other to resale, and removed rows with rent.\n",
    "\n",
    "df['property_type'].replace({'Other':'Resale'},inplace=True)\n",
    "df = df.query('property_type != \"Rent\"')\n",
    "df['property_type'].unique()"
   ]
  },
  {
   "cell_type": "code",
   "execution_count": 14,
   "metadata": {},
   "outputs": [
    {
     "name": "stdout",
     "output_type": "stream",
     "text": [
      "Unique values in poss_status column [\"Dec '27\" \"Dec '26\" \"Sep '27\" 'Ready to Move' \"Aug '29\" \"Oct '29\"\n",
      " \"Mar '27\" \"Dec '29\" \"Dec '25\" \"Jun '26\" \"Dec '30\" \"Jun '30\" \"Dec '28\"\n",
      " 'Ready To Move' \"Jan '28\" \"Jun '25\" \"May '29\" \"Jun '27\" \"Oct '31\"\n",
      " \"Mar '28\" \"Dec '31\" \"Sep '30\" \"Oct '28\" \"Jul '29\" \"Sep '28\" \"Mar '29\"\n",
      " \"Sep '26\" \"May '26\" 'Under Construction' \"Jun '31\" \"May '28\"]\n",
      "Unique values after fixing  ['Under Construction' 'Ready to Move']\n"
     ]
    },
    {
     "name": "stderr",
     "output_type": "stream",
     "text": [
      "C:\\Users\\adinr\\AppData\\Local\\Temp\\ipykernel_11768\\4223515278.py:5: FutureWarning: A value is trying to be set on a copy of a DataFrame or Series through chained assignment using an inplace method.\n",
      "The behavior will change in pandas 3.0. This inplace method will never work because the intermediate object on which we are setting values always behaves as a copy.\n",
      "\n",
      "For example, when doing 'df[col].method(value, inplace=True)', try using 'df.method({col: value}, inplace=True)' or df[col] = df[col].method(value) instead, to perform the operation inplace on the original object.\n",
      "\n",
      "\n",
      "  df['poss_status'].replace({'Ready To Move':'Ready to Move','Ongoing':'Under Construction'},inplace=True)\n"
     ]
    }
   ],
   "source": [
    "# Modifying values in poss_status: converting all month rows data with 'Under Construction'\n",
    "print(\"Unique values in poss_status column\",df['poss_status'].unique())\n",
    "\n",
    "df['poss_status'] = df['poss_status'].apply(lambda x: x if x in ['Under Construction', 'Immediately', 'Ongoing', 'Ready To Move','Ready to Move'] else 'Under Construction')\n",
    "df['poss_status'].replace({'Ready To Move':'Ready to Move','Ongoing':'Under Construction'},inplace=True)\n",
    "print(\"Unique values after fixing \",df['poss_status'].unique())"
   ]
  },
  {
   "cell_type": "code",
   "execution_count": 15,
   "metadata": {},
   "outputs": [
    {
     "name": "stdout",
     "output_type": "stream",
     "text": [
      "(229, 11)\n",
      "(0, 11)\n"
     ]
    }
   ],
   "source": [
    "# Fixing values in poss_staus based on domain knowledge: A property cannot both be resale and under construction.\n",
    "print(df.query('property_type ==\"Resale\" & poss_status == \"Under Construction\"').shape)\n",
    "\n",
    "df.loc[(df['property_type'] == 'Resale') & (df['poss_status'] == 'Under Construction'), 'poss_status'] = 'Ready to Move'\n",
    "print(df.query('property_type ==\"Resale\" & poss_status == \"Under Construction\"').shape)"
   ]
  },
  {
   "cell_type": "code",
   "execution_count": 16,
   "metadata": {},
   "outputs": [
    {
     "data": {
      "text/plain": [
       "Index(['bedrooms', 'carpet_area', 'bathrooms', 'balconies', 'latitude',\n",
       "       'longitude', 'price'],\n",
       "      dtype='object')"
      ]
     },
     "execution_count": 16,
     "metadata": {},
     "output_type": "execute_result"
    }
   ],
   "source": [
    "numeric_cols = df.select_dtypes(exclude='object').columns\n",
    "numeric_cols"
   ]
  },
  {
   "cell_type": "code",
   "execution_count": 17,
   "metadata": {},
   "outputs": [
    {
     "name": "stdout",
     "output_type": "stream",
     "text": [
      "['New Property' 'Resale']\n",
      "['Unfurnished' 'Semi-Furnished' 'Furnished']\n",
      "['Under Construction' 'Ready to Move']\n"
     ]
    }
   ],
   "source": [
    "# Recheking the applied transformation on categorical column.\n",
    "for col in categorical_cols.drop('location'):\n",
    "    print(df[col].unique())"
   ]
  },
  {
   "cell_type": "code",
   "execution_count": 18,
   "metadata": {},
   "outputs": [
    {
     "name": "stdout",
     "output_type": "stream",
     "text": [
      "8\n",
      "969\n",
      "9\n",
      "8\n",
      "2303\n",
      "2271\n",
      "757\n"
     ]
    }
   ],
   "source": [
    "for col in numeric_cols:\n",
    "    print(df[col].nunique())"
   ]
  },
  {
   "cell_type": "markdown",
   "metadata": {},
   "source": [
    "### Handling outliers based on domain knowledge:"
   ]
  },
  {
   "cell_type": "code",
   "execution_count": 19,
   "metadata": {},
   "outputs": [
    {
     "data": {
      "text/html": [
       "<div>\n",
       "<style scoped>\n",
       "    .dataframe tbody tr th:only-of-type {\n",
       "        vertical-align: middle;\n",
       "    }\n",
       "\n",
       "    .dataframe tbody tr th {\n",
       "        vertical-align: top;\n",
       "    }\n",
       "\n",
       "    .dataframe thead th {\n",
       "        text-align: right;\n",
       "    }\n",
       "</style>\n",
       "<table border=\"1\" class=\"dataframe\">\n",
       "  <thead>\n",
       "    <tr style=\"text-align: right;\">\n",
       "      <th></th>\n",
       "      <th>bedrooms</th>\n",
       "      <th>carpet_area</th>\n",
       "      <th>bathrooms</th>\n",
       "      <th>balconies</th>\n",
       "      <th>latitude</th>\n",
       "      <th>longitude</th>\n",
       "      <th>price</th>\n",
       "    </tr>\n",
       "  </thead>\n",
       "  <tbody>\n",
       "    <tr>\n",
       "      <th>count</th>\n",
       "      <td>54870.0</td>\n",
       "      <td>54870.0</td>\n",
       "      <td>54870.0</td>\n",
       "      <td>54870.0</td>\n",
       "      <td>54870.000000</td>\n",
       "      <td>54870.000000</td>\n",
       "      <td>54870.0</td>\n",
       "    </tr>\n",
       "    <tr>\n",
       "      <th>mean</th>\n",
       "      <td>2.754584</td>\n",
       "      <td>1206.719081</td>\n",
       "      <td>2.951467</td>\n",
       "      <td>0.922581</td>\n",
       "      <td>18.951682</td>\n",
       "      <td>73.012787</td>\n",
       "      <td>45595072.009696</td>\n",
       "    </tr>\n",
       "    <tr>\n",
       "      <th>std</th>\n",
       "      <td>0.96713</td>\n",
       "      <td>2462.014576</td>\n",
       "      <td>1.06898</td>\n",
       "      <td>1.080893</td>\n",
       "      <td>1.071584</td>\n",
       "      <td>0.931535</td>\n",
       "      <td>44284955.380497</td>\n",
       "    </tr>\n",
       "    <tr>\n",
       "      <th>min</th>\n",
       "      <td>1.0</td>\n",
       "      <td>1.0</td>\n",
       "      <td>1.0</td>\n",
       "      <td>0.0</td>\n",
       "      <td>9.023547</td>\n",
       "      <td>19.145018</td>\n",
       "      <td>150000.0</td>\n",
       "    </tr>\n",
       "    <tr>\n",
       "      <th>25%</th>\n",
       "      <td>2.0</td>\n",
       "      <td>773.0</td>\n",
       "      <td>2.0</td>\n",
       "      <td>0.0</td>\n",
       "      <td>19.057763</td>\n",
       "      <td>72.836970</td>\n",
       "      <td>24328000.0</td>\n",
       "    </tr>\n",
       "    <tr>\n",
       "      <th>50%</th>\n",
       "      <td>3.0</td>\n",
       "      <td>950.0</td>\n",
       "      <td>3.0</td>\n",
       "      <td>1.0</td>\n",
       "      <td>19.148916</td>\n",
       "      <td>72.863440</td>\n",
       "      <td>36500000.0</td>\n",
       "    </tr>\n",
       "    <tr>\n",
       "      <th>75%</th>\n",
       "      <td>3.0</td>\n",
       "      <td>1452.0</td>\n",
       "      <td>3.0</td>\n",
       "      <td>2.0</td>\n",
       "      <td>19.205002</td>\n",
       "      <td>72.879561</td>\n",
       "      <td>47000000.0</td>\n",
       "    </tr>\n",
       "    <tr>\n",
       "      <th>max</th>\n",
       "      <td>8.0</td>\n",
       "      <td>300000.0</td>\n",
       "      <td>9.0</td>\n",
       "      <td>7.0</td>\n",
       "      <td>21.100768</td>\n",
       "      <td>79.094337</td>\n",
       "      <td>1650000000.0</td>\n",
       "    </tr>\n",
       "  </tbody>\n",
       "</table>\n",
       "</div>"
      ],
      "text/plain": [
       "       bedrooms  carpet_area  bathrooms  balconies      latitude  \\\n",
       "count   54870.0      54870.0    54870.0    54870.0  54870.000000   \n",
       "mean   2.754584  1206.719081   2.951467   0.922581     18.951682   \n",
       "std     0.96713  2462.014576    1.06898   1.080893      1.071584   \n",
       "min         1.0          1.0        1.0        0.0      9.023547   \n",
       "25%         2.0        773.0        2.0        0.0     19.057763   \n",
       "50%         3.0        950.0        3.0        1.0     19.148916   \n",
       "75%         3.0       1452.0        3.0        2.0     19.205002   \n",
       "max         8.0     300000.0        9.0        7.0     21.100768   \n",
       "\n",
       "          longitude            price  \n",
       "count  54870.000000          54870.0  \n",
       "mean      73.012787  45595072.009696  \n",
       "std        0.931535  44284955.380497  \n",
       "min       19.145018         150000.0  \n",
       "25%       72.836970       24328000.0  \n",
       "50%       72.863440       36500000.0  \n",
       "75%       72.879561       47000000.0  \n",
       "max       79.094337     1650000000.0  "
      ]
     },
     "execution_count": 19,
     "metadata": {},
     "output_type": "execute_result"
    }
   ],
   "source": [
    "df.describe()"
   ]
  },
  {
   "cell_type": "markdown",
   "metadata": {},
   "source": [
    "### Univariate analysis: Box plots for outliers"
   ]
  },
  {
   "cell_type": "code",
   "execution_count": 20,
   "metadata": {},
   "outputs": [],
   "source": [
    "# num_plots = len(numeric_cols)\n",
    "# rows = (num_plots // 4) + (num_plots % 4 > 0) \n",
    "# fig, axes = plt.subplots(rows, 4, figsize=(20, 5 * rows))\n",
    "# axes = axes.flatten() \n",
    "\n",
    "# for i, col in enumerate(numeric_cols):\n",
    "#     sns.boxplot(x=df[col], ax=axes[i])\n",
    "#     axes[i].set_title(f' Non Log Transformed {col}')\n",
    "\n",
    "# # Hide unused subplots\n",
    "# for j in range(i + 1, len(axes)):\n",
    "#     fig.delaxes(axes[j])\n",
    "\n",
    "# plt.tight_layout()\n",
    "# plt.show()"
   ]
  },
  {
   "cell_type": "markdown",
   "metadata": {},
   "source": [
    "#### Fixing outliers in bedrooms column:"
   ]
  },
  {
   "cell_type": "code",
   "execution_count": 21,
   "metadata": {},
   "outputs": [
    {
     "data": {
      "text/plain": [
       "count     54870.0\n",
       "mean     2.754584\n",
       "std       0.96713\n",
       "min           1.0\n",
       "25%           2.0\n",
       "50%           3.0\n",
       "75%           3.0\n",
       "max           8.0\n",
       "Name: bedrooms, dtype: Float64"
      ]
     },
     "execution_count": 21,
     "metadata": {},
     "output_type": "execute_result"
    }
   ],
   "source": [
    "df['bedrooms'].describe()"
   ]
  },
  {
   "cell_type": "code",
   "execution_count": 22,
   "metadata": {},
   "outputs": [
    {
     "name": "stdout",
     "output_type": "stream",
     "text": [
      "(22, 11)\n"
     ]
    },
    {
     "data": {
      "text/html": [
       "<div>\n",
       "<style scoped>\n",
       "    .dataframe tbody tr th:only-of-type {\n",
       "        vertical-align: middle;\n",
       "    }\n",
       "\n",
       "    .dataframe tbody tr th {\n",
       "        vertical-align: top;\n",
       "    }\n",
       "\n",
       "    .dataframe thead th {\n",
       "        text-align: right;\n",
       "    }\n",
       "</style>\n",
       "<table border=\"1\" class=\"dataframe\">\n",
       "  <thead>\n",
       "    <tr style=\"text-align: right;\">\n",
       "      <th></th>\n",
       "      <th>bedrooms</th>\n",
       "      <th>carpet_area</th>\n",
       "      <th>bathrooms</th>\n",
       "    </tr>\n",
       "  </thead>\n",
       "  <tbody>\n",
       "    <tr>\n",
       "      <th>19</th>\n",
       "      <td>6</td>\n",
       "      <td>7420</td>\n",
       "      <td>8</td>\n",
       "    </tr>\n",
       "    <tr>\n",
       "      <th>692</th>\n",
       "      <td>8</td>\n",
       "      <td>7000</td>\n",
       "      <td>8</td>\n",
       "    </tr>\n",
       "    <tr>\n",
       "      <th>746</th>\n",
       "      <td>6</td>\n",
       "      <td>2160</td>\n",
       "      <td>6</td>\n",
       "    </tr>\n",
       "    <tr>\n",
       "      <th>1576</th>\n",
       "      <td>6</td>\n",
       "      <td>2640</td>\n",
       "      <td>6</td>\n",
       "    </tr>\n",
       "    <tr>\n",
       "      <th>1892</th>\n",
       "      <td>6</td>\n",
       "      <td>10500</td>\n",
       "      <td>6</td>\n",
       "    </tr>\n",
       "  </tbody>\n",
       "</table>\n",
       "</div>"
      ],
      "text/plain": [
       "      bedrooms  carpet_area  bathrooms\n",
       "19           6         7420          8\n",
       "692          8         7000          8\n",
       "746          6         2160          6\n",
       "1576         6         2640          6\n",
       "1892         6        10500          6"
      ]
     },
     "execution_count": 22,
     "metadata": {},
     "output_type": "execute_result"
    }
   ],
   "source": [
    "print(df.query('bedrooms > 5').shape)\n",
    "df.query('bedrooms > 5')[['bedrooms','carpet_area','bathrooms']].head(5)"
   ]
  },
  {
   "cell_type": "code",
   "execution_count": 23,
   "metadata": {},
   "outputs": [
    {
     "name": "stdout",
     "output_type": "stream",
     "text": [
      "(54870, 11)\n"
     ]
    }
   ],
   "source": [
    "# Removing bedrooms greater than 5.\n",
    "print(df.shape)\n",
    "df = df.query('bedrooms <= 5 ')\n"
   ]
  },
  {
   "cell_type": "markdown",
   "metadata": {},
   "source": [
    "#### Outlier treatment in carpet area column:"
   ]
  },
  {
   "cell_type": "code",
   "execution_count": 24,
   "metadata": {},
   "outputs": [
    {
     "data": {
      "text/plain": [
       "count        54848.0\n",
       "mean     1196.174446\n",
       "std      2027.521436\n",
       "min              1.0\n",
       "25%            773.0\n",
       "50%            950.0\n",
       "75%           1452.0\n",
       "max         300000.0\n",
       "Name: carpet_area, dtype: Float64"
      ]
     },
     "execution_count": 24,
     "metadata": {},
     "output_type": "execute_result"
    }
   ],
   "source": [
    "# Outlier treatment in carpet area:\n",
    "df['carpet_area'].describe()"
   ]
  },
  {
   "cell_type": "code",
   "execution_count": 25,
   "metadata": {},
   "outputs": [
    {
     "name": "stdout",
     "output_type": "stream",
     "text": [
      "Rows with carpet area less than 140sqft:  (9, 11)\n",
      "(0, 11)\n",
      "(54839, 11)\n"
     ]
    }
   ],
   "source": [
    "# We will drop carpet_area less than 140 Sqft.\n",
    "print(\"Rows with carpet area less than 140sqft: \",df.query('carpet_area < 140').shape)\n",
    "\n",
    "df = df.query('carpet_area >= 140')\n",
    "print(df.query('carpet_area < 140').shape)\n",
    "\n",
    "print(df.shape)"
   ]
  },
  {
   "cell_type": "code",
   "execution_count": 26,
   "metadata": {},
   "outputs": [
    {
     "name": "stdout",
     "output_type": "stream",
     "text": [
      "(7, 11)\n",
      "(54832, 11)\n"
     ]
    }
   ],
   "source": [
    "# We will drop rows where carpet_area has no relation with bedrooms.\n",
    "print(df.query('carpet_area < 745  & bedrooms > 2').shape)\n",
    "\n",
    "df.query(\"not (carpet_area < 745 and bedrooms > 2)\", inplace=True)\n",
    "print(df.shape)"
   ]
  },
  {
   "cell_type": "code",
   "execution_count": 27,
   "metadata": {},
   "outputs": [
    {
     "name": "stdout",
     "output_type": "stream",
     "text": [
      "(15, 11)\n",
      "(54817, 11)\n"
     ]
    }
   ],
   "source": [
    "# Dropping rows where carpet_area doesnt align with no of bedrooms:\n",
    "print(df.query('carpet_area > 1561 & bedrooms < 3').shape)\n",
    "\n",
    "df = df.query('not (carpet_area > 1561 & bedrooms < 3)')\n",
    "print(df.shape)"
   ]
  },
  {
   "cell_type": "markdown",
   "metadata": {},
   "source": [
    "#### Outlier treatment in balconies column:"
   ]
  },
  {
   "cell_type": "code",
   "execution_count": 28,
   "metadata": {},
   "outputs": [
    {
     "name": "stdout",
     "output_type": "stream",
     "text": [
      "(6, 11)\n",
      "(5, 11)\n",
      "(5, 11)\n"
     ]
    }
   ],
   "source": [
    "# Dropping outliers in balconies: Maintaining balance between noof balconies and bedrooms.\n",
    "\n",
    "print(df.query('balconies > 5 & bedrooms < 5 ').shape)\n",
    "print(df.query('balconies > 3 & bedrooms < 2 ').shape)\n",
    "print(df.query('balconies > 4 & bedrooms < 3 ').shape)"
   ]
  },
  {
   "cell_type": "code",
   "execution_count": 29,
   "metadata": {},
   "outputs": [
    {
     "name": "stdout",
     "output_type": "stream",
     "text": [
      "(54803, 11)\n"
     ]
    }
   ],
   "source": [
    "df = df.drop(df.query('(balconies > 5 & bedrooms < 5) | (balconies > 3 & bedrooms < 2) | (balconies > 4 & bedrooms < 3)').index)\n",
    "print(df.shape)"
   ]
  },
  {
   "cell_type": "markdown",
   "metadata": {},
   "source": [
    "#### Outlier treatment in location column:"
   ]
  },
  {
   "cell_type": "code",
   "execution_count": 30,
   "metadata": {},
   "outputs": [
    {
     "data": {
      "text/plain": [
       "510"
      ]
     },
     "execution_count": 30,
     "metadata": {},
     "output_type": "execute_result"
    }
   ],
   "source": [
    "df['location'].nunique()"
   ]
  },
  {
   "cell_type": "code",
   "execution_count": 31,
   "metadata": {},
   "outputs": [
    {
     "data": {
      "text/plain": [
       "location\n",
       "Waliv                      1\n",
       "BMC Colony Kurla West      1\n",
       "Tapovan Housing Complex    1\n",
       "Name: count, dtype: int64"
      ]
     },
     "execution_count": 31,
     "metadata": {},
     "output_type": "execute_result"
    }
   ],
   "source": [
    "df['location'].value_counts().sort_values(ascending=True).head(3)"
   ]
  },
  {
   "cell_type": "code",
   "execution_count": 32,
   "metadata": {},
   "outputs": [
    {
     "name": "stdout",
     "output_type": "stream",
     "text": [
      "Rows with location value count 1 =  233\n",
      "Rows with location value count more than 1 =  277\n"
     ]
    }
   ],
   "source": [
    "# There are total 285 improper locations with value 1: We will remove those location rows \n",
    "\n",
    "print(\"Rows with location value count 1 = \",(df['location'].value_counts() == 1).sum())\n",
    "print(\"Rows with location value count more than 1 = \",(df['location'].value_counts() > 1).sum())"
   ]
  },
  {
   "cell_type": "code",
   "execution_count": 33,
   "metadata": {},
   "outputs": [
    {
     "name": "stdout",
     "output_type": "stream",
     "text": [
      "(54570, 11)\n",
      "Location count after cleaning  277\n"
     ]
    }
   ],
   "source": [
    "df = df[df['location'].map(df['location'].value_counts()) > 1]\n",
    "print(df.shape)\n",
    "print(\"Location count after cleaning \",df['location'].nunique())"
   ]
  },
  {
   "cell_type": "markdown",
   "metadata": {},
   "source": [
    "#### Outlier treatment in bathrooms column:\n",
    "\n",
    "Removing Bathrooms more than 5"
   ]
  },
  {
   "cell_type": "code",
   "execution_count": 34,
   "metadata": {},
   "outputs": [
    {
     "data": {
      "text/plain": [
       "count     54570.0\n",
       "mean     2.954682\n",
       "std      1.065425\n",
       "min           1.0\n",
       "25%           2.0\n",
       "50%           3.0\n",
       "75%           3.0\n",
       "max           8.0\n",
       "Name: bathrooms, dtype: Float64"
      ]
     },
     "execution_count": 34,
     "metadata": {},
     "output_type": "execute_result"
    }
   ],
   "source": [
    "df['bathrooms'].describe()"
   ]
  },
  {
   "cell_type": "code",
   "execution_count": 35,
   "metadata": {},
   "outputs": [
    {
     "name": "stdout",
     "output_type": "stream",
     "text": [
      "(1685, 11)\n",
      "<IntegerArray>\n",
      "[3, 2, 5, 4, 1, 6]\n",
      "Length: 6, dtype: Int64\n"
     ]
    }
   ],
   "source": [
    "print(df.query('bathrooms > 5').shape)\n",
    "df = df.query('bathrooms <= 6')\n",
    "\n",
    "print(df['bathrooms'].unique())"
   ]
  },
  {
   "cell_type": "markdown",
   "metadata": {},
   "source": [
    "### Outlier treatment price column:"
   ]
  },
  {
   "cell_type": "code",
   "execution_count": 36,
   "metadata": {},
   "outputs": [
    {
     "data": {
      "text/plain": [
       "count            54566.0\n",
       "mean     45594185.180607\n",
       "std       43846788.15309\n",
       "min             150000.0\n",
       "25%           24328000.0\n",
       "50%           36500000.0\n",
       "75%           47000000.0\n",
       "max         1650000000.0\n",
       "Name: price, dtype: Float64"
      ]
     },
     "execution_count": 36,
     "metadata": {},
     "output_type": "execute_result"
    }
   ],
   "source": [
    "df['price'].describe()"
   ]
  },
  {
   "cell_type": "code",
   "execution_count": 37,
   "metadata": {},
   "outputs": [
    {
     "name": "stdout",
     "output_type": "stream",
     "text": [
      "47000000.0\n",
      "50200000.0\n"
     ]
    },
    {
     "data": {
      "text/plain": [
       "(1693, 11)"
      ]
     },
     "execution_count": 37,
     "metadata": {},
     "output_type": "execute_result"
    }
   ],
   "source": [
    "print(df['price'].quantile(0.75))\n",
    "print(df['price'].quantile(0.80))\n",
    "\n",
    "df[df['price'] > df['price'].quantile(0.95)].shape\n"
   ]
  },
  {
   "cell_type": "code",
   "execution_count": 38,
   "metadata": {},
   "outputs": [
    {
     "name": "stdout",
     "output_type": "stream",
     "text": [
      "(3370, 11)\n",
      "(51196, 11)\n"
     ]
    }
   ],
   "source": [
    "print(df.query('price > 150000000 ').shape)\n",
    "print(df.query('price <= 150000000').shape)"
   ]
  },
  {
   "cell_type": "code",
   "execution_count": 39,
   "metadata": {},
   "outputs": [
    {
     "name": "stdout",
     "output_type": "stream",
     "text": [
      "(52870, 11)\n"
     ]
    }
   ],
   "source": [
    "# Removed rows where price is above 15 crore but kept the juhu proeprties:\n",
    "df = df.query('price <= 150000000 | location == \"Juhu\"')\n",
    "print(df.shape)"
   ]
  },
  {
   "cell_type": "code",
   "execution_count": null,
   "metadata": {},
   "outputs": [],
   "source": []
  },
  {
   "cell_type": "markdown",
   "metadata": {},
   "source": [
    "## Univariate analysis:\n"
   ]
  },
  {
   "cell_type": "markdown",
   "metadata": {},
   "source": [
    "### Histogram's for analyzing Distribution"
   ]
  },
  {
   "cell_type": "code",
   "execution_count": 40,
   "metadata": {},
   "outputs": [
    {
     "data": {
      "text/plain": [
       "Index(['bedrooms', 'carpet_area', 'bathrooms', 'balconies', 'latitude',\n",
       "       'longitude', 'price'],\n",
       "      dtype='object')"
      ]
     },
     "execution_count": 40,
     "metadata": {},
     "output_type": "execute_result"
    }
   ],
   "source": [
    "numeric_cols"
   ]
  },
  {
   "cell_type": "code",
   "execution_count": 41,
   "metadata": {},
   "outputs": [
    {
     "data": {
      "image/png": "[encoded data removed]",
      "text/plain": [
       "<Figure size 640x480 with 2 Axes>"
      ]
     },
     "metadata": {},
     "output_type": "display_data"
    }
   ],
   "source": [
    "df['log_carpet_area'] = np.log(df['carpet_area'])\n",
    "df['log_price'] = np.log(df['price'])\n",
    "\n",
    "df[['log_carpet_area', 'log_price']].hist(bins=3)\n",
    "plt.show()"
   ]
  },
  {
   "cell_type": "markdown",
   "metadata": {},
   "source": [
    "### Bivariate Analysis:"
   ]
  },
  {
   "cell_type": "code",
   "execution_count": 42,
   "metadata": {},
   "outputs": [],
   "source": [
    "# num_plots = len(numeric_cols)\n",
    "# rows = (num_plots // 4) + (num_plots % 4 > 0) \n",
    "# fig, axes = plt.subplots(rows, 4, figsize=(20, 5 * rows))\n",
    "# axes = axes.flatten() \n",
    "\n",
    "# for i, col in enumerate(numeric_cols):\n",
    "#     sns.scatterplot(data=df,x=df[col],y=np.log(df['price']), ax=axes[i])\n",
    "#     axes[i].set_title(f' Non Log Transformed {col}  vs log price')\n",
    "\n",
    "# # Hide unused subplots\n",
    "# for j in range(i + 1, len(axes)):\n",
    "#     fig.delaxes(axes[j])\n",
    "\n",
    "# plt.tight_layout()\n",
    "# plt.show()"
   ]
  },
  {
   "cell_type": "code",
   "execution_count": 43,
   "metadata": {},
   "outputs": [
    {
     "data": {
      "text/html": [
       "<div>\n",
       "<style scoped>\n",
       "    .dataframe tbody tr th:only-of-type {\n",
       "        vertical-align: middle;\n",
       "    }\n",
       "\n",
       "    .dataframe tbody tr th {\n",
       "        vertical-align: top;\n",
       "    }\n",
       "\n",
       "    .dataframe thead th {\n",
       "        text-align: right;\n",
       "    }\n",
       "</style>\n",
       "<table border=\"1\" class=\"dataframe\">\n",
       "  <thead>\n",
       "    <tr style=\"text-align: right;\">\n",
       "      <th></th>\n",
       "      <th>property_type</th>\n",
       "      <th>furnish_status</th>\n",
       "      <th>bedrooms</th>\n",
       "      <th>carpet_area</th>\n",
       "      <th>bathrooms</th>\n",
       "      <th>balconies</th>\n",
       "      <th>poss_status</th>\n",
       "      <th>location</th>\n",
       "      <th>latitude</th>\n",
       "      <th>longitude</th>\n",
       "      <th>price</th>\n",
       "      <th>log_carpet_area</th>\n",
       "      <th>log_price</th>\n",
       "    </tr>\n",
       "  </thead>\n",
       "  <tbody>\n",
       "    <tr>\n",
       "      <th>0</th>\n",
       "      <td>New Property</td>\n",
       "      <td>Unfurnished</td>\n",
       "      <td>3</td>\n",
       "      <td>992</td>\n",
       "      <td>3</td>\n",
       "      <td>0</td>\n",
       "      <td>Under Construction</td>\n",
       "      <td>Sion</td>\n",
       "      <td>19.052807</td>\n",
       "      <td>72.872584</td>\n",
       "      <td>33150000</td>\n",
       "      <td>6.899723</td>\n",
       "      <td>17.316553</td>\n",
       "    </tr>\n",
       "    <tr>\n",
       "      <th>1</th>\n",
       "      <td>New Property</td>\n",
       "      <td>Semi-Furnished</td>\n",
       "      <td>2</td>\n",
       "      <td>580</td>\n",
       "      <td>2</td>\n",
       "      <td>0</td>\n",
       "      <td>Under Construction</td>\n",
       "      <td>Navghar Road</td>\n",
       "      <td>19.304890</td>\n",
       "      <td>72.866211</td>\n",
       "      <td>11054551</td>\n",
       "      <td>6.363028</td>\n",
       "      <td>16.218353</td>\n",
       "    </tr>\n",
       "  </tbody>\n",
       "</table>\n",
       "</div>"
      ],
      "text/plain": [
       "  property_type  furnish_status  bedrooms  carpet_area  bathrooms  balconies  \\\n",
       "0  New Property     Unfurnished         3          992          3          0   \n",
       "1  New Property  Semi-Furnished         2          580          2          0   \n",
       "\n",
       "          poss_status      location   latitude  longitude     price  \\\n",
       "0  Under Construction          Sion  19.052807  72.872584  33150000   \n",
       "1  Under Construction  Navghar Road  19.304890  72.866211  11054551   \n",
       "\n",
       "   log_carpet_area  log_price  \n",
       "0         6.899723  17.316553  \n",
       "1         6.363028  16.218353  "
      ]
     },
     "execution_count": 43,
     "metadata": {},
     "output_type": "execute_result"
    }
   ],
   "source": [
    "df.head(2)"
   ]
  },
  {
   "cell_type": "markdown",
   "metadata": {},
   "source": [
    "### Bivariate analysis: Categorical features"
   ]
  },
  {
   "cell_type": "code",
   "execution_count": 44,
   "metadata": {},
   "outputs": [
    {
     "data": {
      "text/plain": [
       "Index(['property_type', 'furnish_status', 'poss_status', 'location'], dtype='object')"
      ]
     },
     "execution_count": 44,
     "metadata": {},
     "output_type": "execute_result"
    }
   ],
   "source": [
    "categorical_cols"
   ]
  },
  {
   "cell_type": "code",
   "execution_count": 45,
   "metadata": {},
   "outputs": [],
   "source": [
    "# cols = categorical_cols.drop('location')\n",
    "\n",
    "# # Create subplots (1 row, multiple columns)\n",
    "# fig, axes = plt.subplots(1, len(cols), figsize=(5 * len(cols), 5))\n",
    "\n",
    "# for col, ax in zip(cols, axes):\n",
    "#     sns.countplot(data=df, x=col, ax=ax)\n",
    "#     ax.set_title(f\"Total Count of {col}\")\n",
    "#     ax.bar_label(ax.containers[0])\n",
    "\n",
    "# plt.tight_layout() \n",
    "# plt.show()"
   ]
  },
  {
   "cell_type": "code",
   "execution_count": 46,
   "metadata": {},
   "outputs": [
    {
     "data": {
      "image/png": "[encoded data removed]",
      "text/plain": [
       "<Figure size 700x300 with 1 Axes>"
      ]
     },
     "metadata": {},
     "output_type": "display_data"
    }
   ],
   "source": [
    "df.groupby('location')['price'].mean().astype('int').reset_index().sort_values(by='price',ascending=False).head(10) \\\n",
    " .plot(kind='barh',x='location',y='price',figsize=(7,3),title=\"Top 10 Locality by highest average price\",legend=False)\n",
    "plt.show()"
   ]
  },
  {
   "cell_type": "code",
   "execution_count": 47,
   "metadata": {},
   "outputs": [
    {
     "data": {
      "image/png": "[encoded data removed]",
      "text/plain": [
       "<Figure size 700x300 with 1 Axes>"
      ]
     },
     "metadata": {},
     "output_type": "display_data"
    }
   ],
   "source": [
    "df.groupby('location')['price'].mean().astype('int').reset_index().sort_values(by='price',ascending=True).head(10) \\\n",
    " .plot(kind='barh',x='location',y='price',figsize=(7,3),title=\"Top 10 Locality by Lowest average price\",legend=False)\n",
    "plt.show()"
   ]
  },
  {
   "cell_type": "code",
   "execution_count": 48,
   "metadata": {},
   "outputs": [
    {
     "data": {
      "image/png": "[encoded data removed]",
      "text/plain": [
       "<Figure size 700x300 with 1 Axes>"
      ]
     },
     "metadata": {},
     "output_type": "display_data"
    }
   ],
   "source": [
    "df.groupby('location')['price'].count().reset_index().sort_values(by='price',ascending=False).head(10) \\\n",
    ".plot(kind='barh',x='location',y='price',figsize=(7,3),title=\"Highest No of flat listing's per location\")\n",
    "plt.show()"
   ]
  },
  {
   "cell_type": "markdown",
   "metadata": {},
   "source": [
    "### Visualizing Co-relation Matrix"
   ]
  },
  {
   "cell_type": "code",
   "execution_count": 49,
   "metadata": {},
   "outputs": [
    {
     "data": {
      "image/png": "[encoded data removed]",
      "text/plain": [
       "<Figure size 900x400 with 2 Axes>"
      ]
     },
     "metadata": {},
     "output_type": "display_data"
    }
   ],
   "source": [
    "cm  = df[numeric_cols].corr()\n",
    "\n",
    "plt.figure(figsize=(9,4))\n",
    "plt.title(\"Co-Relation Matrix\")\n",
    "sns.heatmap(cm,annot=True,cmap='viridis')\n",
    "plt.show()"
   ]
  },
  {
   "cell_type": "markdown",
   "metadata": {},
   "source": [
    "### Co-relation of categorical columns (Annova F-Test):"
   ]
  },
  {
   "cell_type": "code",
   "execution_count": 50,
   "metadata": {},
   "outputs": [
    {
     "name": "stdout",
     "output_type": "stream",
     "text": [
      "ANOVA for location:\n",
      "  F-statistic: 608.62, P-value: 0.00000\n",
      "\n",
      "ANOVA for property_type:\n",
      "  F-statistic: 1513.86, P-value: 0.00000\n",
      "\n",
      "ANOVA for poss_status:\n",
      "  F-statistic: 3646.97, P-value: 0.00000\n",
      "\n",
      "ANOVA for furnish_status:\n",
      "  F-statistic: 1140.53, P-value: 0.00000\n",
      "\n"
     ]
    }
   ],
   "source": [
    "from scipy.stats import f_oneway\n",
    "\n",
    "categorical_cols = ['location', 'property_type', 'poss_status', 'furnish_status']\n",
    "\n",
    "for col in categorical_cols:\n",
    "    groups = [df[df[col] == value]['price'] for value in df[col].unique()]\n",
    "    \n",
    "    f_stat, p_value = f_oneway(*groups)\n",
    "    \n",
    "    print(f\"ANOVA for {col}:\")\n",
    "    print(f\"  F-statistic: {f_stat:.2f}, P-value: {p_value:.5f}\\n\")\n"
   ]
  },
  {
   "cell_type": "code",
   "execution_count": null,
   "metadata": {},
   "outputs": [],
   "source": []
  },
  {
   "cell_type": "markdown",
   "metadata": {},
   "source": [
    "## Feature Engineering and Encoding:"
   ]
  },
  {
   "cell_type": "code",
   "execution_count": 51,
   "metadata": {},
   "outputs": [
    {
     "data": {
      "text/plain": [
       "Index(['property_type', 'furnish_status', 'bedrooms', 'carpet_area',\n",
       "       'bathrooms', 'balconies', 'poss_status', 'location', 'latitude',\n",
       "       'longitude', 'price', 'log_carpet_area', 'log_price'],\n",
       "      dtype='object')"
      ]
     },
     "execution_count": 51,
     "metadata": {},
     "output_type": "execute_result"
    }
   ],
   "source": [
    "df.columns"
   ]
  },
  {
   "cell_type": "markdown",
   "metadata": {},
   "source": [
    "#### Removing columns which dont affect target(price):"
   ]
  },
  {
   "cell_type": "code",
   "execution_count": 53,
   "metadata": {},
   "outputs": [
    {
     "data": {
      "text/html": [
       "<div>\n",
       "<style scoped>\n",
       "    .dataframe tbody tr th:only-of-type {\n",
       "        vertical-align: middle;\n",
       "    }\n",
       "\n",
       "    .dataframe tbody tr th {\n",
       "        vertical-align: top;\n",
       "    }\n",
       "\n",
       "    .dataframe thead th {\n",
       "        text-align: right;\n",
       "    }\n",
       "</style>\n",
       "<table border=\"1\" class=\"dataframe\">\n",
       "  <thead>\n",
       "    <tr style=\"text-align: right;\">\n",
       "      <th></th>\n",
       "      <th>property_type</th>\n",
       "      <th>furnish_status</th>\n",
       "      <th>bedrooms</th>\n",
       "      <th>carpet_area</th>\n",
       "      <th>bathrooms</th>\n",
       "      <th>balconies</th>\n",
       "      <th>poss_status</th>\n",
       "      <th>location</th>\n",
       "      <th>price</th>\n",
       "    </tr>\n",
       "  </thead>\n",
       "  <tbody>\n",
       "    <tr>\n",
       "      <th>0</th>\n",
       "      <td>New Property</td>\n",
       "      <td>Unfurnished</td>\n",
       "      <td>3</td>\n",
       "      <td>992</td>\n",
       "      <td>3</td>\n",
       "      <td>0</td>\n",
       "      <td>Under Construction</td>\n",
       "      <td>Sion</td>\n",
       "      <td>33150000</td>\n",
       "    </tr>\n",
       "    <tr>\n",
       "      <th>1</th>\n",
       "      <td>New Property</td>\n",
       "      <td>Semi-Furnished</td>\n",
       "      <td>2</td>\n",
       "      <td>580</td>\n",
       "      <td>2</td>\n",
       "      <td>0</td>\n",
       "      <td>Under Construction</td>\n",
       "      <td>Navghar Road</td>\n",
       "      <td>11054551</td>\n",
       "    </tr>\n",
       "    <tr>\n",
       "      <th>2</th>\n",
       "      <td>New Property</td>\n",
       "      <td>Unfurnished</td>\n",
       "      <td>2</td>\n",
       "      <td>795</td>\n",
       "      <td>2</td>\n",
       "      <td>1</td>\n",
       "      <td>Under Construction</td>\n",
       "      <td>Andheri East</td>\n",
       "      <td>25000000</td>\n",
       "    </tr>\n",
       "  </tbody>\n",
       "</table>\n",
       "</div>"
      ],
      "text/plain": [
       "  property_type  furnish_status  bedrooms  carpet_area  bathrooms  balconies  \\\n",
       "0  New Property     Unfurnished         3          992          3          0   \n",
       "1  New Property  Semi-Furnished         2          580          2          0   \n",
       "2  New Property     Unfurnished         2          795          2          1   \n",
       "\n",
       "          poss_status      location     price  \n",
       "0  Under Construction          Sion  33150000  \n",
       "1  Under Construction  Navghar Road  11054551  \n",
       "2  Under Construction  Andheri East  25000000  "
      ]
     },
     "execution_count": 53,
     "metadata": {},
     "output_type": "execute_result"
    }
   ],
   "source": [
    "df = df.drop(columns=['latitude', 'longitude', 'log_carpet_area', 'log_price'], axis=1)\n",
    "df.head(3)"
   ]
  },
  {
   "cell_type": "markdown",
   "metadata": {},
   "source": [
    "#### Encoding property_type , furnish_staus,poss_status columns:"
   ]
  },
  {
   "cell_type": "code",
   "execution_count": 54,
   "metadata": {},
   "outputs": [
    {
     "name": "stdout",
     "output_type": "stream",
     "text": [
      "['New Property' 'Resale']\n",
      "['Unfurnished' 'Semi-Furnished' 'Furnished']\n"
     ]
    }
   ],
   "source": [
    "print(df['property_type'].unique())\n",
    "print(df['furnish_status'].unique())"
   ]
  },
  {
   "cell_type": "code",
   "execution_count": 55,
   "metadata": {},
   "outputs": [
    {
     "data": {
      "text/html": [
       "<div>\n",
       "<style scoped>\n",
       "    .dataframe tbody tr th:only-of-type {\n",
       "        vertical-align: middle;\n",
       "    }\n",
       "\n",
       "    .dataframe tbody tr th {\n",
       "        vertical-align: top;\n",
       "    }\n",
       "\n",
       "    .dataframe thead th {\n",
       "        text-align: right;\n",
       "    }\n",
       "</style>\n",
       "<table border=\"1\" class=\"dataframe\">\n",
       "  <thead>\n",
       "    <tr style=\"text-align: right;\">\n",
       "      <th></th>\n",
       "      <th>property_type</th>\n",
       "      <th>furnish_status</th>\n",
       "      <th>bedrooms</th>\n",
       "      <th>carpet_area</th>\n",
       "      <th>bathrooms</th>\n",
       "      <th>balconies</th>\n",
       "      <th>poss_status</th>\n",
       "      <th>location</th>\n",
       "      <th>price</th>\n",
       "    </tr>\n",
       "  </thead>\n",
       "  <tbody>\n",
       "    <tr>\n",
       "      <th>0</th>\n",
       "      <td>1</td>\n",
       "      <td>0</td>\n",
       "      <td>3</td>\n",
       "      <td>992</td>\n",
       "      <td>3</td>\n",
       "      <td>0</td>\n",
       "      <td>Under Construction</td>\n",
       "      <td>Sion</td>\n",
       "      <td>33150000</td>\n",
       "    </tr>\n",
       "    <tr>\n",
       "      <th>1</th>\n",
       "      <td>1</td>\n",
       "      <td>1</td>\n",
       "      <td>2</td>\n",
       "      <td>580</td>\n",
       "      <td>2</td>\n",
       "      <td>0</td>\n",
       "      <td>Under Construction</td>\n",
       "      <td>Navghar Road</td>\n",
       "      <td>11054551</td>\n",
       "    </tr>\n",
       "    <tr>\n",
       "      <th>2</th>\n",
       "      <td>1</td>\n",
       "      <td>0</td>\n",
       "      <td>2</td>\n",
       "      <td>795</td>\n",
       "      <td>2</td>\n",
       "      <td>1</td>\n",
       "      <td>Under Construction</td>\n",
       "      <td>Andheri East</td>\n",
       "      <td>25000000</td>\n",
       "    </tr>\n",
       "  </tbody>\n",
       "</table>\n",
       "</div>"
      ],
      "text/plain": [
       "   property_type  furnish_status  bedrooms  carpet_area  bathrooms  balconies  \\\n",
       "0              1               0         3          992          3          0   \n",
       "1              1               1         2          580          2          0   \n",
       "2              1               0         2          795          2          1   \n",
       "\n",
       "          poss_status      location     price  \n",
       "0  Under Construction          Sion  33150000  \n",
       "1  Under Construction  Navghar Road  11054551  \n",
       "2  Under Construction  Andheri East  25000000  "
      ]
     },
     "execution_count": 55,
     "metadata": {},
     "output_type": "execute_result"
    }
   ],
   "source": [
    "df_encoded = df\n",
    "\n",
    "df_encoded['property_type'] = df['property_type'].map({'Resale':0 , 'New Property':1})\n",
    "df_encoded['furnish_status'] = df['furnish_status'].map({'Unfurnished':0, 'Semi-Furnished':1, 'Furnished':2})\n",
    "\n",
    "df_encoded.head(3)"
   ]
  },
  {
   "cell_type": "markdown",
   "metadata": {},
   "source": [
    "### Encoding location using Target encoding."
   ]
  },
  {
   "cell_type": "code",
   "execution_count": 56,
   "metadata": {},
   "outputs": [
    {
     "data": {
      "text/html": [
       "<div>\n",
       "<style scoped>\n",
       "    .dataframe tbody tr th:only-of-type {\n",
       "        vertical-align: middle;\n",
       "    }\n",
       "\n",
       "    .dataframe tbody tr th {\n",
       "        vertical-align: top;\n",
       "    }\n",
       "\n",
       "    .dataframe thead th {\n",
       "        text-align: right;\n",
       "    }\n",
       "</style>\n",
       "<table border=\"1\" class=\"dataframe\">\n",
       "  <thead>\n",
       "    <tr style=\"text-align: right;\">\n",
       "      <th></th>\n",
       "      <th>property_type</th>\n",
       "      <th>furnish_status</th>\n",
       "      <th>bedrooms</th>\n",
       "      <th>carpet_area</th>\n",
       "      <th>bathrooms</th>\n",
       "      <th>balconies</th>\n",
       "      <th>poss_status</th>\n",
       "      <th>price</th>\n",
       "      <th>location_encoded</th>\n",
       "    </tr>\n",
       "  </thead>\n",
       "  <tbody>\n",
       "    <tr>\n",
       "      <th>0</th>\n",
       "      <td>1</td>\n",
       "      <td>0</td>\n",
       "      <td>3</td>\n",
       "      <td>992</td>\n",
       "      <td>3</td>\n",
       "      <td>0</td>\n",
       "      <td>Under Construction</td>\n",
       "      <td>33150000</td>\n",
       "      <td>32779556</td>\n",
       "    </tr>\n",
       "    <tr>\n",
       "      <th>1</th>\n",
       "      <td>1</td>\n",
       "      <td>1</td>\n",
       "      <td>2</td>\n",
       "      <td>580</td>\n",
       "      <td>2</td>\n",
       "      <td>0</td>\n",
       "      <td>Under Construction</td>\n",
       "      <td>11054551</td>\n",
       "      <td>8077119</td>\n",
       "    </tr>\n",
       "    <tr>\n",
       "      <th>2</th>\n",
       "      <td>1</td>\n",
       "      <td>0</td>\n",
       "      <td>2</td>\n",
       "      <td>795</td>\n",
       "      <td>2</td>\n",
       "      <td>1</td>\n",
       "      <td>Under Construction</td>\n",
       "      <td>25000000</td>\n",
       "      <td>20388417</td>\n",
       "    </tr>\n",
       "  </tbody>\n",
       "</table>\n",
       "</div>"
      ],
      "text/plain": [
       "   property_type  furnish_status  bedrooms  carpet_area  bathrooms  balconies  \\\n",
       "0              1               0         3          992          3          0   \n",
       "1              1               1         2          580          2          0   \n",
       "2              1               0         2          795          2          1   \n",
       "\n",
       "          poss_status     price  location_encoded  \n",
       "0  Under Construction  33150000          32779556  \n",
       "1  Under Construction  11054551           8077119  \n",
       "2  Under Construction  25000000          20388417  "
      ]
     },
     "execution_count": 56,
     "metadata": {},
     "output_type": "execute_result"
    }
   ],
   "source": [
    "# Save all unique locations \n",
    "location_names = df_encoded['location'].unique().tolist()\n",
    "\n",
    "# Save mapping of location → mean price\n",
    "location_encoding_map = df_encoded.groupby('location')['price'].mean().astype('int').to_dict()\n",
    "\n",
    "avg_price_location = df_encoded.groupby('location')['price'].mean().astype('int')\n",
    "\n",
    "df_encoded['location_encoded'] = df_encoded['location'].map(avg_price_location)\n",
    "df_encoded.drop('location',axis=1,inplace=True)\n",
    "df_encoded.head(3)"
   ]
  },
  {
   "cell_type": "markdown",
   "metadata": {},
   "source": [
    "### Generated feature area_per_bedroom to capture spaciousness."
   ]
  },
  {
   "cell_type": "code",
   "execution_count": 57,
   "metadata": {},
   "outputs": [
    {
     "data": {
      "text/html": [
       "<div>\n",
       "<style scoped>\n",
       "    .dataframe tbody tr th:only-of-type {\n",
       "        vertical-align: middle;\n",
       "    }\n",
       "\n",
       "    .dataframe tbody tr th {\n",
       "        vertical-align: top;\n",
       "    }\n",
       "\n",
       "    .dataframe thead th {\n",
       "        text-align: right;\n",
       "    }\n",
       "</style>\n",
       "<table border=\"1\" class=\"dataframe\">\n",
       "  <thead>\n",
       "    <tr style=\"text-align: right;\">\n",
       "      <th></th>\n",
       "      <th>property_type</th>\n",
       "      <th>furnish_status</th>\n",
       "      <th>bedrooms</th>\n",
       "      <th>carpet_area</th>\n",
       "      <th>bathrooms</th>\n",
       "      <th>balconies</th>\n",
       "      <th>poss_status</th>\n",
       "      <th>price</th>\n",
       "      <th>location_encoded</th>\n",
       "      <th>area_per_bedroom</th>\n",
       "    </tr>\n",
       "  </thead>\n",
       "  <tbody>\n",
       "    <tr>\n",
       "      <th>0</th>\n",
       "      <td>1</td>\n",
       "      <td>0</td>\n",
       "      <td>3</td>\n",
       "      <td>992</td>\n",
       "      <td>3</td>\n",
       "      <td>0</td>\n",
       "      <td>Under Construction</td>\n",
       "      <td>33150000</td>\n",
       "      <td>32779556</td>\n",
       "      <td>330.666667</td>\n",
       "    </tr>\n",
       "    <tr>\n",
       "      <th>1</th>\n",
       "      <td>1</td>\n",
       "      <td>1</td>\n",
       "      <td>2</td>\n",
       "      <td>580</td>\n",
       "      <td>2</td>\n",
       "      <td>0</td>\n",
       "      <td>Under Construction</td>\n",
       "      <td>11054551</td>\n",
       "      <td>8077119</td>\n",
       "      <td>290.0</td>\n",
       "    </tr>\n",
       "    <tr>\n",
       "      <th>2</th>\n",
       "      <td>1</td>\n",
       "      <td>0</td>\n",
       "      <td>2</td>\n",
       "      <td>795</td>\n",
       "      <td>2</td>\n",
       "      <td>1</td>\n",
       "      <td>Under Construction</td>\n",
       "      <td>25000000</td>\n",
       "      <td>20388417</td>\n",
       "      <td>397.5</td>\n",
       "    </tr>\n",
       "  </tbody>\n",
       "</table>\n",
       "</div>"
      ],
      "text/plain": [
       "   property_type  furnish_status  bedrooms  carpet_area  bathrooms  balconies  \\\n",
       "0              1               0         3          992          3          0   \n",
       "1              1               1         2          580          2          0   \n",
       "2              1               0         2          795          2          1   \n",
       "\n",
       "          poss_status     price  location_encoded  area_per_bedroom  \n",
       "0  Under Construction  33150000          32779556        330.666667  \n",
       "1  Under Construction  11054551           8077119             290.0  \n",
       "2  Under Construction  25000000          20388417             397.5  "
      ]
     },
     "execution_count": 57,
     "metadata": {},
     "output_type": "execute_result"
    }
   ],
   "source": [
    "df_encoded['area_per_bedroom'] = df_encoded['carpet_area'] / df_encoded['bedrooms'].astype('int')\n",
    "df_encoded.head(3)"
   ]
  },
  {
   "cell_type": "code",
   "execution_count": 58,
   "metadata": {},
   "outputs": [
    {
     "data": {
      "image/png": "[encoded data removed]",
      "text/plain": [
       "<Figure size 900x400 with 2 Axes>"
      ]
     },
     "metadata": {},
     "output_type": "display_data"
    }
   ],
   "source": [
    "numeric_cols = df_encoded.select_dtypes(exclude=['object']).columns\n",
    "\n",
    "cm = df[numeric_cols].corr()\n",
    "plt.figure(figsize=(9,4))\n",
    "plt.title(\"Co-Relation Matrix\")\n",
    "sns.heatmap(cm,annot=True,cmap='viridis')\n",
    "plt.show()"
   ]
  },
  {
   "cell_type": "code",
   "execution_count": 59,
   "metadata": {},
   "outputs": [
    {
     "data": {
      "text/html": [
       "<div>\n",
       "<style scoped>\n",
       "    .dataframe tbody tr th:only-of-type {\n",
       "        vertical-align: middle;\n",
       "    }\n",
       "\n",
       "    .dataframe tbody tr th {\n",
       "        vertical-align: top;\n",
       "    }\n",
       "\n",
       "    .dataframe thead th {\n",
       "        text-align: right;\n",
       "    }\n",
       "</style>\n",
       "<table border=\"1\" class=\"dataframe\">\n",
       "  <thead>\n",
       "    <tr style=\"text-align: right;\">\n",
       "      <th></th>\n",
       "      <th>property_type</th>\n",
       "      <th>furnish_status</th>\n",
       "      <th>bedrooms</th>\n",
       "      <th>carpet_area</th>\n",
       "      <th>bathrooms</th>\n",
       "      <th>balconies</th>\n",
       "      <th>price</th>\n",
       "      <th>location_encoded</th>\n",
       "      <th>area_per_bedroom</th>\n",
       "    </tr>\n",
       "  </thead>\n",
       "  <tbody>\n",
       "    <tr>\n",
       "      <th>0</th>\n",
       "      <td>1</td>\n",
       "      <td>0</td>\n",
       "      <td>3</td>\n",
       "      <td>992</td>\n",
       "      <td>3</td>\n",
       "      <td>0</td>\n",
       "      <td>33150000</td>\n",
       "      <td>32779556</td>\n",
       "      <td>330.666667</td>\n",
       "    </tr>\n",
       "    <tr>\n",
       "      <th>1</th>\n",
       "      <td>1</td>\n",
       "      <td>1</td>\n",
       "      <td>2</td>\n",
       "      <td>580</td>\n",
       "      <td>2</td>\n",
       "      <td>0</td>\n",
       "      <td>11054551</td>\n",
       "      <td>8077119</td>\n",
       "      <td>290.0</td>\n",
       "    </tr>\n",
       "  </tbody>\n",
       "</table>\n",
       "</div>"
      ],
      "text/plain": [
       "   property_type  furnish_status  bedrooms  carpet_area  bathrooms  balconies  \\\n",
       "0              1               0         3          992          3          0   \n",
       "1              1               1         2          580          2          0   \n",
       "\n",
       "      price  location_encoded  area_per_bedroom  \n",
       "0  33150000          32779556        330.666667  \n",
       "1  11054551           8077119             290.0  "
      ]
     },
     "execution_count": 59,
     "metadata": {},
     "output_type": "execute_result"
    }
   ],
   "source": [
    "df_encoded = df_encoded.drop('poss_status',axis=1)\n",
    "df_encoded.head(2)"
   ]
  },
  {
   "cell_type": "code",
   "execution_count": null,
   "metadata": {},
   "outputs": [],
   "source": []
  },
  {
   "cell_type": "markdown",
   "metadata": {},
   "source": [
    "## Model Training:"
   ]
  },
  {
   "cell_type": "code",
   "execution_count": 60,
   "metadata": {},
   "outputs": [
    {
     "name": "stdout",
     "output_type": "stream",
     "text": [
      "(52870, 10)\n",
      "X_train and X_test (37009, 8) (15861, 8)\n",
      "y_train and y_test (37009,) (15861,)\n"
     ]
    }
   ],
   "source": [
    "X = df_encoded.drop('price',axis=1)\n",
    "y = df['price']\n",
    "\n",
    "X_train,X_test,y_train,y_test = train_test_split(X,y,test_size=0.30,random_state=42)\n",
    "\n",
    "print(df.shape)\n",
    "print(\"X_train and X_test\", X_train.shape,X_test.shape)\n",
    "print(\"y_train and y_test\" ,y_train.shape,y_test.shape)"
   ]
  },
  {
   "cell_type": "code",
   "execution_count": 61,
   "metadata": {},
   "outputs": [],
   "source": [
    "# Lets create a custom function for model training and calculating the metrics:\n",
    "\n",
    "def calculate(model):\n",
    "     model.fit(X_train,y_train)\n",
    "     y_pred = model.predict(X_test)\n",
    "     \n",
    "     train_score = model.score(X_train,y_train)\n",
    "     test_score = model.score(X_test,y_test)\n",
    "     mse = mean_squared_error(y_test,y_pred)\n",
    "     rmse = np.sqrt(mse)\n",
    "     r2 = r2_score(y_test,y_pred)\n",
    "\n",
    "     print( f\"Model => {model} \")\n",
    "     \n",
    "     print(f\"train score = {round(train_score,2)}\")\n",
    "     print(f\"test score = {round(test_score,2)}\")\n",
    "     print(f\"Rmse = {round(rmse,2)}\" )\n",
    "     print(f\"r2 score = {round(r2,2)}\")\n",
    "     "
   ]
  },
  {
   "cell_type": "code",
   "execution_count": 62,
   "metadata": {},
   "outputs": [
    {
     "name": "stdout",
     "output_type": "stream",
     "text": [
      "Model => LinearRegression() \n",
      "train score = 0.94\n",
      "test score = 0.93\n",
      "Rmse = 8946329.35\n",
      "r2 score = 0.93\n"
     ]
    }
   ],
   "source": [
    "calculate(LinearRegression())"
   ]
  },
  {
   "cell_type": "code",
   "execution_count": 63,
   "metadata": {},
   "outputs": [
    {
     "name": "stdout",
     "output_type": "stream",
     "text": [
      "Model => Ridge() \n",
      "train score = 0.94\n",
      "test score = 0.93\n",
      "Rmse = 8946285.28\n",
      "r2 score = 0.93\n"
     ]
    }
   ],
   "source": [
    "calculate(Ridge())"
   ]
  },
  {
   "cell_type": "code",
   "execution_count": 64,
   "metadata": {},
   "outputs": [],
   "source": [
    "# calculate(RandomForestRegressor())"
   ]
  },
  {
   "cell_type": "code",
   "execution_count": 65,
   "metadata": {},
   "outputs": [
    {
     "name": "stdout",
     "output_type": "stream",
     "text": [
      "Model => XGBRegressor(base_score=None, booster=None, callbacks=None,\n",
      "             colsample_bylevel=None, colsample_bynode=None,\n",
      "             colsample_bytree=None, device=None, early_stopping_rounds=None,\n",
      "             enable_categorical=False, eval_metric=None, feature_types=None,\n",
      "             gamma=None, grow_policy=None, importance_type=None,\n",
      "             interaction_constraints=None, learning_rate=None, max_bin=None,\n",
      "             max_cat_threshold=None, max_cat_to_onehot=None,\n",
      "             max_delta_step=None, max_depth=None, max_leaves=None,\n",
      "             min_child_weight=None, missing=nan, monotone_constraints=None,\n",
      "             multi_strategy=None, n_estimators=None, n_jobs=None,\n",
      "             num_parallel_tree=None, random_state=None, ...) \n",
      "train score = 1.0\n",
      "test score = 0.99\n",
      "Rmse = 3209343.26\n",
      "r2 score = 0.99\n"
     ]
    }
   ],
   "source": [
    "calculate(XGBRegressor())"
   ]
  },
  {
   "cell_type": "code",
   "execution_count": null,
   "metadata": {},
   "outputs": [],
   "source": []
  },
  {
   "cell_type": "markdown",
   "metadata": {},
   "source": [
    "## Model Fine Tuning:"
   ]
  },
  {
   "cell_type": "code",
   "execution_count": 66,
   "metadata": {},
   "outputs": [],
   "source": [
    "# Fine tuning Random forest \n",
    "rf_params = {\n",
    "    'n_estimators': 1000,\n",
    "    'max_depth': 20,\n",
    "    'min_samples_split': 4,\n",
    "    'min_samples_leaf': 2,\n",
    "    'bootstrap': False\n",
    "}\n",
    "\n",
    "# calculate(RandomForestRegressor(**rf_params,random_state=42))"
   ]
  },
  {
   "cell_type": "code",
   "execution_count": 67,
   "metadata": {},
   "outputs": [
    {
     "name": "stdout",
     "output_type": "stream",
     "text": [
      "Model => XGBRegressor(base_score=None, booster=None, callbacks=None,\n",
      "             colsample_bylevel=None, colsample_bynode=None,\n",
      "             colsample_bytree=0.9, device=None, early_stopping_rounds=None,\n",
      "             enable_categorical=False, eval_metric=None, feature_types=None,\n",
      "             gamma=None, grow_policy=None, importance_type=None,\n",
      "             interaction_constraints=None, learning_rate=0.01, max_bin=None,\n",
      "             max_cat_threshold=None, max_cat_to_onehot=None,\n",
      "             max_delta_step=None, max_depth=6, max_leaves=None,\n",
      "             min_child_weight=None, missing=nan, monotone_constraints=None,\n",
      "             multi_strategy=None, n_estimators=1000, n_jobs=None,\n",
      "             num_parallel_tree=None, random_state=None, ...) \n",
      "train score = 1.0\n",
      "test score = 0.99\n",
      "Rmse = 3153342.45\n",
      "r2 score = 0.99\n"
     ]
    }
   ],
   "source": [
    "# Fine tuning XGboost\n",
    "xgb_params = {\n",
    "    'n_estimators': 1000,\n",
    "    'learning_rate': 0.01,\n",
    "    'max_depth': 6,\n",
    "    'subsample': 0.9,\n",
    "    'colsample_bytree': 0.9,\n",
    "}\n",
    "\n",
    "calculate(XGBRegressor(**xgb_params))"
   ]
  },
  {
   "cell_type": "code",
   "execution_count": null,
   "metadata": {},
   "outputs": [],
   "source": []
  },
  {
   "cell_type": "markdown",
   "metadata": {},
   "source": [
    "## Error margin:"
   ]
  },
  {
   "cell_type": "code",
   "execution_count": 68,
   "metadata": {},
   "outputs": [
    {
     "data": {
      "text/plain": [
       "Index(['property_type', 'furnish_status', 'bedrooms', 'carpet_area',\n",
       "       'bathrooms', 'balconies', 'location_encoded', 'area_per_bedroom'],\n",
       "      dtype='object')"
      ]
     },
     "execution_count": 68,
     "metadata": {},
     "output_type": "execute_result"
    }
   ],
   "source": [
    "X_train.columns"
   ]
  },
  {
   "cell_type": "code",
   "execution_count": 69,
   "metadata": {},
   "outputs": [
    {
     "data": {
      "text/html": [
       "<div>\n",
       "<style scoped>\n",
       "    .dataframe tbody tr th:only-of-type {\n",
       "        vertical-align: middle;\n",
       "    }\n",
       "\n",
       "    .dataframe tbody tr th {\n",
       "        vertical-align: top;\n",
       "    }\n",
       "\n",
       "    .dataframe thead th {\n",
       "        text-align: right;\n",
       "    }\n",
       "</style>\n",
       "<table border=\"1\" class=\"dataframe\">\n",
       "  <thead>\n",
       "    <tr style=\"text-align: right;\">\n",
       "      <th></th>\n",
       "      <th>Actual_value</th>\n",
       "      <th>predicted_value</th>\n",
       "      <th>diff</th>\n",
       "      <th>diff_pct</th>\n",
       "    </tr>\n",
       "  </thead>\n",
       "  <tbody>\n",
       "    <tr>\n",
       "      <th>56405</th>\n",
       "      <td>36500000</td>\n",
       "      <td>36427044.0</td>\n",
       "      <td>-72956.0</td>\n",
       "      <td>-0.199879</td>\n",
       "    </tr>\n",
       "    <tr>\n",
       "      <th>17771</th>\n",
       "      <td>26700000</td>\n",
       "      <td>26738904.0</td>\n",
       "      <td>38904.0</td>\n",
       "      <td>0.145708</td>\n",
       "    </tr>\n",
       "    <tr>\n",
       "      <th>13982</th>\n",
       "      <td>20400000</td>\n",
       "      <td>20409584.0</td>\n",
       "      <td>9584.0</td>\n",
       "      <td>0.04698</td>\n",
       "    </tr>\n",
       "  </tbody>\n",
       "</table>\n",
       "</div>"
      ],
      "text/plain": [
       "       Actual_value  predicted_value     diff  diff_pct\n",
       "56405      36500000       36427044.0 -72956.0 -0.199879\n",
       "17771      26700000       26738904.0  38904.0  0.145708\n",
       "13982      20400000       20409584.0   9584.0   0.04698"
      ]
     },
     "execution_count": 69,
     "metadata": {},
     "output_type": "execute_result"
    }
   ],
   "source": [
    "best_model = XGBRegressor(**xgb_params)\n",
    "best_model.fit(X_train,y_train)\n",
    "\n",
    "y_pred = best_model.predict(X_test)\n",
    "\n",
    "residuals = y_pred - y_test\n",
    "residuals_pct =  residuals *100 / y_test\n",
    "\n",
    "results_df = pd.DataFrame(\n",
    "    {'Actual_value': y_test,\n",
    "    'predicted_value': y_pred,\n",
    "    'diff': residuals,\n",
    "    'diff_pct': residuals_pct\n",
    "    }\n",
    ")\n",
    "\n",
    "results_df.head(3)"
   ]
  },
  {
   "cell_type": "markdown",
   "metadata": {},
   "source": [
    "### Feature Importance:"
   ]
  },
  {
   "cell_type": "code",
   "execution_count": 70,
   "metadata": {},
   "outputs": [
    {
     "data": {
      "image/png": "[encoded data removed]",
      "text/plain": [
       "<Figure size 640x480 with 1 Axes>"
      ]
     },
     "metadata": {},
     "output_type": "display_data"
    }
   ],
   "source": [
    "from xgboost import plot_importance\n",
    "plot_importance(best_model)\n",
    "plt.show()"
   ]
  },
  {
   "cell_type": "code",
   "execution_count": 71,
   "metadata": {},
   "outputs": [
    {
     "data": {
      "text/plain": [
       "count        15861.0\n",
       "mean        3.220763\n",
       "std        26.206752\n",
       "min         0.003071\n",
       "25%         0.046143\n",
       "50%         0.171621\n",
       "75%         0.361324\n",
       "max      1234.532681\n",
       "Name: diff_pct, dtype: Float64"
      ]
     },
     "execution_count": 71,
     "metadata": {},
     "output_type": "execute_result"
    }
   ],
   "source": [
    "np.abs(results_df['diff_pct']).describe()"
   ]
  },
  {
   "cell_type": "code",
   "execution_count": 72,
   "metadata": {},
   "outputs": [
    {
     "data": {
      "text/plain": [
       "(986, 4)"
      ]
     },
     "execution_count": 72,
     "metadata": {},
     "output_type": "execute_result"
    }
   ],
   "source": [
    "results_df[np.abs(results_df['diff_pct']) > 10].shape"
   ]
  },
  {
   "cell_type": "code",
   "execution_count": 73,
   "metadata": {},
   "outputs": [
    {
     "name": "stdout",
     "output_type": "stream",
     "text": [
      "(986, 4)\n"
     ]
    },
    {
     "data": {
      "text/html": [
       "<div>\n",
       "<style scoped>\n",
       "    .dataframe tbody tr th:only-of-type {\n",
       "        vertical-align: middle;\n",
       "    }\n",
       "\n",
       "    .dataframe tbody tr th {\n",
       "        vertical-align: top;\n",
       "    }\n",
       "\n",
       "    .dataframe thead th {\n",
       "        text-align: right;\n",
       "    }\n",
       "</style>\n",
       "<table border=\"1\" class=\"dataframe\">\n",
       "  <thead>\n",
       "    <tr style=\"text-align: right;\">\n",
       "      <th></th>\n",
       "      <th>Actual_value</th>\n",
       "      <th>predicted_value</th>\n",
       "      <th>diff</th>\n",
       "      <th>diff_pct</th>\n",
       "    </tr>\n",
       "  </thead>\n",
       "  <tbody>\n",
       "    <tr>\n",
       "      <th>3557</th>\n",
       "      <td>61218107</td>\n",
       "      <td>15194868.0</td>\n",
       "      <td>-46023239.0</td>\n",
       "      <td>-75.179128</td>\n",
       "    </tr>\n",
       "    <tr>\n",
       "      <th>1022</th>\n",
       "      <td>24800000</td>\n",
       "      <td>30005504.0</td>\n",
       "      <td>5205504.0</td>\n",
       "      <td>20.989935</td>\n",
       "    </tr>\n",
       "    <tr>\n",
       "      <th>3001</th>\n",
       "      <td>8000000</td>\n",
       "      <td>6247343.5</td>\n",
       "      <td>-1752656.5</td>\n",
       "      <td>-21.908206</td>\n",
       "    </tr>\n",
       "    <tr>\n",
       "      <th>7130</th>\n",
       "      <td>130000000</td>\n",
       "      <td>59741368.0</td>\n",
       "      <td>-70258632.0</td>\n",
       "      <td>-54.045102</td>\n",
       "    </tr>\n",
       "    <tr>\n",
       "      <th>3510</th>\n",
       "      <td>9500000</td>\n",
       "      <td>12825162.0</td>\n",
       "      <td>3325162.0</td>\n",
       "      <td>35.001705</td>\n",
       "    </tr>\n",
       "  </tbody>\n",
       "</table>\n",
       "</div>"
      ],
      "text/plain": [
       "      Actual_value  predicted_value        diff   diff_pct\n",
       "3557      61218107       15194868.0 -46023239.0 -75.179128\n",
       "1022      24800000       30005504.0   5205504.0  20.989935\n",
       "3001       8000000        6247343.5  -1752656.5 -21.908206\n",
       "7130     130000000       59741368.0 -70258632.0 -54.045102\n",
       "3510       9500000       12825162.0   3325162.0  35.001705"
      ]
     },
     "execution_count": 73,
     "metadata": {},
     "output_type": "execute_result"
    }
   ],
   "source": [
    "extreme_error_threshold = 10  # Threshold of 10% to calculate errors more than 10%.\n",
    "extreme_results_df = results_df[np.abs(results_df['diff_pct']) > extreme_error_threshold]\n",
    "print(extreme_results_df.shape)\n",
    "extreme_results_df.head()"
   ]
  },
  {
   "cell_type": "code",
   "execution_count": 74,
   "metadata": {},
   "outputs": [
    {
     "data": {
      "text/plain": [
       "6.216505894962487"
      ]
     },
     "execution_count": 74,
     "metadata": {},
     "output_type": "execute_result"
    }
   ],
   "source": [
    "extreme_errors_pct = extreme_results_df.shape[0]*100/X_test.shape[0]\n",
    "extreme_errors_pct"
   ]
  },
  {
   "cell_type": "markdown",
   "metadata": {},
   "source": [
    "#### For Error margin of more than 10% we have less than 1000 rows."
   ]
  },
  {
   "cell_type": "markdown",
   "metadata": {},
   "source": [
    "#### This means for 6.2% of flats we will predict the price by more or less than 10%"
   ]
  },
  {
   "cell_type": "code",
   "execution_count": null,
   "metadata": {},
   "outputs": [],
   "source": []
  },
  {
   "cell_type": "markdown",
   "metadata": {},
   "source": [
    "### Sample Predictions on new data points:"
   ]
  },
  {
   "cell_type": "code",
   "execution_count": 75,
   "metadata": {},
   "outputs": [
    {
     "data": {
      "text/html": [
       "<div>\n",
       "<style scoped>\n",
       "    .dataframe tbody tr th:only-of-type {\n",
       "        vertical-align: middle;\n",
       "    }\n",
       "\n",
       "    .dataframe tbody tr th {\n",
       "        vertical-align: top;\n",
       "    }\n",
       "\n",
       "    .dataframe thead th {\n",
       "        text-align: right;\n",
       "    }\n",
       "</style>\n",
       "<table border=\"1\" class=\"dataframe\">\n",
       "  <thead>\n",
       "    <tr style=\"text-align: right;\">\n",
       "      <th></th>\n",
       "      <th>property_type</th>\n",
       "      <th>furnish_status</th>\n",
       "      <th>bedrooms</th>\n",
       "      <th>carpet_area</th>\n",
       "      <th>bathrooms</th>\n",
       "      <th>balconies</th>\n",
       "      <th>price</th>\n",
       "      <th>location_encoded</th>\n",
       "      <th>area_per_bedroom</th>\n",
       "    </tr>\n",
       "  </thead>\n",
       "  <tbody>\n",
       "    <tr>\n",
       "      <th>0</th>\n",
       "      <td>1</td>\n",
       "      <td>0</td>\n",
       "      <td>3</td>\n",
       "      <td>992</td>\n",
       "      <td>3</td>\n",
       "      <td>0</td>\n",
       "      <td>33150000</td>\n",
       "      <td>32779556</td>\n",
       "      <td>330.666667</td>\n",
       "    </tr>\n",
       "  </tbody>\n",
       "</table>\n",
       "</div>"
      ],
      "text/plain": [
       "   property_type  furnish_status  bedrooms  carpet_area  bathrooms  balconies  \\\n",
       "0              1               0         3          992          3          0   \n",
       "\n",
       "      price  location_encoded  area_per_bedroom  \n",
       "0  33150000          32779556        330.666667  "
      ]
     },
     "execution_count": 75,
     "metadata": {},
     "output_type": "execute_result"
    }
   ],
   "source": [
    "df_encoded.head(1)"
   ]
  },
  {
   "cell_type": "code",
   "execution_count": 76,
   "metadata": {},
   "outputs": [
    {
     "name": "stdout",
     "output_type": "stream",
     "text": [
      "Predcited Price =  32823690.0\n"
     ]
    }
   ],
   "source": [
    "test_sample = {\n",
    "    \"property_type\": 1,         # Example: 1 for resale, 0 for new\n",
    "    \"furnish_status\": 0,        # Example: 0 = Unfurnished, 1 = Semi-furnished, 2 = Fully-furnished\n",
    "    \"bedrooms\": 3,              # Example: 2 BHK\n",
    "    \"carpet_area\": 992,         # Example: 850 sq. ft.\n",
    "    \"bathrooms\": 3,             # Example: 2 bathrooms\n",
    "    \"balconies\": 0,             # Example: 2 balconies\n",
    "    \"location_encoded\": 32779556, # Encoded value for location\n",
    "    \"area_per_bedroom\": 330.666667\n",
    "}\n",
    "\n",
    "test_df = pd.DataFrame([test_sample])\n",
    "predicted_price = best_model.predict(test_df)\n",
    "print(\"Predcited Price = \",predicted_price.item())"
   ]
  },
  {
   "cell_type": "markdown",
   "metadata": {},
   "source": [
    "### Dumping the model and its aritfacts."
   ]
  },
  {
   "cell_type": "code",
   "execution_count": null,
   "metadata": {},
   "outputs": [],
   "source": [
    "X_train.head(1)"
   ]
  },
  {
   "cell_type": "code",
   "execution_count": 77,
   "metadata": {},
   "outputs": [
    {
     "data": {
      "text/plain": [
       "['model.pkl']"
      ]
     },
     "execution_count": 77,
     "metadata": {},
     "output_type": "execute_result"
    }
   ],
   "source": [
    "import joblib\n",
    "\n",
    "dump_data = {\n",
    "    'model': best_model,\n",
    "    'location_names': location_names,\n",
    "    'location_encoding_map': location_encoding_map\n",
    "}\n",
    "\n",
    "joblib.dump(dump_data, 'model.pkl')"
   ]
  },
  {
   "cell_type": "code",
   "execution_count": null,
   "metadata": {},
   "outputs": [],
   "source": []
  }
 ],
 "metadata": {
  "kernelspec": {
   "display_name": "base",
   "language": "python",
   "name": "python3"
  },
  "language_info": {
   "codemirror_mode": {
    "name": "ipython",
    "version": 3
   },
   "file_extension": ".py",
   "mimetype": "text/x-python",
   "name": "python",
   "nbconvert_exporter": "python",
   "pygments_lexer": "ipython3",
   "version": "3.11.5"
  }
 },
 "nbformat": 4,
 "nbformat_minor": 2
}
